{
 "cells": [
  {
   "cell_type": "code",
   "execution_count": 1,
   "metadata": {},
   "outputs": [],
   "source": [
    "from selenium import webdriver\n",
    "import time\n",
    "import pandas as pd\n",
    "import json"
   ]
  },
  {
   "cell_type": "code",
   "execution_count": 7,
   "metadata": {
    "scrolled": true
   },
   "outputs": [],
   "source": [
    "driver = webdriver.Chrome('./chromedriver')\n",
    "driver.maximize_window()"
   ]
  },
  {
   "cell_type": "code",
   "execution_count": 8,
   "metadata": {},
   "outputs": [],
   "source": [
    "driver.get('http://jv.acb.com/es/101266/cartadetiro')\n",
    "driver.implicitly_wait(10)"
   ]
  },
  {
   "cell_type": "markdown",
   "metadata": {},
   "source": [
    "Tener en cuenta que nada más entrar tengo que ir a **jornada** y ya luego empezar el loop"
   ]
  },
  {
   "cell_type": "markdown",
   "metadata": {},
   "source": [
    "### 1.1 Now we are gonna find how to click to pass from a game to another."
   ]
  },
  {
   "cell_type": "code",
   "execution_count": 9,
   "metadata": {},
   "outputs": [],
   "source": [
    "def no_shots():\n",
    "    primer = driver.find_element_by_class_name(\"sm\")\n",
    "    segun = primer.find_elements_by_class_name(\"ge-btn.ge-btn\")\n",
    "    for i in segun:\n",
    "        i.click()"
   ]
  },
  {
   "cell_type": "markdown",
   "metadata": {},
   "source": [
    "### 1.2 We are gonna find the name of the players and, then, collect the information in a dictionary for every shot from every player. "
   ]
  },
  {
   "cell_type": "code",
   "execution_count": 10,
   "metadata": {},
   "outputs": [],
   "source": [
    "def names():\n",
    "    lista = driver.find_elements_by_css_selector(\"td.ta-col.ta-col--name\")\n",
    "    nombres = []\n",
    "    for i in lista:\n",
    "        name = i.text\n",
    "        nombres.append(name)\n",
    "    return nombres"
   ]
  },
  {
   "cell_type": "code",
   "execution_count": 11,
   "metadata": {},
   "outputs": [
    {
     "data": {
      "text/plain": [
       "['',\n",
       " '',\n",
       " '',\n",
       " '',\n",
       " '',\n",
       " '',\n",
       " '',\n",
       " '',\n",
       " '',\n",
       " '',\n",
       " '',\n",
       " '',\n",
       " '',\n",
       " '',\n",
       " '',\n",
       " '',\n",
       " '',\n",
       " '',\n",
       " '',\n",
       " '',\n",
       " '',\n",
       " '']"
      ]
     },
     "execution_count": 11,
     "metadata": {},
     "output_type": "execute_result"
    }
   ],
   "source": [
    "names()"
   ]
  },
  {
   "cell_type": "code",
   "execution_count": 12,
   "metadata": {},
   "outputs": [],
   "source": [
    "#El codigazo para sacar los tiros v.2 \n",
    "def codigazo():\n",
    "    primer = driver.find_element_by_class_name(\"sm\")\n",
    "    segun = primer.find_elements_by_class_name(\"ge-btn.ge-btn\")\n",
    "    for chart in segun:\n",
    "        chart.click()\n",
    "    \n",
    "    pincho = driver.find_elements_by_css_selector(\"td.ta-col.ta-col--name\")\n",
    "    result = {}\n",
    "    gran_reg = []\n",
    "    \n",
    "    for i in pincho:\n",
    "        dentro = []\n",
    "        coord_x = []\n",
    "        coord_y = []\n",
    "        i.click()\n",
    "        time.sleep(1)\n",
    "        a = driver.find_element_by_css_selector(\"div.sm-gra\")\n",
    "        b = a.find_element_by_tag_name(\"svg\")\n",
    "        tiros = b.find_elements_by_tag_name(\"use\")\n",
    "        tiros = tiros[6:] #Siempre es 6!!!!!\n",
    "        for s in tiros:\n",
    "            shot = s.get_attribute(\"xlink:href\")\n",
    "            x = s.get_attribute(\"x\")\n",
    "            y = s.get_attribute(\"y\")\n",
    "            dentro.append(shot)\n",
    "            dentro.append(x)\n",
    "            dentro.append(y)\n",
    "        gran_reg.append(dentro)\n",
    "        i.click()\n",
    "    nombres = names()\n",
    "    mix = list(zip(nombres, gran_reg))\n",
    "    for m in mix:\n",
    "        result[m[0]] = m[1]\n",
    "    return result\n",
    "#Guarda esto con tu vida"
   ]
  },
  {
   "cell_type": "code",
   "execution_count": null,
   "metadata": {},
   "outputs": [],
   "source": [
    "data = codigazo()"
   ]
  },
  {
   "cell_type": "code",
   "execution_count": null,
   "metadata": {},
   "outputs": [],
   "source": [
    "data"
   ]
  },
  {
   "cell_type": "markdown",
   "metadata": {},
   "source": [
    "### 1.3 Now we are gonna find how to go from a game to another"
   ]
  },
  {
   "cell_type": "code",
   "execution_count": 18,
   "metadata": {},
   "outputs": [],
   "source": [
    "#Ya tenemos el shots.csv\n",
    "final = {}\n",
    "for i in range (1, 30):\n",
    "    semana = driver.find_element_by_class_name(\"nav-top-sec-round\").click()\n",
    "    nueva = driver.find_elements_by_class_name(\"nav-opt\")\n",
    "    nueva[-(i)].click()\n",
    "    datos_jornada = {}\n",
    "    intermedio = []\n",
    "    buscador = driver.find_element_by_class_name(\"nav-cont.nav-cont--day\")\n",
    "    jornada = buscador.find_elements_by_class_name(\"nav-day-match\")\n",
    "    for game in jornada:\n",
    "        game.click()\n",
    "        try:\n",
    "            data = codigazo()\n",
    "        except:\n",
    "            \"This game has not started yet.\"\n",
    "        datos_jornada.update(data)\n",
    "    intermedio.append(datos_jornada)\n",
    "    final[i] = intermedio"
   ]
  },
  {
   "cell_type": "code",
   "execution_count": 125,
   "metadata": {},
   "outputs": [
    {
     "ename": "NameError",
     "evalue": "name 'final' is not defined",
     "output_type": "error",
     "traceback": [
      "\u001b[0;31m---------------------------------------------------------------------------\u001b[0m",
      "\u001b[0;31mNameError\u001b[0m                                 Traceback (most recent call last)",
      "\u001b[0;32m<ipython-input-125-b1370a0aad31>\u001b[0m in \u001b[0;36m<module>\u001b[0;34m\u001b[0m\n\u001b[0;32m----> 1\u001b[0;31m \u001b[0mdata_items\u001b[0m \u001b[0;34m=\u001b[0m \u001b[0mfinal\u001b[0m\u001b[0;34m.\u001b[0m\u001b[0mitems\u001b[0m\u001b[0;34m(\u001b[0m\u001b[0;34m)\u001b[0m\u001b[0;34m\u001b[0m\u001b[0;34m\u001b[0m\u001b[0m\n\u001b[0m\u001b[1;32m      2\u001b[0m \u001b[0mdata_list\u001b[0m \u001b[0;34m=\u001b[0m \u001b[0mlist\u001b[0m\u001b[0;34m(\u001b[0m\u001b[0mdata_items\u001b[0m\u001b[0;34m)\u001b[0m\u001b[0;34m\u001b[0m\u001b[0;34m\u001b[0m\u001b[0m\n\u001b[1;32m      3\u001b[0m \u001b[0;34m\u001b[0m\u001b[0m\n\u001b[1;32m      4\u001b[0m \u001b[0mdf\u001b[0m \u001b[0;34m=\u001b[0m \u001b[0mpd\u001b[0m\u001b[0;34m.\u001b[0m\u001b[0mDataFrame\u001b[0m\u001b[0;34m(\u001b[0m\u001b[0mdata_list\u001b[0m\u001b[0;34m)\u001b[0m\u001b[0;34m\u001b[0m\u001b[0;34m\u001b[0m\u001b[0m\n",
      "\u001b[0;31mNameError\u001b[0m: name 'final' is not defined"
     ]
    }
   ],
   "source": [
    "data_items = final.items()\n",
    "data_list = list(data_items)\n",
    "\n",
    "df = pd.DataFrame(data_list)"
   ]
  },
  {
   "cell_type": "code",
   "execution_count": 4,
   "metadata": {},
   "outputs": [],
   "source": [
    "df.to_csv(\"shots_v1.csv\")"
   ]
  },
  {
   "cell_type": "code",
   "execution_count": null,
   "metadata": {},
   "outputs": [],
   "source": []
  }
 ],
 "metadata": {
  "kernelspec": {
   "display_name": "ironhac",
   "language": "python",
   "name": "ironhac"
  },
  "language_info": {
   "codemirror_mode": {
    "name": "ipython",
    "version": 3
   },
   "file_extension": ".py",
   "mimetype": "text/x-python",
   "name": "python",
   "nbconvert_exporter": "python",
   "pygments_lexer": "ipython3",
   "version": "3.8.2"
  }
 },
 "nbformat": 4,
 "nbformat_minor": 2
}
