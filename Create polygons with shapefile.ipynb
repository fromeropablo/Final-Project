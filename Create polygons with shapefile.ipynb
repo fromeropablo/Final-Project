{
 "cells": [
  {
   "cell_type": "code",
   "execution_count": 64,
   "metadata": {},
   "outputs": [],
   "source": [
    "#!pip install pyshp\n",
    "import shapefile\n",
    "import geopandas as gpd\n",
    "import pandas as pd"
   ]
  },
  {
   "cell_type": "code",
   "execution_count": 3,
   "metadata": {},
   "outputs": [],
   "source": [
    "w = shapefile.Writer('shapefiles/test/polygon')\n",
    "w.field('name', 'C')\n",
    "\n",
    "w.poly([\n",
    "[[113,24], [112,32], [117,36], [122,37], [118,20]], # poly 1\n",
    "[[116,29],[116,26],[119,29],[119,32]], # hole 1\n",
    "[[15,2], [17,6], [22,7]]  # poly 2\n",
    "       ])\n",
    "w.record('polygon1')\n",
    "w.close()"
   ]
  },
  {
   "cell_type": "code",
   "execution_count": 5,
   "metadata": {},
   "outputs": [
    {
     "ename": "NameError",
     "evalue": "name 'polygon1' is not defined",
     "output_type": "error",
     "traceback": [
      "\u001b[0;31m---------------------------------------------------------------------------\u001b[0m",
      "\u001b[0;31mNameError\u001b[0m                                 Traceback (most recent call last)",
      "\u001b[0;32m<ipython-input-5-fb521e65a5a1>\u001b[0m in \u001b[0;36m<module>\u001b[0;34m\u001b[0m\n\u001b[0;32m----> 1\u001b[0;31m \u001b[0mpolygon1\u001b[0m\u001b[0;34m\u001b[0m\u001b[0;34m\u001b[0m\u001b[0m\n\u001b[0m",
      "\u001b[0;31mNameError\u001b[0m: name 'polygon1' is not defined"
     ]
    }
   ],
   "source": [
    "polygon1"
   ]
  },
  {
   "cell_type": "markdown",
   "metadata": {},
   "source": [
    "### Polygon 1 "
   ]
  },
  {
   "cell_type": "code",
   "execution_count": 119,
   "metadata": {},
   "outputs": [],
   "source": [
    "# Create a polygon shapefile\n",
    "w = shapefile.Writer('shapefiles/test/polygon1')\n",
    "w.field('name', 'C')\n",
    "w.poly([[[0.00, -285.00],[39.76, -285.00],[39.76, -259.00],[0.00, -259.00]]])\n",
    "w.record('polygon1')\n",
    "w.close()"
   ]
  },
  {
   "cell_type": "markdown",
   "metadata": {},
   "source": [
    "### Polygon 12, simmetry with polygon 1 "
   ]
  },
  {
   "cell_type": "code",
   "execution_count": 121,
   "metadata": {},
   "outputs": [],
   "source": [
    "w = shapefile.Writer('shapefiles/test/polygon12')\n",
    "w.field('name', 'C')\n",
    "w.poly([[[0.00, 0.00],[0.00, -26.00],[39.76, 0.00],[39.76, -26.00]]])\n",
    "w.record('polygon12')\n",
    "w.close()"
   ]
  },
  {
   "cell_type": "markdown",
   "metadata": {},
   "source": [
    "### Polygon 2"
   ]
  },
  {
   "cell_type": "code",
   "execution_count": 122,
   "metadata": {},
   "outputs": [],
   "source": [
    "w = shapefile.Writer('shapefiles/test/polygon2')\n",
    "w.field('name', 'C')\n",
    "w.poly([[[0.00, -100.36],[0.00, -141.25],[100.97, -141.25],[100.97, -100.36]]])\n",
    "w.record('polygon2')\n",
    "w.close()"
   ]
  },
  {
   "cell_type": "markdown",
   "metadata": {},
   "source": [
    "### Polygon 11, simmetry with polygon 2"
   ]
  },
  {
   "cell_type": "code",
   "execution_count": 123,
   "metadata": {},
   "outputs": [],
   "source": [
    "w = shapefile.Writer('shapefiles/test/polygon11')\n",
    "w.field('name', 'C')\n",
    "w.poly([[[0.00, -141.25],[0.00, -185.14],[100.97, -141.25],[100.97, -185.14]]])\n",
    "w.record('polygon11')\n",
    "w.close()"
   ]
  },
  {
   "cell_type": "markdown",
   "metadata": {},
   "source": [
    "### Polygon 3"
   ]
  },
  {
   "cell_type": "code",
   "execution_count": 160,
   "metadata": {},
   "outputs": [
    {
     "ename": "SyntaxError",
     "evalue": "closing parenthesis ')' does not match opening parenthesis '[' (<ipython-input-160-bb0773b8ef15>, line 3)",
     "output_type": "error",
     "traceback": [
      "\u001b[0;36m  File \u001b[0;32m\"<ipython-input-160-bb0773b8ef15>\"\u001b[0;36m, line \u001b[0;32m3\u001b[0m\n\u001b[0;31m    w.poly([[[39.76, -285.00],[200, -285],[200, -236.28],[105.26, -236.28],[101.32, -240],[97.37, -243],[85.25, -249.3],[77.98, -252],[68.24, -256.05],[63.78[55, -257.7],[49.04, -258.50],[39.76, -259.00]]])\u001b[0m\n\u001b[0m                                                                                                                                                                                                             ^\u001b[0m\n\u001b[0;31mSyntaxError\u001b[0m\u001b[0;31m:\u001b[0m closing parenthesis ')' does not match opening parenthesis '['\n"
     ]
    }
   ],
   "source": [
    "w = shapefile.Writer('shapefiles/test/polygon3')\n",
    "w.field('name', 'C')\n",
    "w.poly([[[39.76, -285.00],[200, -285],[200, -236.28],[105.26, -236.28],[101.32, 237.50],[97.37, -243],[85.25, -249.3],[77.98, -252],[68.24, -256.05],[55, -257.7],[49.04, -258.50],[39.76, -259.00]]])\n",
    "w.record('polygon3')\n",
    "w.close()"
   ]
  },
  {
   "cell_type": "markdown",
   "metadata": {},
   "source": [
    "### Polygon 10, simmetry with polygon 3"
   ]
  },
  {
   "cell_type": "code",
   "execution_count": null,
   "metadata": {},
   "outputs": [],
   "source": [
    "w = shapefile.Writer('shapefiles/test/polygon10')\n",
    "w.field('name', 'C')\n",
    "w.poly([[[39.76, -285.00],[200, -285]]])\n",
    "w.record('polygon10')\n",
    "w.close()"
   ]
  },
  {
   "cell_type": "code",
   "execution_count": null,
   "metadata": {},
   "outputs": [],
   "source": []
  },
  {
   "cell_type": "code",
   "execution_count": null,
   "metadata": {},
   "outputs": [],
   "source": []
  },
  {
   "cell_type": "code",
   "execution_count": null,
   "metadata": {},
   "outputs": [],
   "source": []
  },
  {
   "cell_type": "code",
   "execution_count": 159,
   "metadata": {
    "scrolled": true
   },
   "outputs": [
    {
     "data": {
      "image/png": "[encoded data removed]",
      "text/plain": [
       "<Figure size 720x648 with 1 Axes>"
      ]
     },
     "metadata": {
      "needs_background": "light"
     },
     "output_type": "display_data"
    }
   ],
   "source": [
    "import matplotlib.pyplot as plt\n",
    "\n",
    "sf1 = shapefile.Reader(\"./shapefiles/test/polygon1.shp\")\n",
    "sf12 = shapefile.Reader(\"./shapefiles/test/polygon12.shp\")\n",
    "sf2 = shapefile.Reader(\"./shapefiles/test/polygon2.shp\")\n",
    "sf11 = shapefile.Reader(\"./shapefiles/test/polygon11.shp\")\n",
    "sf3 = shapefile.Reader(\"./shapefiles/test/polygon3.shp\")\n",
    "\n",
    "\n",
    "\n",
    "plt.figure(figsize = (10,9))\n",
    "draw_court(outer_lines=True)\n",
    "plt.xlim(-30,260)\n",
    "plt.ylim(-300,30)\n",
    "for shape in sf1.shapeRecords():\n",
    "    x = [i[0] for i in shape.shape.points[:]]\n",
    "    \n",
    "    y = [i[1] for i in shape.shape.points[:]]\n",
    "    \n",
    "    plt.plot(x,y)\n",
    "\n",
    "for shape in sf12.shapeRecords():\n",
    "    x = [i[0] for i in shape.shape.points[:]]\n",
    "    \n",
    "    y = [i[1] for i in shape.shape.points[:]]\n",
    "    \n",
    "\n",
    "    plt.plot(x,y)\n",
    "    \n",
    "for shape in sf2.shapeRecords():\n",
    "    x = [i[0] for i in shape.shape.points[:]]\n",
    "    \n",
    "    y = [i[1] for i in shape.shape.points[:]]\n",
    "    \n",
    "\n",
    "    plt.plot(x,y)\n",
    "\n",
    "for shape in sf3.shapeRecords():\n",
    "    x = [i[0] for i in shape.shape.points[:]]\n",
    "    \n",
    "    y = [i[1] for i in shape.shape.points[:]]\n",
    "    \n",
    "\n",
    "    plt.plot(x,y)\n",
    "    \n",
    "    \n",
    "    \n",
    "    \n",
    "    \n",
    "    \n",
    "plt.show()"
   ]
  },
  {
   "cell_type": "code",
   "execution_count": null,
   "metadata": {},
   "outputs": [],
   "source": []
  },
  {
   "cell_type": "code",
   "execution_count": null,
   "metadata": {},
   "outputs": [],
   "source": []
  },
  {
   "cell_type": "code",
   "execution_count": null,
   "metadata": {},
   "outputs": [],
   "source": []
  },
  {
   "cell_type": "code",
   "execution_count": null,
   "metadata": {},
   "outputs": [],
   "source": []
  },
  {
   "cell_type": "code",
   "execution_count": null,
   "metadata": {},
   "outputs": [],
   "source": []
  },
  {
   "cell_type": "code",
   "execution_count": null,
   "metadata": {},
   "outputs": [],
   "source": []
  },
  {
   "cell_type": "code",
   "execution_count": null,
   "metadata": {},
   "outputs": [],
   "source": []
  },
  {
   "cell_type": "code",
   "execution_count": null,
   "metadata": {},
   "outputs": [],
   "source": []
  },
  {
   "cell_type": "code",
   "execution_count": null,
   "metadata": {},
   "outputs": [],
   "source": []
  },
  {
   "cell_type": "code",
   "execution_count": null,
   "metadata": {},
   "outputs": [],
   "source": []
  },
  {
   "cell_type": "code",
   "execution_count": 50,
   "metadata": {},
   "outputs": [],
   "source": [
    "from matplotlib.patches import Circle, Rectangle, Arc\n",
    "\n",
    "def draw_court(ax=None, color='black', lw=2, outer_lines=False):\n",
    "    # If an axes object isn't provided to plot onto, just get current one\n",
    "    if ax is None:\n",
    "        ax = plt.gca()\n",
    "\n",
    "    # Create the various parts of an NBA basketball court\n",
    "\n",
    "    # Create the basketball hoop\n",
    "    # Diameter of a hoop is 18\" so it has a radius of 9\", which is a value\n",
    "    # 7.5 in our coordinate system\n",
    "    hoop = Circle((24.75, -141.25), radius=5.5, linewidth=lw, color=color, fill=False)\n",
    "\n",
    "    # Create backboard\n",
    "    backboard = Rectangle((17.25, -115.25), 1, -50, linewidth=lw, color=color)\n",
    "\n",
    "    # The paint\n",
    "    # Create the outer box 0f the paint, width=16ft, height=19ft\n",
    "    outer_box = Rectangle((0, -100.36), 100.97, -84.78, linewidth=lw, color=color,\n",
    "                          fill=False)\n",
    "\n",
    "    # Create free throw top arc\n",
    "    top_free_throw = Arc((100.97, -144.63), 50, 50, angle = 270, theta1=0, theta2=180,\n",
    "                         linewidth=lw, color=color, fill=False)\n",
    "    # Create free throw bottom arc\n",
    "    bottom_free_throw = Arc((100.97, -144.63), 50, 50, angle = 85, theta1= 0, theta2=180,\n",
    "                            linewidth=lw, color=color, linestyle='dashed')\n",
    "    # Restricted Zone, it is an arc with 4ft radius from center of the hoop\n",
    "    restricted = Arc((24.75, -141.25), 30, 30, angle = 315, theta1=0, theta2=90, linewidth=lw,\n",
    "                     color=color)\n",
    "\n",
    "    # Three point line\n",
    "    # Create the side 3pt lines, they are 14ft long before they begin to arc\n",
    "    corner_three_a = Rectangle((0, -26), 30, 0, linewidth=lw,\n",
    "                               color=color)\n",
    "    corner_three_b = Rectangle((0, -259), 30, 0, linewidth=lw, color=color)\n",
    "    # 3pt arc - center of arc will be the hoop, arc is 23'9\" away from hoop\n",
    "    # I just played around with the theta values until they lined up with the \n",
    "    # threes\n",
    "    three_arc = Arc((24.75, -142.40), 233, 233, angle = 225, theta1=44, theta2=227, linewidth=lw,\n",
    "                    color=color)\n",
    "\n",
    "    # Center Court\n",
    "    center_outer_arc = Arc((256.5, -144.63), 50, 50, theta1=360, theta2=0,\n",
    "                           linewidth=lw, color=color)\n",
    "    center_inner_arc = Arc((256.5, -144.63), 25, 25, theta1=360, theta2=0,\n",
    "                           linewidth=lw, color=color)\n",
    "\n",
    "    # List of the court elements to be plotted onto the axes\n",
    "    court_elements = [hoop, backboard, outer_box, top_free_throw,\n",
    "                      bottom_free_throw, restricted, corner_three_a,\n",
    "                      corner_three_b, three_arc, center_outer_arc,\n",
    "                      center_inner_arc]\n",
    "\n",
    "    if outer_lines:\n",
    "        # Draw the half court line, baseline and side out bound lines\n",
    "        outer_lines = Rectangle((0, 0), 260, -283, linewidth=lw,\n",
    "                                color=color, fill=False)\n",
    "        court_elements.append(outer_lines)\n",
    "\n",
    "    # Add the court elements onto the axes\n",
    "    for element in court_elements:\n",
    "        ax.add_patch(element)\n",
    "\n",
    "    return ax"
   ]
  },
  {
   "cell_type": "code",
   "execution_count": null,
   "metadata": {},
   "outputs": [],
   "source": []
  },
  {
   "cell_type": "code",
   "execution_count": null,
   "metadata": {},
   "outputs": [],
   "source": []
  },
  {
   "cell_type": "code",
   "execution_count": null,
   "metadata": {},
   "outputs": [],
   "source": []
  },
  {
   "cell_type": "code",
   "execution_count": null,
   "metadata": {},
   "outputs": [],
   "source": []
  },
  {
   "cell_type": "code",
   "execution_count": null,
   "metadata": {},
   "outputs": [],
   "source": []
  },
  {
   "cell_type": "code",
   "execution_count": 70,
   "metadata": {},
   "outputs": [],
   "source": [
    "tiros = pd.read_csv(\"database_shots.csv\")"
   ]
  },
  {
   "cell_type": "code",
   "execution_count": 71,
   "metadata": {},
   "outputs": [],
   "source": [
    "tiros.drop(columns = [\"Unnamed: 0\"], inplace = True)\n",
    "tiros[\"coord_x\"] = pd.to_numeric(tiros[\"coord_x\"], downcast=\"float\")\n",
    "tiros[\"coord_y\"] = pd.to_numeric(tiros[\"coord_y\"], downcast=\"float\")\n",
    "tiros[\"coord_y\"] = tiros[\"coord_y\"] * (-1)"
   ]
  },
  {
   "cell_type": "code",
   "execution_count": 73,
   "metadata": {},
   "outputs": [],
   "source": [
    "tiros_poly1 = tiros.loc[(tiros[\"coord_x\"] < 40.00) & (tiros[\"coord_y\"] < -258.00)]"
   ]
  },
  {
   "cell_type": "code",
   "execution_count": 80,
   "metadata": {},
   "outputs": [
    {
     "data": {
      "text/html": [
       "<div>\n",
       "<style scoped>\n",
       "    .dataframe tbody tr th:only-of-type {\n",
       "        vertical-align: middle;\n",
       "    }\n",
       "\n",
       "    .dataframe tbody tr th {\n",
       "        vertical-align: top;\n",
       "    }\n",
       "\n",
       "    .dataframe thead th {\n",
       "        text-align: right;\n",
       "    }\n",
       "</style>\n",
       "<table border=\"1\" class=\"dataframe\">\n",
       "  <thead>\n",
       "    <tr style=\"text-align: right;\">\n",
       "      <th></th>\n",
       "      <th>name</th>\n",
       "      <th>jornada</th>\n",
       "      <th>shot</th>\n",
       "      <th>coord_x</th>\n",
       "      <th>coord_y</th>\n",
       "      <th>geometry</th>\n",
       "    </tr>\n",
       "  </thead>\n",
       "  <tbody>\n",
       "    <tr>\n",
       "      <th>45</th>\n",
       "      <td>J. Brown</td>\n",
       "      <td>2</td>\n",
       "      <td>#local-out</td>\n",
       "      <td>26.173653</td>\n",
       "      <td>-259.466675</td>\n",
       "      <td>POINT (26.174 -259.467)</td>\n",
       "    </tr>\n",
       "    <tr>\n",
       "      <th>61</th>\n",
       "      <td>R. Martínez</td>\n",
       "      <td>2</td>\n",
       "      <td>#local-out</td>\n",
       "      <td>33.329376</td>\n",
       "      <td>-259.466675</td>\n",
       "      <td>POINT (33.329 -259.467)</td>\n",
       "    </tr>\n",
       "    <tr>\n",
       "      <th>234</th>\n",
       "      <td>D. Brizuela</td>\n",
       "      <td>2</td>\n",
       "      <td>#local-out</td>\n",
       "      <td>37.974976</td>\n",
       "      <td>-260.383331</td>\n",
       "      <td>POINT (37.975 -260.383)</td>\n",
       "    </tr>\n",
       "    <tr>\n",
       "      <th>264</th>\n",
       "      <td>S. Vene</td>\n",
       "      <td>2</td>\n",
       "      <td>#local-in</td>\n",
       "      <td>24.750000</td>\n",
       "      <td>-259.466675</td>\n",
       "      <td>POINT (24.750 -259.467)</td>\n",
       "    </tr>\n",
       "    <tr>\n",
       "      <th>268</th>\n",
       "      <td>S. Vene</td>\n",
       "      <td>2</td>\n",
       "      <td>#local-out</td>\n",
       "      <td>24.750000</td>\n",
       "      <td>-259.899994</td>\n",
       "      <td>POINT (24.750 -259.900)</td>\n",
       "    </tr>\n",
       "  </tbody>\n",
       "</table>\n",
       "</div>"
      ],
      "text/plain": [
       "            name  jornada        shot    coord_x     coord_y  \\\n",
       "45      J. Brown        2  #local-out  26.173653 -259.466675   \n",
       "61   R. Martínez        2  #local-out  33.329376 -259.466675   \n",
       "234  D. Brizuela        2  #local-out  37.974976 -260.383331   \n",
       "264      S. Vene        2   #local-in  24.750000 -259.466675   \n",
       "268      S. Vene        2  #local-out  24.750000 -259.899994   \n",
       "\n",
       "                    geometry  \n",
       "45   POINT (26.174 -259.467)  \n",
       "61   POINT (33.329 -259.467)  \n",
       "234  POINT (37.975 -260.383)  \n",
       "264  POINT (24.750 -259.467)  \n",
       "268  POINT (24.750 -259.900)  "
      ]
     },
     "execution_count": 80,
     "metadata": {},
     "output_type": "execute_result"
    }
   ],
   "source": [
    "gdf = gpd.GeoDataFrame(tiros_poly1, geometry = gpd.points_from_xy(tiros_poly1.coord_x, tiros_poly1.coord_y))\n",
    "gdf.head()"
   ]
  },
  {
   "cell_type": "code",
   "execution_count": 87,
   "metadata": {},
   "outputs": [
    {
     "data": {
      "text/html": [
       "<div>\n",
       "<style scoped>\n",
       "    .dataframe tbody tr th:only-of-type {\n",
       "        vertical-align: middle;\n",
       "    }\n",
       "\n",
       "    .dataframe tbody tr th {\n",
       "        vertical-align: top;\n",
       "    }\n",
       "\n",
       "    .dataframe thead th {\n",
       "        text-align: right;\n",
       "    }\n",
       "</style>\n",
       "<table border=\"1\" class=\"dataframe\">\n",
       "  <thead>\n",
       "    <tr style=\"text-align: right;\">\n",
       "      <th></th>\n",
       "      <th>name</th>\n",
       "      <th>jornada</th>\n",
       "      <th>shot</th>\n",
       "      <th>coord_x</th>\n",
       "      <th>coord_y</th>\n",
       "      <th>geometry</th>\n",
       "    </tr>\n",
       "  </thead>\n",
       "  <tbody>\n",
       "    <tr>\n",
       "      <th>0</th>\n",
       "      <td>J. Zyskowski</td>\n",
       "      <td>2</td>\n",
       "      <td>#local-in</td>\n",
       "      <td>24.750000</td>\n",
       "      <td>-126.416664</td>\n",
       "      <td>POINT (24.750 -126.417)</td>\n",
       "    </tr>\n",
       "    <tr>\n",
       "      <th>1</th>\n",
       "      <td>J. Zyskowski</td>\n",
       "      <td>2</td>\n",
       "      <td>#local-in</td>\n",
       "      <td>24.750000</td>\n",
       "      <td>-23.883333</td>\n",
       "      <td>POINT (24.750 -23.883)</td>\n",
       "    </tr>\n",
       "    <tr>\n",
       "      <th>2</th>\n",
       "      <td>J. Zyskowski</td>\n",
       "      <td>2</td>\n",
       "      <td>#local-out</td>\n",
       "      <td>25.705345</td>\n",
       "      <td>-23.883333</td>\n",
       "      <td>POINT (25.705 -23.883)</td>\n",
       "    </tr>\n",
       "    <tr>\n",
       "      <th>3</th>\n",
       "      <td>J. Zyskowski</td>\n",
       "      <td>2</td>\n",
       "      <td>#local-in</td>\n",
       "      <td>27.616035</td>\n",
       "      <td>-137.866669</td>\n",
       "      <td>POINT (27.616 -137.867)</td>\n",
       "    </tr>\n",
       "    <tr>\n",
       "      <th>4</th>\n",
       "      <td>J. Zyskowski</td>\n",
       "      <td>2</td>\n",
       "      <td>#local-in</td>\n",
       "      <td>27.128998</td>\n",
       "      <td>-129.816666</td>\n",
       "      <td>POINT (27.129 -129.817)</td>\n",
       "    </tr>\n",
       "  </tbody>\n",
       "</table>\n",
       "</div>"
      ],
      "text/plain": [
       "           name  jornada        shot    coord_x     coord_y  \\\n",
       "0  J. Zyskowski        2   #local-in  24.750000 -126.416664   \n",
       "1  J. Zyskowski        2   #local-in  24.750000  -23.883333   \n",
       "2  J. Zyskowski        2  #local-out  25.705345  -23.883333   \n",
       "3  J. Zyskowski        2   #local-in  27.616035 -137.866669   \n",
       "4  J. Zyskowski        2   #local-in  27.128998 -129.816666   \n",
       "\n",
       "                  geometry  \n",
       "0  POINT (24.750 -126.417)  \n",
       "1   POINT (24.750 -23.883)  \n",
       "2   POINT (25.705 -23.883)  \n",
       "3  POINT (27.616 -137.867)  \n",
       "4  POINT (27.129 -129.817)  "
      ]
     },
     "execution_count": 87,
     "metadata": {},
     "output_type": "execute_result"
    }
   ],
   "source": [
    "gdf1 = gpd.GeoDataFrame(tiros, geometry = gpd.points_from_xy(tiros.coord_x, tiros.coord_y))\n",
    "gdf1.head()"
   ]
  },
  {
   "cell_type": "code",
   "execution_count": 75,
   "metadata": {},
   "outputs": [],
   "source": [
    "shapefile_data = gpd.read_file(\"polygon1.shp\")"
   ]
  },
  {
   "cell_type": "code",
   "execution_count": 76,
   "metadata": {},
   "outputs": [
    {
     "data": {
      "text/html": [
       "<div>\n",
       "<style scoped>\n",
       "    .dataframe tbody tr th:only-of-type {\n",
       "        vertical-align: middle;\n",
       "    }\n",
       "\n",
       "    .dataframe tbody tr th {\n",
       "        vertical-align: top;\n",
       "    }\n",
       "\n",
       "    .dataframe thead th {\n",
       "        text-align: right;\n",
       "    }\n",
       "</style>\n",
       "<table border=\"1\" class=\"dataframe\">\n",
       "  <thead>\n",
       "    <tr style=\"text-align: right;\">\n",
       "      <th></th>\n",
       "      <th>name</th>\n",
       "      <th>geometry</th>\n",
       "    </tr>\n",
       "  </thead>\n",
       "  <tbody>\n",
       "    <tr>\n",
       "      <th>0</th>\n",
       "      <td>polygon1</td>\n",
       "      <td>POLYGON ((0.000 -285.000, 39.760 -285.000, 39....</td>\n",
       "    </tr>\n",
       "  </tbody>\n",
       "</table>\n",
       "</div>"
      ],
      "text/plain": [
       "       name                                           geometry\n",
       "0  polygon1  POLYGON ((0.000 -285.000, 39.760 -285.000, 39...."
      ]
     },
     "execution_count": 76,
     "metadata": {},
     "output_type": "execute_result"
    }
   ],
   "source": [
    "shapfile_raw = pd.DataFrame(shapefile_data)\n",
    "shapfile_raw.head()"
   ]
  },
  {
   "cell_type": "code",
   "execution_count": 81,
   "metadata": {},
   "outputs": [
    {
     "data": {
      "text/html": [
       "<div>\n",
       "<style scoped>\n",
       "    .dataframe tbody tr th:only-of-type {\n",
       "        vertical-align: middle;\n",
       "    }\n",
       "\n",
       "    .dataframe tbody tr th {\n",
       "        vertical-align: top;\n",
       "    }\n",
       "\n",
       "    .dataframe thead th {\n",
       "        text-align: right;\n",
       "    }\n",
       "</style>\n",
       "<table border=\"1\" class=\"dataframe\">\n",
       "  <thead>\n",
       "    <tr style=\"text-align: right;\">\n",
       "      <th></th>\n",
       "      <th>name</th>\n",
       "      <th>jornada</th>\n",
       "      <th>shot</th>\n",
       "      <th>coord_x</th>\n",
       "      <th>coord_y</th>\n",
       "      <th>geometry</th>\n",
       "    </tr>\n",
       "  </thead>\n",
       "  <tbody>\n",
       "  </tbody>\n",
       "</table>\n",
       "</div>"
      ],
      "text/plain": [
       "Empty GeoDataFrame\n",
       "Columns: [name, jornada, shot, coord_x, coord_y, geometry]\n",
       "Index: []"
      ]
     },
     "execution_count": 81,
     "metadata": {},
     "output_type": "execute_result"
    }
   ],
   "source": [
    "df_2 = gdf.merge(shapfile_raw)\n",
    "df_2.head()"
   ]
  },
  {
   "cell_type": "code",
   "execution_count": 88,
   "metadata": {},
   "outputs": [],
   "source": [
    "llego_papa = gpd.sjoin(shapefile_data, gdf1, how='inner', op='contains')"
   ]
  },
  {
   "cell_type": "code",
   "execution_count": 89,
   "metadata": {},
   "outputs": [
    {
     "data": {
      "text/html": [
       "<div>\n",
       "<style scoped>\n",
       "    .dataframe tbody tr th:only-of-type {\n",
       "        vertical-align: middle;\n",
       "    }\n",
       "\n",
       "    .dataframe tbody tr th {\n",
       "        vertical-align: top;\n",
       "    }\n",
       "\n",
       "    .dataframe thead th {\n",
       "        text-align: right;\n",
       "    }\n",
       "</style>\n",
       "<table border=\"1\" class=\"dataframe\">\n",
       "  <thead>\n",
       "    <tr style=\"text-align: right;\">\n",
       "      <th></th>\n",
       "      <th>name_left</th>\n",
       "      <th>geometry</th>\n",
       "      <th>index_right</th>\n",
       "      <th>name_right</th>\n",
       "      <th>jornada</th>\n",
       "      <th>shot</th>\n",
       "      <th>coord_x</th>\n",
       "      <th>coord_y</th>\n",
       "    </tr>\n",
       "  </thead>\n",
       "  <tbody>\n",
       "    <tr>\n",
       "      <th>0</th>\n",
       "      <td>polygon1</td>\n",
       "      <td>POLYGON ((0.000 -285.000, 39.760 -285.000, 39....</td>\n",
       "      <td>1108</td>\n",
       "      <td>D. Ennis</td>\n",
       "      <td>3</td>\n",
       "      <td>#local-out</td>\n",
       "      <td>39.492290</td>\n",
       "      <td>-262.016663</td>\n",
       "    </tr>\n",
       "    <tr>\n",
       "      <th>0</th>\n",
       "      <td>polygon1</td>\n",
       "      <td>POLYGON ((0.000 -285.000, 39.760 -285.000, 39....</td>\n",
       "      <td>6470</td>\n",
       "      <td>T. Gielo</td>\n",
       "      <td>13</td>\n",
       "      <td>#local-out</td>\n",
       "      <td>39.511021</td>\n",
       "      <td>-260.733337</td>\n",
       "    </tr>\n",
       "    <tr>\n",
       "      <th>0</th>\n",
       "      <td>polygon1</td>\n",
       "      <td>POLYGON ((0.000 -285.000, 39.760 -285.000, 39....</td>\n",
       "      <td>16840</td>\n",
       "      <td>G. Vives</td>\n",
       "      <td>3</td>\n",
       "      <td>#visitor-out</td>\n",
       "      <td>39.518677</td>\n",
       "      <td>-259.466675</td>\n",
       "    </tr>\n",
       "    <tr>\n",
       "      <th>0</th>\n",
       "      <td>polygon1</td>\n",
       "      <td>POLYGON ((0.000 -285.000, 39.760 -285.000, 39....</td>\n",
       "      <td>24710</td>\n",
       "      <td>A. Doornekamp</td>\n",
       "      <td>17</td>\n",
       "      <td>#visitor-out</td>\n",
       "      <td>39.518677</td>\n",
       "      <td>-259.466675</td>\n",
       "    </tr>\n",
       "    <tr>\n",
       "      <th>0</th>\n",
       "      <td>polygon1</td>\n",
       "      <td>POLYGON ((0.000 -285.000, 39.760 -285.000, 39....</td>\n",
       "      <td>17595</td>\n",
       "      <td>D. Seeley</td>\n",
       "      <td>5</td>\n",
       "      <td>#visitor-in</td>\n",
       "      <td>39.050385</td>\n",
       "      <td>-259.049988</td>\n",
       "    </tr>\n",
       "    <tr>\n",
       "      <th>...</th>\n",
       "      <td>...</td>\n",
       "      <td>...</td>\n",
       "      <td>...</td>\n",
       "      <td>...</td>\n",
       "      <td>...</td>\n",
       "      <td>...</td>\n",
       "      <td>...</td>\n",
       "      <td>...</td>\n",
       "    </tr>\n",
       "    <tr>\n",
       "      <th>0</th>\n",
       "      <td>polygon1</td>\n",
       "      <td>POLYGON ((0.000 -285.000, 39.760 -285.000, 39....</td>\n",
       "      <td>14567</td>\n",
       "      <td>L. Meindl</td>\n",
       "      <td>27</td>\n",
       "      <td>#local-in</td>\n",
       "      <td>24.750000</td>\n",
       "      <td>-259.049988</td>\n",
       "    </tr>\n",
       "    <tr>\n",
       "      <th>0</th>\n",
       "      <td>polygon1</td>\n",
       "      <td>POLYGON ((0.000 -285.000, 39.760 -285.000, 39....</td>\n",
       "      <td>11254</td>\n",
       "      <td>E. Vicedo</td>\n",
       "      <td>21</td>\n",
       "      <td>#local-out</td>\n",
       "      <td>24.750000</td>\n",
       "      <td>-259.049988</td>\n",
       "    </tr>\n",
       "    <tr>\n",
       "      <th>0</th>\n",
       "      <td>polygon1</td>\n",
       "      <td>POLYGON ((0.000 -285.000, 39.760 -285.000, 39....</td>\n",
       "      <td>13179</td>\n",
       "      <td>J. Jenkins</td>\n",
       "      <td>25</td>\n",
       "      <td>#local-in</td>\n",
       "      <td>24.750000</td>\n",
       "      <td>-259.049988</td>\n",
       "    </tr>\n",
       "    <tr>\n",
       "      <th>0</th>\n",
       "      <td>polygon1</td>\n",
       "      <td>POLYGON ((0.000 -285.000, 39.760 -285.000, 39....</td>\n",
       "      <td>2226</td>\n",
       "      <td>A. Brown</td>\n",
       "      <td>5</td>\n",
       "      <td>#local-out</td>\n",
       "      <td>24.750000</td>\n",
       "      <td>-259.049988</td>\n",
       "    </tr>\n",
       "    <tr>\n",
       "      <th>0</th>\n",
       "      <td>polygon1</td>\n",
       "      <td>POLYGON ((0.000 -285.000, 39.760 -285.000, 39....</td>\n",
       "      <td>15326</td>\n",
       "      <td>L. Hakanson</td>\n",
       "      <td>29</td>\n",
       "      <td>#local-in</td>\n",
       "      <td>24.750000</td>\n",
       "      <td>-259.049988</td>\n",
       "    </tr>\n",
       "  </tbody>\n",
       "</table>\n",
       "<p>226 rows × 8 columns</p>\n",
       "</div>"
      ],
      "text/plain": [
       "   name_left                                           geometry  index_right  \\\n",
       "0   polygon1  POLYGON ((0.000 -285.000, 39.760 -285.000, 39....         1108   \n",
       "0   polygon1  POLYGON ((0.000 -285.000, 39.760 -285.000, 39....         6470   \n",
       "0   polygon1  POLYGON ((0.000 -285.000, 39.760 -285.000, 39....        16840   \n",
       "0   polygon1  POLYGON ((0.000 -285.000, 39.760 -285.000, 39....        24710   \n",
       "0   polygon1  POLYGON ((0.000 -285.000, 39.760 -285.000, 39....        17595   \n",
       "..       ...                                                ...          ...   \n",
       "0   polygon1  POLYGON ((0.000 -285.000, 39.760 -285.000, 39....        14567   \n",
       "0   polygon1  POLYGON ((0.000 -285.000, 39.760 -285.000, 39....        11254   \n",
       "0   polygon1  POLYGON ((0.000 -285.000, 39.760 -285.000, 39....        13179   \n",
       "0   polygon1  POLYGON ((0.000 -285.000, 39.760 -285.000, 39....         2226   \n",
       "0   polygon1  POLYGON ((0.000 -285.000, 39.760 -285.000, 39....        15326   \n",
       "\n",
       "       name_right  jornada          shot    coord_x     coord_y  \n",
       "0        D. Ennis        3    #local-out  39.492290 -262.016663  \n",
       "0        T. Gielo       13    #local-out  39.511021 -260.733337  \n",
       "0        G. Vives        3  #visitor-out  39.518677 -259.466675  \n",
       "0   A. Doornekamp       17  #visitor-out  39.518677 -259.466675  \n",
       "0       D. Seeley        5   #visitor-in  39.050385 -259.049988  \n",
       "..            ...      ...           ...        ...         ...  \n",
       "0       L. Meindl       27     #local-in  24.750000 -259.049988  \n",
       "0       E. Vicedo       21    #local-out  24.750000 -259.049988  \n",
       "0      J. Jenkins       25     #local-in  24.750000 -259.049988  \n",
       "0        A. Brown        5    #local-out  24.750000 -259.049988  \n",
       "0     L. Hakanson       29     #local-in  24.750000 -259.049988  \n",
       "\n",
       "[226 rows x 8 columns]"
      ]
     },
     "execution_count": 89,
     "metadata": {},
     "output_type": "execute_result"
    }
   ],
   "source": [
    "llego_papa"
   ]
  },
  {
   "cell_type": "code",
   "execution_count": null,
   "metadata": {},
   "outputs": [],
   "source": [
    "plt.figure(figsize=(18,20))\n",
    "draw_court(outer_lines=True)\n",
    "plt.xlim(-30,260)\n",
    "plt.ylim(-300,30)\n",
    "sns.scatterplot(data = jaycee, x = \"coord_x\", y = \"coord_y\", s = 200, markers = {\"#local-in\": \"s\", \"#local-out\": \"X\"})\n",
    "plt.show()"
   ]
  },
  {
   "cell_type": "code",
   "execution_count": null,
   "metadata": {},
   "outputs": [],
   "source": []
  },
  {
   "cell_type": "code",
   "execution_count": null,
   "metadata": {},
   "outputs": [],
   "source": []
  },
  {
   "cell_type": "code",
   "execution_count": null,
   "metadata": {},
   "outputs": [],
   "source": []
  },
  {
   "cell_type": "code",
   "execution_count": null,
   "metadata": {},
   "outputs": [],
   "source": []
  },
  {
   "cell_type": "code",
   "execution_count": null,
   "metadata": {},
   "outputs": [],
   "source": []
  },
  {
   "cell_type": "code",
   "execution_count": null,
   "metadata": {},
   "outputs": [],
   "source": []
  }
 ],
 "metadata": {
  "kernelspec": {
   "display_name": "ironhac",
   "language": "python",
   "name": "ironhac"
  },
  "language_info": {
   "codemirror_mode": {
    "name": "ipython",
    "version": 3
   },
   "file_extension": ".py",
   "mimetype": "text/x-python",
   "name": "python",
   "nbconvert_exporter": "python",
   "pygments_lexer": "ipython3",
   "version": "3.8.2"
  }
 },
 "nbformat": 4,
 "nbformat_minor": 2
}
