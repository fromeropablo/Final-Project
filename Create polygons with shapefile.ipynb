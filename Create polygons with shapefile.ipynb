{
 "cells": [
  {
   "cell_type": "code",
   "execution_count": 1,
   "metadata": {},
   "outputs": [],
   "source": [
    "#!pip install pyshp\n",
    "import shapefile"
   ]
  },
  {
   "cell_type": "code",
   "execution_count": null,
   "metadata": {},
   "outputs": [],
   "source": [
    "w = shapefile.Writer('shapefiles/test/polygon')\n",
    "w.field('name', 'C')\n",
    "\n",
    "w.poly([\n",
    "[[113,24], [112,32], [117,36], [122,37], [118,20]], # poly 1\n",
    "[[116,29],[116,26],[119,29],[119,32]], # hole 1\n",
    "[[15,2], [17,6], [22,7]]  # poly 2\n",
    "       ])\n",
    "w.record('polygon1')\n",
    "w.close()"
   ]
  },
  {
   "cell_type": "code",
   "execution_count": null,
   "metadata": {},
   "outputs": [],
   "source": []
  },
  {
   "cell_type": "code",
   "execution_count": null,
   "metadata": {},
   "outputs": [],
   "source": []
  },
  {
   "cell_type": "code",
   "execution_count": null,
   "metadata": {},
   "outputs": [],
   "source": []
  },
  {
   "cell_type": "code",
   "execution_count": null,
   "metadata": {},
   "outputs": [],
   "source": []
  },
  {
   "cell_type": "code",
   "execution_count": null,
   "metadata": {},
   "outputs": [],
   "source": []
  },
  {
   "cell_type": "code",
   "execution_count": null,
   "metadata": {},
   "outputs": [],
   "source": [
    "# Create a polygon shapefile\n",
    ">>> w = shapefile.Writer(shapefile.POLYGON)\n",
    ">>> w.poly(parts=[[[1,5],[5,5],[5,1],[3,3],[1,1]]])\n",
    ">>> w.field('FIRST_FLD','C','40')\n",
    ">>> w.field('SECOND_FLD','C','40')\n",
    ">>> w.record('First','Polygon')\n",
    ">>> w.save('shapefiles/test/polygon')"
   ]
  }
 ],
 "metadata": {
  "kernelspec": {
   "display_name": "ironhac",
   "language": "python",
   "name": "ironhac"
  },
  "language_info": {
   "codemirror_mode": {
    "name": "ipython",
    "version": 3
   },
   "file_extension": ".py",
   "mimetype": "text/x-python",
   "name": "python",
   "nbconvert_exporter": "python",
   "pygments_lexer": "ipython3",
   "version": "3.8.2"
  }
 },
 "nbformat": 4,
 "nbformat_minor": 2
}
