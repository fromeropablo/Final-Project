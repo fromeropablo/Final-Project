{
 "cells": [
  {
   "cell_type": "code",
   "execution_count": 1,
   "metadata": {},
   "outputs": [],
   "source": [
    "import pandas as pd\n",
    "import json\n",
    "import re\n",
    "import src.cleaning as cl"
   ]
  },
  {
   "cell_type": "code",
   "execution_count": 212,
   "metadata": {},
   "outputs": [],
   "source": [
    "df = pd.read_csv(\"./data/shots_v1.csv\")"
   ]
  },
  {
   "cell_type": "code",
   "execution_count": 246,
   "metadata": {},
   "outputs": [
    {
     "data": {
      "text/html": [
       "<div>\n",
       "<style scoped>\n",
       "    .dataframe tbody tr th:only-of-type {\n",
       "        vertical-align: middle;\n",
       "    }\n",
       "\n",
       "    .dataframe tbody tr th {\n",
       "        vertical-align: top;\n",
       "    }\n",
       "\n",
       "    .dataframe thead th {\n",
       "        text-align: right;\n",
       "    }\n",
       "</style>\n",
       "<table border=\"1\" class=\"dataframe\">\n",
       "  <thead>\n",
       "    <tr style=\"text-align: right;\">\n",
       "      <th></th>\n",
       "      <th>name</th>\n",
       "      <th>jornada</th>\n",
       "      <th>shot</th>\n",
       "      <th>coord_x</th>\n",
       "      <th>coord_y</th>\n",
       "    </tr>\n",
       "  </thead>\n",
       "  <tbody>\n",
       "    <tr>\n",
       "      <th>0</th>\n",
       "      <td>J. Zyskowski</td>\n",
       "      <td>1</td>\n",
       "      <td>#local-in</td>\n",
       "      <td>24.750000</td>\n",
       "      <td>126.416664</td>\n",
       "    </tr>\n",
       "    <tr>\n",
       "      <th>1</th>\n",
       "      <td>J. Zyskowski</td>\n",
       "      <td>1</td>\n",
       "      <td>#local-in</td>\n",
       "      <td>24.750000</td>\n",
       "      <td>23.883333</td>\n",
       "    </tr>\n",
       "    <tr>\n",
       "      <th>2</th>\n",
       "      <td>J. Zyskowski</td>\n",
       "      <td>1</td>\n",
       "      <td>#local-out</td>\n",
       "      <td>25.705345</td>\n",
       "      <td>23.883333</td>\n",
       "    </tr>\n",
       "    <tr>\n",
       "      <th>3</th>\n",
       "      <td>J. Zyskowski</td>\n",
       "      <td>1</td>\n",
       "      <td>#local-in</td>\n",
       "      <td>27.616035</td>\n",
       "      <td>137.866669</td>\n",
       "    </tr>\n",
       "    <tr>\n",
       "      <th>4</th>\n",
       "      <td>J. Zyskowski</td>\n",
       "      <td>1</td>\n",
       "      <td>#local-in</td>\n",
       "      <td>27.128998</td>\n",
       "      <td>129.816666</td>\n",
       "    </tr>\n",
       "  </tbody>\n",
       "</table>\n",
       "</div>"
      ],
      "text/plain": [
       "           name  jornada        shot    coord_x     coord_y\n",
       "0  J. Zyskowski        1   #local-in  24.750000  126.416664\n",
       "1  J. Zyskowski        1   #local-in  24.750000   23.883333\n",
       "2  J. Zyskowski        1  #local-out  25.705345   23.883333\n",
       "3  J. Zyskowski        1   #local-in  27.616035  137.866669\n",
       "4  J. Zyskowski        1   #local-in  27.128998  129.816666"
      ]
     },
     "execution_count": 246,
     "metadata": {},
     "output_type": "execute_result"
    }
   ],
   "source": [
    "df.head()"
   ]
  },
  {
   "cell_type": "code",
   "execution_count": 214,
   "metadata": {},
   "outputs": [],
   "source": [
    "df.rename(columns = {\"0\": \"Jornada\"}, inplace = True)\n",
    "df.drop(columns = [\"Unnamed: 0\"], inplace = True)"
   ]
  },
  {
   "cell_type": "code",
   "execution_count": 215,
   "metadata": {},
   "outputs": [],
   "source": [
    "names = cl.shots_per_player(df)"
   ]
  },
  {
   "cell_type": "code",
   "execution_count": 217,
   "metadata": {},
   "outputs": [],
   "source": [
    "for elem in names:\n",
    "    if elem == \" \":\n",
    "        names.remove(elem)"
   ]
  },
  {
   "cell_type": "code",
   "execution_count": 218,
   "metadata": {},
   "outputs": [
    {
     "data": {
      "text/plain": [
       "37285"
      ]
     },
     "execution_count": 218,
     "metadata": {},
     "output_type": "execute_result"
    }
   ],
   "source": [
    "len(names)"
   ]
  },
  {
   "cell_type": "code",
   "execution_count": 219,
   "metadata": {},
   "outputs": [],
   "source": [
    "jornadas = cl.cumulat_shots(df)"
   ]
  },
  {
   "cell_type": "code",
   "execution_count": 221,
   "metadata": {},
   "outputs": [
    {
     "data": {
      "text/plain": [
       "33"
      ]
     },
     "execution_count": 221,
     "metadata": {},
     "output_type": "execute_result"
    }
   ],
   "source": [
    "len(jornadas)"
   ]
  },
  {
   "cell_type": "code",
   "execution_count": 222,
   "metadata": {},
   "outputs": [],
   "source": [
    "# As we had problems trying to append the first gameday number of shots, we append it before looping. \n",
    "shots_per_jornada = [1157]\n",
    "for i in range(len(jornadas)-1):\n",
    "    shots_per_jornada.append(jornadas[i+1]-jornadas[i])"
   ]
  },
  {
   "cell_type": "code",
   "execution_count": 223,
   "metadata": {},
   "outputs": [
    {
     "data": {
      "text/plain": [
       "[1157,\n",
       " 1133,\n",
       " 1141,\n",
       " 1133,\n",
       " 1133,\n",
       " 1125,\n",
       " 1135,\n",
       " 1109,\n",
       " 1112,\n",
       " 1101,\n",
       " 1146,\n",
       " 1110,\n",
       " 1107,\n",
       " 1163,\n",
       " 1173,\n",
       " 1138,\n",
       " 1051,\n",
       " 1116,\n",
       " 1140,\n",
       " 1145,\n",
       " 1158,\n",
       " 985,\n",
       " 1149,\n",
       " 1157,\n",
       " 1132,\n",
       " 1159,\n",
       " 1128,\n",
       " 1141,\n",
       " 1138,\n",
       " 1147,\n",
       " 1136,\n",
       " 1166,\n",
       " 1121]"
      ]
     },
     "execution_count": 223,
     "metadata": {},
     "output_type": "execute_result"
    }
   ],
   "source": [
    "shots_per_jornada"
   ]
  },
  {
   "cell_type": "code",
   "execution_count": 224,
   "metadata": {},
   "outputs": [],
   "source": [
    "num_jornada = list(range(1, 35))\n",
    "num_jornada = [str(x) for x in num_jornada]"
   ]
  },
  {
   "cell_type": "code",
   "execution_count": 250,
   "metadata": {},
   "outputs": [],
   "source": [
    "final_jornada = sum([[s] * n for s, n in zip(num_jornada, shots_per_jornada)], [])"
   ]
  },
  {
   "cell_type": "code",
   "execution_count": 252,
   "metadata": {},
   "outputs": [
    {
     "data": {
      "text/plain": [
       "37285"
      ]
     },
     "execution_count": 252,
     "metadata": {},
     "output_type": "execute_result"
    }
   ],
   "source": [
    "#Finally we get a list with values from 1 to 34 (gamedays played) according to when every shot was made. \n",
    "len(final_jornada)"
   ]
  },
  {
   "cell_type": "markdown",
   "metadata": {},
   "source": [
    "### Now we are gonna divide the list \"prueba\" in order to get data for each three elements. "
   ]
  },
  {
   "cell_type": "code",
   "execution_count": 227,
   "metadata": {},
   "outputs": [
    {
     "data": {
      "text/plain": [
       "111855"
      ]
     },
     "execution_count": 227,
     "metadata": {},
     "output_type": "execute_result"
    }
   ],
   "source": [
    "#Our variable \"prueba\" contains all the information about shots every three values. \n",
    "len(prueba)"
   ]
  },
  {
   "cell_type": "markdown",
   "metadata": {},
   "source": [
    "### Here we divide the information contained in \"prueba\" in three lists. One to know if the shot was made or not, as a local or as a visitor. Another for its coordinate x and the last one for its coordinate y."
   ]
  },
  {
   "cell_type": "code",
   "execution_count": 228,
   "metadata": {},
   "outputs": [],
   "source": [
    "made = []\n",
    "for i in range(0, len(prueba), 3):\n",
    "    made.append(prueba[i])\n",
    "    \n",
    "coord_x = []\n",
    "for i in range(1, len(prueba), 3):\n",
    "    coord_x.append(prueba[i])\n",
    "    \n",
    "coord_y = []\n",
    "for i in range(2, len(prueba), 3):\n",
    "    coord_y.append(prueba[i])\n",
    "    \n",
    "cositas = list(zip(names, final_jornada, made, coord_x, coord_y))\n",
    "df = pd.DataFrame(cositas)\n",
    "df.rename(columns = {0: \"name\", 1: \"jornada\", 2: \"shot\", 3: \"coord_x\", 4: \"coord_y\"}, inplace = True)"
   ]
  },
  {
   "cell_type": "markdown",
   "metadata": {},
   "source": [
    "### Aquí ya tenemos el dataset mínimamente decente. Falta cambiar coordenadas x de visitors, poner nombres bien y agrupar bien"
   ]
  },
  {
   "cell_type": "code",
   "execution_count": 254,
   "metadata": {},
   "outputs": [
    {
     "data": {
      "text/html": [
       "<div>\n",
       "<style scoped>\n",
       "    .dataframe tbody tr th:only-of-type {\n",
       "        vertical-align: middle;\n",
       "    }\n",
       "\n",
       "    .dataframe tbody tr th {\n",
       "        vertical-align: top;\n",
       "    }\n",
       "\n",
       "    .dataframe thead th {\n",
       "        text-align: right;\n",
       "    }\n",
       "</style>\n",
       "<table border=\"1\" class=\"dataframe\">\n",
       "  <thead>\n",
       "    <tr style=\"text-align: right;\">\n",
       "      <th></th>\n",
       "      <th>name</th>\n",
       "      <th>jornada</th>\n",
       "      <th>shot</th>\n",
       "      <th>coord_x</th>\n",
       "      <th>coord_y</th>\n",
       "    </tr>\n",
       "  </thead>\n",
       "  <tbody>\n",
       "    <tr>\n",
       "      <th>0</th>\n",
       "      <td>J. Zyskowski</td>\n",
       "      <td>1</td>\n",
       "      <td>#local-in</td>\n",
       "      <td>24.750000</td>\n",
       "      <td>126.416664</td>\n",
       "    </tr>\n",
       "    <tr>\n",
       "      <th>1</th>\n",
       "      <td>J. Zyskowski</td>\n",
       "      <td>1</td>\n",
       "      <td>#local-in</td>\n",
       "      <td>24.750000</td>\n",
       "      <td>23.883333</td>\n",
       "    </tr>\n",
       "    <tr>\n",
       "      <th>2</th>\n",
       "      <td>J. Zyskowski</td>\n",
       "      <td>1</td>\n",
       "      <td>#local-out</td>\n",
       "      <td>25.705345</td>\n",
       "      <td>23.883333</td>\n",
       "    </tr>\n",
       "    <tr>\n",
       "      <th>3</th>\n",
       "      <td>J. Zyskowski</td>\n",
       "      <td>1</td>\n",
       "      <td>#local-in</td>\n",
       "      <td>27.616035</td>\n",
       "      <td>137.866669</td>\n",
       "    </tr>\n",
       "    <tr>\n",
       "      <th>4</th>\n",
       "      <td>J. Zyskowski</td>\n",
       "      <td>1</td>\n",
       "      <td>#local-in</td>\n",
       "      <td>27.128998</td>\n",
       "      <td>129.816666</td>\n",
       "    </tr>\n",
       "  </tbody>\n",
       "</table>\n",
       "</div>"
      ],
      "text/plain": [
       "           name  jornada        shot    coord_x     coord_y\n",
       "0  J. Zyskowski        1   #local-in  24.750000  126.416664\n",
       "1  J. Zyskowski        1   #local-in  24.750000   23.883333\n",
       "2  J. Zyskowski        1  #local-out  25.705345   23.883333\n",
       "3  J. Zyskowski        1   #local-in  27.616035  137.866669\n",
       "4  J. Zyskowski        1   #local-in  27.128998  129.816666"
      ]
     },
     "execution_count": 254,
     "metadata": {},
     "output_type": "execute_result"
    }
   ],
   "source": [
    "df.head()"
   ]
  },
  {
   "cell_type": "code",
   "execution_count": 235,
   "metadata": {},
   "outputs": [],
   "source": [
    "df[\"coord_x\"] = pd.to_numeric(df[\"coord_x\"], downcast=\"float\")\n",
    "df[\"coord_y\"] = pd.to_numeric(df[\"coord_y\"], downcast=\"float\")\n",
    "df[\"jornada\"] = pd.to_numeric(df[\"jornada\"], downcast=\"integer\")"
   ]
  },
  {
   "cell_type": "code",
   "execution_count": 236,
   "metadata": {},
   "outputs": [
    {
     "data": {
      "text/html": [
       "<div>\n",
       "<style scoped>\n",
       "    .dataframe tbody tr th:only-of-type {\n",
       "        vertical-align: middle;\n",
       "    }\n",
       "\n",
       "    .dataframe tbody tr th {\n",
       "        vertical-align: top;\n",
       "    }\n",
       "\n",
       "    .dataframe thead th {\n",
       "        text-align: right;\n",
       "    }\n",
       "</style>\n",
       "<table border=\"1\" class=\"dataframe\">\n",
       "  <thead>\n",
       "    <tr style=\"text-align: right;\">\n",
       "      <th></th>\n",
       "      <th>name</th>\n",
       "      <th>jornada</th>\n",
       "      <th>shot</th>\n",
       "      <th>coord_x</th>\n",
       "      <th>coord_y</th>\n",
       "    </tr>\n",
       "  </thead>\n",
       "  <tbody>\n",
       "    <tr>\n",
       "      <th>58</th>\n",
       "      <td>A. Doornekamp</td>\n",
       "      <td>1</td>\n",
       "      <td>#visitor-in</td>\n",
       "      <td>418.221130</td>\n",
       "      <td>35.733334</td>\n",
       "    </tr>\n",
       "    <tr>\n",
       "      <th>59</th>\n",
       "      <td>A. Doornekamp</td>\n",
       "      <td>1</td>\n",
       "      <td>#visitor-out</td>\n",
       "      <td>473.481323</td>\n",
       "      <td>134.466660</td>\n",
       "    </tr>\n",
       "    <tr>\n",
       "      <th>60</th>\n",
       "      <td>A. Doornekamp</td>\n",
       "      <td>1</td>\n",
       "      <td>#visitor-in</td>\n",
       "      <td>355.336945</td>\n",
       "      <td>203.533340</td>\n",
       "    </tr>\n",
       "    <tr>\n",
       "      <th>61</th>\n",
       "      <td>A. Doornekamp</td>\n",
       "      <td>1</td>\n",
       "      <td>#visitor-in</td>\n",
       "      <td>458.720306</td>\n",
       "      <td>259.466675</td>\n",
       "    </tr>\n",
       "    <tr>\n",
       "      <th>62</th>\n",
       "      <td>A. Doornekamp</td>\n",
       "      <td>1</td>\n",
       "      <td>#visitor-out</td>\n",
       "      <td>432.513855</td>\n",
       "      <td>249.300003</td>\n",
       "    </tr>\n",
       "    <tr>\n",
       "      <th>...</th>\n",
       "      <td>...</td>\n",
       "      <td>...</td>\n",
       "      <td>...</td>\n",
       "      <td>...</td>\n",
       "      <td>...</td>\n",
       "    </tr>\n",
       "    <tr>\n",
       "      <th>37280</th>\n",
       "      <td>T. Abromaitis</td>\n",
       "      <td>33</td>\n",
       "      <td>#visitor-out</td>\n",
       "      <td>454.243286</td>\n",
       "      <td>241.250000</td>\n",
       "    </tr>\n",
       "    <tr>\n",
       "      <th>37281</th>\n",
       "      <td>T. Abromaitis</td>\n",
       "      <td>33</td>\n",
       "      <td>#visitor-in</td>\n",
       "      <td>465.201660</td>\n",
       "      <td>165.216660</td>\n",
       "    </tr>\n",
       "    <tr>\n",
       "      <th>37282</th>\n",
       "      <td>T. Abromaitis</td>\n",
       "      <td>33</td>\n",
       "      <td>#visitor-in</td>\n",
       "      <td>471.683014</td>\n",
       "      <td>259.200012</td>\n",
       "    </tr>\n",
       "    <tr>\n",
       "      <th>37283</th>\n",
       "      <td>T. Abromaitis</td>\n",
       "      <td>33</td>\n",
       "      <td>#visitor-in</td>\n",
       "      <td>466.288116</td>\n",
       "      <td>158.116669</td>\n",
       "    </tr>\n",
       "    <tr>\n",
       "      <th>37284</th>\n",
       "      <td>T. Abromaitis</td>\n",
       "      <td>33</td>\n",
       "      <td>#visitor-out</td>\n",
       "      <td>464.583496</td>\n",
       "      <td>150.566666</td>\n",
       "    </tr>\n",
       "  </tbody>\n",
       "</table>\n",
       "<p>18602 rows × 5 columns</p>\n",
       "</div>"
      ],
      "text/plain": [
       "                 name  jornada          shot     coord_x     coord_y\n",
       "58      A. Doornekamp        1   #visitor-in  418.221130   35.733334\n",
       "59      A. Doornekamp        1  #visitor-out  473.481323  134.466660\n",
       "60      A. Doornekamp        1   #visitor-in  355.336945  203.533340\n",
       "61      A. Doornekamp        1   #visitor-in  458.720306  259.466675\n",
       "62      A. Doornekamp        1  #visitor-out  432.513855  249.300003\n",
       "...               ...      ...           ...         ...         ...\n",
       "37280   T. Abromaitis       33  #visitor-out  454.243286  241.250000\n",
       "37281   T. Abromaitis       33   #visitor-in  465.201660  165.216660\n",
       "37282   T. Abromaitis       33   #visitor-in  471.683014  259.200012\n",
       "37283   T. Abromaitis       33   #visitor-in  466.288116  158.116669\n",
       "37284   T. Abromaitis       33  #visitor-out  464.583496  150.566666\n",
       "\n",
       "[18602 rows x 5 columns]"
      ]
     },
     "execution_count": 236,
     "metadata": {},
     "output_type": "execute_result"
    }
   ],
   "source": [
    "df_visitor = df.loc[(df[\"shot\"] == \"#visitor-in\") | (df[\"shot\"] == \"#visitor-out\") | (df[\"shot\"] == \"#visitor-dunk\")]\n",
    "df_local = df.loc[(df[\"shot\"] == \"#local-in\") | (df[\"shot\"] == \"#local-out\") | (df[\"shot\"] == \"#local-dunk\")]\n",
    "df_visitor[\"coord_x\"] = abs(df_visitor[\"coord_x\"] - 513)\n",
    "df = pd.concat([df_local, df_visitor])\n",
    "df[\"name\"] = df[\"name\"].str.strip()"
   ]
  },
  {
   "cell_type": "code",
   "execution_count": 245,
   "metadata": {},
   "outputs": [],
   "source": [
    "df.to_csv(\"./data/database_shots.csv\")"
   ]
  },
  {
   "cell_type": "markdown",
   "metadata": {},
   "source": [
    "### Here we import our csv with every shot."
   ]
  },
  {
   "cell_type": "code",
   "execution_count": 1175,
   "metadata": {},
   "outputs": [],
   "source": [
    "super_llego_papa = pd.read_csv(\"./data/df_tiros_polygon.csv\")"
   ]
  },
  {
   "cell_type": "code",
   "execution_count": 1177,
   "metadata": {},
   "outputs": [],
   "source": [
    "super_llego_papa.sort_values('PLAYER_NAME', ascending = True, inplace = True)\n",
    "super_llego_papa.drop(columns = [\"Unnamed: 0\", \"index_right\", \"geometry\", \"coord_x\", \"coord_y\"], inplace = True)"
   ]
  },
  {
   "cell_type": "code",
   "execution_count": 1178,
   "metadata": {},
   "outputs": [],
   "source": [
    "super_llego_papa.shot = super_llego_papa.shot.apply(lambda x: 'in' if 'in' in x else x)\n",
    "super_llego_papa.shot = super_llego_papa.shot.apply(lambda x: 'in' if 'dunk' in x else x)\n",
    "super_llego_papa.shot = super_llego_papa.shot.apply(lambda x: 'out' if 'out' in x else x)"
   ]
  },
  {
   "cell_type": "code",
   "execution_count": 1179,
   "metadata": {},
   "outputs": [
    {
     "name": "stderr",
     "output_type": "stream",
     "text": [
      "<ipython-input-1179-aa87bd13e0d1>:2: FutureWarning: The default value of regex will change from True to False in a future version.\n",
      "  super_llego_papa[\"PLAYER_NAME\"] = super_llego_papa[\"PLAYER_NAME\"].str.replace('AJ Slaughter', 'A. Slaughter').str.replace('V. Gerun', 'V. Herun').str.replace('C. Pacheco', 'C. D. S. Pacheco').str.replace('F. Dos Anjos', 'F. D. Anjos').str.replace('P. Dime', 'M. Dime').str.replace('J. Gonzalez', 'C. Gonzalez').str.replace('W. Tavares', 'E. Tavares').str.replace('X. X. Lopez-Arostegui', 'X. Lopez-Arostegui').str.replace('A. Balcerowski', 'O. Balcerowski').str.replace('I. Llovet', 'N. Llovet')\n"
     ]
    }
   ],
   "source": [
    "super_llego_papa[\"PLAYER_NAME\"] = super_llego_papa[\"PLAYER_NAME\"].str.replace('á', 'a').str.replace('à', 'a').str.replace('é', 'e').str.replace('í', 'i').str.replace('ó', 'o').str.replace('Á', 'A').str.replace('Í', 'I').str.replace('ñ', 'n')\n",
    "super_llego_papa[\"PLAYER_NAME\"] = super_llego_papa[\"PLAYER_NAME\"].str.replace('AJ Slaughter', 'A. Slaughter').str.replace('V. Gerun', 'V. Herun').str.replace('C. Pacheco', 'C. D. S. Pacheco').str.replace('F. Dos Anjos', 'F. D. Anjos').str.replace('P. Dime', 'M. Dime').str.replace('J. Gonzalez', 'C. Gonzalez').str.replace('W. Tavares', 'E. Tavares').str.replace('X. X. Lopez-Arostegui', 'X. Lopez-Arostegui').str.replace('A. Balcerowski', 'O. Balcerowski').str.replace('I. Llovet', 'N. Llovet')"
   ]
  },
  {
   "cell_type": "code",
   "execution_count": 1180,
   "metadata": {},
   "outputs": [],
   "source": [
    "cositas = super_llego_papa.groupby([\"name_left\", \"PLAYER_NAME\",\"shot\"]).count()\n",
    "cositas.reset_index(inplace = True)"
   ]
  },
  {
   "cell_type": "markdown",
   "metadata": {},
   "source": [
    "### The variable made represents all the shots which were in during the game."
   ]
  },
  {
   "cell_type": "code",
   "execution_count": 1181,
   "metadata": {},
   "outputs": [],
   "source": [
    "made = cositas.loc[cositas[\"shot\"] == \"in\"]\n",
    "made.drop(columns = [\"shot\"], inplace = True)\n",
    "made.rename(columns = {\"jornada\": \"shots_made\"}, inplace = True)"
   ]
  },
  {
   "cell_type": "code",
   "execution_count": 1185,
   "metadata": {},
   "outputs": [],
   "source": [
    "made1 = made.loc[made[\"name_left\"] == \"polygon1\"]\n",
    "made2 = made.loc[made[\"name_left\"] == \"polygon2\"]\n",
    "made3 = made.loc[made[\"name_left\"] == \"polygon3\"]\n",
    "made4 = made.loc[made[\"name_left\"] == \"polygon4\"]\n",
    "made5 = made.loc[made[\"name_left\"] == \"polygon5\"]\n",
    "made6 = made.loc[made[\"name_left\"] == \"polygon6\"]\n",
    "made7 = made.loc[made[\"name_left\"] == \"polygon7\"]\n",
    "made8 = made.loc[made[\"name_left\"] == \"polygon8\"]\n",
    "made9 = made.loc[made[\"name_left\"] == \"polygon9\"]\n",
    "made10 = made.loc[made[\"name_left\"] == \"polygon10\"]\n",
    "made11 = made.loc[made[\"name_left\"] == \"polygon11\"]\n",
    "made12 = made.loc[made[\"name_left\"] == \"polygon12\"]"
   ]
  },
  {
   "cell_type": "code",
   "execution_count": 1187,
   "metadata": {},
   "outputs": [],
   "source": [
    "#Aquí sacamos los totales\n",
    "total = super_llego_papa.groupby([\"name_left\", \"PLAYER_NAME\"]).count()\n",
    "total.reset_index(inplace = True)\n",
    "total.drop(columns = [\"shot\"], inplace = True)\n",
    "total.rename(columns = {\"jornada\": \"shots_attempted\"}, inplace = True)"
   ]
  },
  {
   "cell_type": "code",
   "execution_count": 1191,
   "metadata": {},
   "outputs": [],
   "source": [
    "total1 = total.loc[total[\"name_left\"] == \"polygon1\"]\n",
    "total2 = total.loc[total[\"name_left\"] == \"polygon2\"]\n",
    "total3 = total.loc[total[\"name_left\"] == \"polygon3\"]\n",
    "total4 = total.loc[total[\"name_left\"] == \"polygon4\"]\n",
    "total5 = total.loc[total[\"name_left\"] == \"polygon5\"]\n",
    "total6 = total.loc[total[\"name_left\"] == \"polygon6\"]\n",
    "total7 = total.loc[total[\"name_left\"] == \"polygon7\"]\n",
    "total8 = total.loc[total[\"name_left\"] == \"polygon8\"]\n",
    "total9 = total.loc[total[\"name_left\"] == \"polygon9\"]\n",
    "total10 = total.loc[total[\"name_left\"] == \"polygon10\"]\n",
    "total11 = total.loc[total[\"name_left\"] == \"polygon11\"]\n",
    "total12 = total.loc[total[\"name_left\"] == \"polygon12\"]"
   ]
  },
  {
   "cell_type": "markdown",
   "metadata": {},
   "source": [
    "### Time to merge both DataFrames"
   ]
  },
  {
   "cell_type": "code",
   "execution_count": 1193,
   "metadata": {},
   "outputs": [],
   "source": [
    "zona_1 = total1.merge(made1,how='left', left_on='PLAYER_NAME', right_on='PLAYER_NAME')\n",
    "zona_1.fillna(0, inplace = True)\n",
    "zona_1.drop(columns = [\"name_left_x\", \"name_left_y\"], inplace = True)\n",
    "zona_1.rename(columns = {\"shots_attempted\": \"zona1_attempted\", \"shots_made\": \"zona1_made\", \"PLAYER_NAME\": \"mergeo\"}, inplace = True)"
   ]
  },
  {
   "cell_type": "code",
   "execution_count": 1194,
   "metadata": {},
   "outputs": [],
   "source": [
    "zona_2 = total2.merge(made2,how='left', left_on='PLAYER_NAME', right_on='PLAYER_NAME')\n",
    "zona_2.fillna(0, inplace = True)\n",
    "zona_2.drop(columns = [\"name_left_x\", \"name_left_y\"], inplace = True)\n",
    "zona_2.rename(columns = {\"shots_attempted\": \"zona2_attempted\", \"shots_made\": \"zona2_made\", \"PLAYER_NAME\": \"mergeo\"}, inplace = True)"
   ]
  },
  {
   "cell_type": "code",
   "execution_count": 1195,
   "metadata": {},
   "outputs": [],
   "source": [
    "zona_3 = total3.merge(made3,how='left', left_on='PLAYER_NAME', right_on='PLAYER_NAME')\n",
    "zona_3.fillna(0, inplace = True)\n",
    "zona_3.drop(columns = [\"name_left_x\", \"name_left_y\"], inplace = True)\n",
    "zona_3.rename(columns = {\"shots_attempted\": \"zona3_attempted\", \"shots_made\": \"zona3_made\", \"PLAYER_NAME\": \"mergeo\"}, inplace = True)"
   ]
  },
  {
   "cell_type": "code",
   "execution_count": 1196,
   "metadata": {},
   "outputs": [],
   "source": [
    "zona_4 = total4.merge(made4,how='left', left_on='PLAYER_NAME', right_on='PLAYER_NAME')\n",
    "zona_4.fillna(0, inplace = True)\n",
    "zona_4.drop(columns = [\"name_left_x\", \"name_left_y\"], inplace = True)\n",
    "zona_4.rename(columns = {\"shots_attempted\": \"zona4_attempted\", \"shots_made\": \"zona4_made\", \"PLAYER_NAME\": \"mergeo\"}, inplace = True)"
   ]
  },
  {
   "cell_type": "code",
   "execution_count": 1197,
   "metadata": {},
   "outputs": [],
   "source": [
    "zona_5 = total5.merge(made5,how='left', left_on='PLAYER_NAME', right_on='PLAYER_NAME')\n",
    "zona_5.fillna(0, inplace = True)\n",
    "zona_5.drop(columns = [\"name_left_x\", \"name_left_y\"], inplace = True)\n",
    "zona_5.rename(columns = {\"shots_attempted\": \"zona5attempted\", \"shots_made\": \"zona5_made\", \"PLAYER_NAME\": \"mergeo\"}, inplace = True)"
   ]
  },
  {
   "cell_type": "code",
   "execution_count": 1198,
   "metadata": {},
   "outputs": [],
   "source": [
    "zona_6 = total6.merge(made6,how='left', left_on='PLAYER_NAME', right_on='PLAYER_NAME')\n",
    "zona_6.fillna(0, inplace = True)\n",
    "zona_6.drop(columns = [\"name_left_x\", \"name_left_y\"], inplace = True)\n",
    "zona_6.rename(columns = {\"shots_attempted\": \"zona6_attempted\", \"shots_made\": \"zona6_made\", \"PLAYER_NAME\": \"mergeo\"}, inplace = True)"
   ]
  },
  {
   "cell_type": "code",
   "execution_count": 1199,
   "metadata": {},
   "outputs": [],
   "source": [
    "zona_7 = total7.merge(made7,how='left', left_on='PLAYER_NAME', right_on='PLAYER_NAME')\n",
    "zona_7.fillna(0, inplace = True)\n",
    "zona_7.drop(columns = [\"name_left_x\", \"name_left_y\"], inplace = True)\n",
    "zona_7.rename(columns = {\"shots_attempted\": \"zona7_attempted\", \"shots_made\": \"zona7_made\", \"PLAYER_NAME\": \"mergeo\"}, inplace = True)"
   ]
  },
  {
   "cell_type": "code",
   "execution_count": 1200,
   "metadata": {},
   "outputs": [],
   "source": [
    "zona_8 = total8.merge(made8,how='left', left_on='PLAYER_NAME', right_on='PLAYER_NAME')\n",
    "zona_8.fillna(0, inplace = True)\n",
    "zona_8.drop(columns = [\"name_left_x\", \"name_left_y\"], inplace = True)\n",
    "zona_8.rename(columns = {\"shots_attempted\": \"zona8_attempted\", \"shots_made\": \"zona8_made\", \"PLAYER_NAME\": \"mergeo\"}, inplace = True)"
   ]
  },
  {
   "cell_type": "code",
   "execution_count": 1201,
   "metadata": {},
   "outputs": [],
   "source": [
    "zona_9 = total9.merge(made9,how='left', left_on='PLAYER_NAME', right_on='PLAYER_NAME')\n",
    "zona_9.fillna(0, inplace = True)\n",
    "zona_9.drop(columns = [\"name_left_x\", \"name_left_y\"], inplace = True)\n",
    "zona_9.rename(columns = {\"shots_attempted\": \"zona9_attempted\", \"shots_made\": \"zona9_made\", \"PLAYER_NAME\": \"mergeo\"}, inplace = True)"
   ]
  },
  {
   "cell_type": "code",
   "execution_count": 1202,
   "metadata": {},
   "outputs": [],
   "source": [
    "zona_10 = total10.merge(made10,how='left', left_on='PLAYER_NAME', right_on='PLAYER_NAME')\n",
    "zona_10.fillna(0, inplace = True)\n",
    "zona_10.drop(columns = [\"name_left_x\", \"name_left_y\"], inplace = True)\n",
    "zona_10.rename(columns = {\"shots_attempted\": \"zona10_attempted\", \"shots_made\": \"zona10_made\", \"PLAYER_NAME\": \"mergeo\"}, inplace = True)"
   ]
  },
  {
   "cell_type": "code",
   "execution_count": 1203,
   "metadata": {},
   "outputs": [],
   "source": [
    "zona_11 = total11.merge(made11,how='left', left_on='PLAYER_NAME', right_on='PLAYER_NAME')\n",
    "zona_11.fillna(0, inplace = True)\n",
    "zona_11.drop(columns = [\"name_left_x\", \"name_left_y\"], inplace = True)\n",
    "zona_11.rename(columns = {\"shots_attempted\": \"zona11_attempted\", \"shots_made\": \"zona11_made\", \"PLAYER_NAME\": \"mergeo\"}, inplace = True)"
   ]
  },
  {
   "cell_type": "code",
   "execution_count": 1204,
   "metadata": {},
   "outputs": [],
   "source": [
    "zona_12 = total12.merge(made12,how='left', left_on='PLAYER_NAME', right_on='PLAYER_NAME')\n",
    "zona_12.fillna(0, inplace = True)\n",
    "zona_12.drop(columns = [\"name_left_x\", \"name_left_y\"], inplace = True)\n",
    "zona_12.rename(columns = {\"shots_attempted\": \"zona12_attempted\", \"shots_made\": \"zona12_made\", \"PLAYER_NAME\": \"mergeo\"}, inplace = True)"
   ]
  },
  {
   "cell_type": "markdown",
   "metadata": {},
   "source": [
    "### Importamos DataFrame de estadísticas generales"
   ]
  },
  {
   "cell_type": "code",
   "execution_count": 34,
   "metadata": {},
   "outputs": [],
   "source": [
    "average_stats = pd.read_csv(\"./data/acb_stats.csv\")"
   ]
  },
  {
   "cell_type": "code",
   "execution_count": 35,
   "metadata": {},
   "outputs": [
    {
     "data": {
      "text/html": [
       "<div>\n",
       "<style scoped>\n",
       "    .dataframe tbody tr th:only-of-type {\n",
       "        vertical-align: middle;\n",
       "    }\n",
       "\n",
       "    .dataframe tbody tr th {\n",
       "        vertical-align: top;\n",
       "    }\n",
       "\n",
       "    .dataframe thead th {\n",
       "        text-align: right;\n",
       "    }\n",
       "</style>\n",
       "<table border=\"1\" class=\"dataframe\">\n",
       "  <thead>\n",
       "    <tr style=\"text-align: right;\">\n",
       "      <th></th>\n",
       "      <th>#</th>\n",
       "      <th>PLAYER_NAME</th>\n",
       "      <th>Team</th>\n",
       "      <th>GP</th>\n",
       "      <th>MIN</th>\n",
       "      <th>FGM</th>\n",
       "      <th>FGA</th>\n",
       "      <th>FG%</th>\n",
       "      <th>3PM</th>\n",
       "      <th>3PA</th>\n",
       "      <th>...</th>\n",
       "      <th>DRB</th>\n",
       "      <th>REB</th>\n",
       "      <th>AST</th>\n",
       "      <th>STL</th>\n",
       "      <th>BLK</th>\n",
       "      <th>PTS</th>\n",
       "      <th>Pos</th>\n",
       "      <th>Height</th>\n",
       "      <th>Weight</th>\n",
       "      <th>Age</th>\n",
       "    </tr>\n",
       "  </thead>\n",
       "  <tbody>\n",
       "    <tr>\n",
       "      <th>124</th>\n",
       "      <td>1</td>\n",
       "      <td>A.J. Slaughter</td>\n",
       "      <td>GCN</td>\n",
       "      <td>22</td>\n",
       "      <td>24.3</td>\n",
       "      <td>5.0</td>\n",
       "      <td>10.2</td>\n",
       "      <td>0.484</td>\n",
       "      <td>1.7</td>\n",
       "      <td>4.2</td>\n",
       "      <td>...</td>\n",
       "      <td>1.9</td>\n",
       "      <td>2.3</td>\n",
       "      <td>3.7</td>\n",
       "      <td>1.1</td>\n",
       "      <td>0.2</td>\n",
       "      <td>13.7</td>\n",
       "      <td>G</td>\n",
       "      <td>6-4</td>\n",
       "      <td>185</td>\n",
       "      <td>33</td>\n",
       "    </tr>\n",
       "    <tr>\n",
       "      <th>174</th>\n",
       "      <td>5</td>\n",
       "      <td>Aaron Doornekamp</td>\n",
       "      <td>CAN</td>\n",
       "      <td>31</td>\n",
       "      <td>25.6</td>\n",
       "      <td>2.6</td>\n",
       "      <td>6.1</td>\n",
       "      <td>0.431</td>\n",
       "      <td>2.0</td>\n",
       "      <td>4.6</td>\n",
       "      <td>...</td>\n",
       "      <td>2.9</td>\n",
       "      <td>3.5</td>\n",
       "      <td>1.3</td>\n",
       "      <td>0.8</td>\n",
       "      <td>0.1</td>\n",
       "      <td>8.4</td>\n",
       "      <td>PF</td>\n",
       "      <td>6-7</td>\n",
       "      <td>212</td>\n",
       "      <td>35</td>\n",
       "    </tr>\n",
       "    <tr>\n",
       "      <th>274</th>\n",
       "      <td>15</td>\n",
       "      <td>Aaron Jones</td>\n",
       "      <td>BBB</td>\n",
       "      <td>8</td>\n",
       "      <td>19.7</td>\n",
       "      <td>1.6</td>\n",
       "      <td>3.9</td>\n",
       "      <td>0.419</td>\n",
       "      <td>0.4</td>\n",
       "      <td>1.0</td>\n",
       "      <td>...</td>\n",
       "      <td>1.5</td>\n",
       "      <td>3.8</td>\n",
       "      <td>1.0</td>\n",
       "      <td>0.5</td>\n",
       "      <td>0.4</td>\n",
       "      <td>4.1</td>\n",
       "      <td>F</td>\n",
       "      <td>6-9</td>\n",
       "      <td>220</td>\n",
       "      <td>27</td>\n",
       "    </tr>\n",
       "    <tr>\n",
       "      <th>281</th>\n",
       "      <td>2</td>\n",
       "      <td>Achille Polonara</td>\n",
       "      <td>CAJ</td>\n",
       "      <td>33</td>\n",
       "      <td>26.5</td>\n",
       "      <td>4.2</td>\n",
       "      <td>8.8</td>\n",
       "      <td>0.479</td>\n",
       "      <td>1.4</td>\n",
       "      <td>4.1</td>\n",
       "      <td>...</td>\n",
       "      <td>3.8</td>\n",
       "      <td>5.5</td>\n",
       "      <td>1.9</td>\n",
       "      <td>1.1</td>\n",
       "      <td>0.5</td>\n",
       "      <td>11.3</td>\n",
       "      <td>PF</td>\n",
       "      <td>6-8</td>\n",
       "      <td>198</td>\n",
       "      <td>29</td>\n",
       "    </tr>\n",
       "    <tr>\n",
       "      <th>23</th>\n",
       "      <td>11</td>\n",
       "      <td>Adam Hanga</td>\n",
       "      <td>FCB</td>\n",
       "      <td>31</td>\n",
       "      <td>16.1</td>\n",
       "      <td>2.2</td>\n",
       "      <td>3.7</td>\n",
       "      <td>0.578</td>\n",
       "      <td>1.1</td>\n",
       "      <td>2.0</td>\n",
       "      <td>...</td>\n",
       "      <td>2.8</td>\n",
       "      <td>3.4</td>\n",
       "      <td>2.1</td>\n",
       "      <td>0.8</td>\n",
       "      <td>0.4</td>\n",
       "      <td>6.2</td>\n",
       "      <td>SF</td>\n",
       "      <td>6-7</td>\n",
       "      <td>200</td>\n",
       "      <td>31</td>\n",
       "    </tr>\n",
       "  </tbody>\n",
       "</table>\n",
       "<p>5 rows × 27 columns</p>\n",
       "</div>"
      ],
      "text/plain": [
       "      #       PLAYER_NAME Team  GP   MIN  FGM   FGA    FG%  3PM  3PA  ...  \\\n",
       "124   1    A.J. Slaughter  GCN  22  24.3  5.0  10.2  0.484  1.7  4.2  ...   \n",
       "174   5  Aaron Doornekamp  CAN  31  25.6  2.6   6.1  0.431  2.0  4.6  ...   \n",
       "274  15       Aaron Jones  BBB   8  19.7  1.6   3.9  0.419  0.4  1.0  ...   \n",
       "281   2  Achille Polonara  CAJ  33  26.5  4.2   8.8  0.479  1.4  4.1  ...   \n",
       "23   11        Adam Hanga  FCB  31  16.1  2.2   3.7  0.578  1.1  2.0  ...   \n",
       "\n",
       "     DRB  REB  AST  STL  BLK   PTS  Pos  Height  Weight  Age  \n",
       "124  1.9  2.3  3.7  1.1  0.2  13.7    G     6-4     185   33  \n",
       "174  2.9  3.5  1.3  0.8  0.1   8.4   PF     6-7     212   35  \n",
       "274  1.5  3.8  1.0  0.5  0.4   4.1    F     6-9     220   27  \n",
       "281  3.8  5.5  1.9  1.1  0.5  11.3   PF     6-8     198   29  \n",
       "23   2.8  3.4  2.1  0.8  0.4   6.2   SF     6-7     200   31  \n",
       "\n",
       "[5 rows x 27 columns]"
      ]
     },
     "execution_count": 35,
     "metadata": {},
     "output_type": "execute_result"
    }
   ],
   "source": [
    "average_stats.drop(columns = [\"Unnamed: 0\"], inplace = True)\n",
    "average_stats.rename(columns = {\"Player\": \"PLAYER_NAME\"}, inplace = True)\n",
    "average_stats.sort_values('PLAYER_NAME', ascending = True, inplace = True)\n",
    "average_stats.head()"
   ]
  },
  {
   "cell_type": "code",
   "execution_count": 1258,
   "metadata": {},
   "outputs": [
    {
     "name": "stderr",
     "output_type": "stream",
     "text": [
      "<ipython-input-1258-5453df86f208>:1: FutureWarning: The default value of regex will change from True to False in a future version.\n",
      "  average_stats[\"PLAYER_NAME\"] = average_stats[\"PLAYER_NAME\"].str.replace('Osas Ehigitor', 'Osas Ehigiator').str.replace('T. Mcfadden', 'T. McFadden').str.replace('D. Dileo', 'D. DiLeo').str.replace('Tunde Olumuyiwa', 'B. Olumuyiwa').str.replace('K. C. Jr.', 'K. Cheatham').str.replace('T. Bray', 'TJ Bray').str.replace('J. Barea', 'JJ Barea').str.replace('S. V. Rossom', 'S. Van Rossom').str.replace('J. W. Iii', 'J. Webb').str.replace('M. Kingsley', 'K. Moses').str.replace('A. D. Valle', 'A. Della Valle').str.replace('D. Rendl', 'J. Randle').str.replace('R. S. Miguel', 'R. San Miguel').str.replace('T. Campbell', 'TJ Campbell').str.replace('F. S. Emeterio', 'F. San Emeterio')\n"
     ]
    }
   ],
   "source": [
    "average_stats[\"PLAYER_NAME\"] = average_stats[\"PLAYER_NAME\"].str.replace('Osas Ehigitor', 'Osas Ehigiator').str.replace('T. Mcfadden', 'T. McFadden').str.replace('D. Dileo', 'D. DiLeo').str.replace('Tunde Olumuyiwa', 'B. Olumuyiwa').str.replace('K. C. Jr.', 'K. Cheatham').str.replace('T. Bray', 'TJ Bray').str.replace('J. Barea', 'JJ Barea').str.replace('S. V. Rossom', 'S. Van Rossom').str.replace('J. W. Iii', 'J. Webb').str.replace('M. Kingsley', 'K. Moses').str.replace('A. D. Valle', 'A. Della Valle').str.replace('D. Rendl', 'J. Randle').str.replace('R. S. Miguel', 'R. San Miguel').str.replace('T. Campbell', 'TJ Campbell').str.replace('F. S. Emeterio', 'F. San Emeterio')"
   ]
  },
  {
   "cell_type": "code",
   "execution_count": 1259,
   "metadata": {},
   "outputs": [],
   "source": [
    "nombres = list(average_stats[\"PLAYER_NAME\"])\n",
    "cambio_nombre = []\n",
    "for s in nombres:\n",
    "    l = s.split()\n",
    "    new = \"\"\n",
    "    for i in range(len(l)-1):\n",
    "        s = l[i]\n",
    "        new += (s[0].upper()+'. ')\n",
    "    new += l[-1].title()\n",
    "    cambio_nombre.append(new)"
   ]
  },
  {
   "cell_type": "code",
   "execution_count": 1261,
   "metadata": {},
   "outputs": [],
   "source": [
    "average_stats[\"mergeo\"] = cambio_nombre\n",
    "average_stats[\"mergeo\"] = average_stats[\"mergeo\"].str.replace('O. Ehigitor', 'O. Ehigiator').str.replace('T. Mcfadden', 'T. McFadden').str.replace('D. Dileo', 'D. DiLeo').str.replace('T. Olumuyiwa', 'B. Olumuyiwa').str.replace('K. C. Jr.', 'K. Cheatham').str.replace('T. Bray', 'TJ Bray').str.replace('J. Barea', 'JJ Barea').str.replace('S. V. Rossom', 'S. Van Rossom').str.replace('J. W. Iii', 'J. Webb').str.replace('M. Kingsley', 'K. Moses').str.replace('A. D. Valle', 'A. Della Valle').str.replace('D. Rendl', 'J. Randle').str.replace('R. S. Miguel', 'R. San Miguel').str.replace('T. Campbell', 'TJ Campbell').str.replace('F. S. Emeterio', 'F. San Emeterio')\n",
    "average_stats.head()"
   ]
  },
  {
   "cell_type": "code",
   "execution_count": 1264,
   "metadata": {},
   "outputs": [],
   "source": [
    "final = average_stats.merge(zona_1, how = 'left', left_on='mergeo', right_on='mergeo')\n",
    "final = final.merge(zona_2, how = 'left', left_on='mergeo', right_on='mergeo')\n",
    "final = final.merge(zona_3, how = 'left', left_on='mergeo', right_on='mergeo')\n",
    "final = final.merge(zona_4, how = 'left', left_on='mergeo', right_on='mergeo')\n",
    "final = final.merge(zona_5, how = 'left', left_on='mergeo', right_on='mergeo')\n",
    "final = final.merge(zona_6, how = 'left', left_on='mergeo', right_on='mergeo')\n",
    "final = final.merge(zona_7, how = 'left', left_on='mergeo', right_on='mergeo')\n",
    "final = final.merge(zona_8, how = 'left', left_on='mergeo', right_on='mergeo')\n",
    "final = final.merge(zona_9, how = 'left', left_on='mergeo', right_on='mergeo')\n",
    "final = final.merge(zona_10, how = 'left', left_on='mergeo', right_on='mergeo')\n",
    "final = final.merge(zona_11, how = 'left', left_on='mergeo', right_on='mergeo')\n",
    "final = final.merge(zona_12, how = 'left', left_on='mergeo', right_on='mergeo')"
   ]
  },
  {
   "cell_type": "code",
   "execution_count": 1265,
   "metadata": {},
   "outputs": [],
   "source": [
    "final.drop(columns = [\"mergeo\"], inplace = True)\n",
    "final.fillna(0, inplace= True)\n",
    "final = final.loc[final[\"GP\"] > 7]\n",
    "final.head()"
   ]
  },
  {
   "cell_type": "code",
   "execution_count": 1275,
   "metadata": {},
   "outputs": [],
   "source": [
    "final.to_csv(\"./data/final_average_stats.csv\")"
   ]
  }
 ],
 "metadata": {
  "kernelspec": {
   "display_name": "ironhac",
   "language": "python",
   "name": "ironhac"
  },
  "language_info": {
   "codemirror_mode": {
    "name": "ipython",
    "version": 3
   },
   "file_extension": ".py",
   "mimetype": "text/x-python",
   "name": "python",
   "nbconvert_exporter": "python",
   "pygments_lexer": "ipython3",
   "version": "3.8.2"
  }
 },
 "nbformat": 4,
 "nbformat_minor": 2
}
