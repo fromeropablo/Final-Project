{
 "cells": [
  {
   "cell_type": "code",
   "execution_count": 1,
   "metadata": {},
   "outputs": [],
   "source": [
    "import pandas as pd\n",
    "import json\n",
    "import re\n",
    "import src.cleaning as cl"
   ]
  },
  {
   "cell_type": "code",
   "execution_count": 2,
   "metadata": {},
   "outputs": [],
   "source": [
    "df = pd.read_csv(\"./data/shots_v1.csv\")"
   ]
  },
  {
   "cell_type": "code",
   "execution_count": 3,
   "metadata": {},
   "outputs": [
    {
     "data": {
      "text/html": [
       "<div>\n",
       "<style scoped>\n",
       "    .dataframe tbody tr th:only-of-type {\n",
       "        vertical-align: middle;\n",
       "    }\n",
       "\n",
       "    .dataframe tbody tr th {\n",
       "        vertical-align: top;\n",
       "    }\n",
       "\n",
       "    .dataframe thead th {\n",
       "        text-align: right;\n",
       "    }\n",
       "</style>\n",
       "<table border=\"1\" class=\"dataframe\">\n",
       "  <thead>\n",
       "    <tr style=\"text-align: right;\">\n",
       "      <th></th>\n",
       "      <th>Unnamed: 0</th>\n",
       "      <th>0</th>\n",
       "      <th>1</th>\n",
       "    </tr>\n",
       "  </thead>\n",
       "  <tbody>\n",
       "    <tr>\n",
       "      <th>0</th>\n",
       "      <td>0</td>\n",
       "      <td>1</td>\n",
       "      <td>[{'A. Della Valle': ['#local-out', '104.418306...</td>\n",
       "    </tr>\n",
       "    <tr>\n",
       "      <th>1</th>\n",
       "      <td>1</td>\n",
       "      <td>2</td>\n",
       "      <td>[{'J. Zyskowski': ['#local-in', '24.75', '126....</td>\n",
       "    </tr>\n",
       "    <tr>\n",
       "      <th>2</th>\n",
       "      <td>2</td>\n",
       "      <td>3</td>\n",
       "      <td>[{'D. DiLeo': ['#local-out', '166.684342478713...</td>\n",
       "    </tr>\n",
       "    <tr>\n",
       "      <th>3</th>\n",
       "      <td>3</td>\n",
       "      <td>4</td>\n",
       "      <td>[{'J. Rousselle': ['#local-in', '24.75', '134....</td>\n",
       "    </tr>\n",
       "    <tr>\n",
       "      <th>4</th>\n",
       "      <td>4</td>\n",
       "      <td>5</td>\n",
       "      <td>[{'J. Vaulet': ['#local-dunk', '24.75', '141.2...</td>\n",
       "    </tr>\n",
       "  </tbody>\n",
       "</table>\n",
       "</div>"
      ],
      "text/plain": [
       "   Unnamed: 0  0                                                  1\n",
       "0           0  1  [{'A. Della Valle': ['#local-out', '104.418306...\n",
       "1           1  2  [{'J. Zyskowski': ['#local-in', '24.75', '126....\n",
       "2           2  3  [{'D. DiLeo': ['#local-out', '166.684342478713...\n",
       "3           3  4  [{'J. Rousselle': ['#local-in', '24.75', '134....\n",
       "4           4  5  [{'J. Vaulet': ['#local-dunk', '24.75', '141.2..."
      ]
     },
     "execution_count": 3,
     "metadata": {},
     "output_type": "execute_result"
    }
   ],
   "source": [
    "df.head()"
   ]
  },
  {
   "cell_type": "code",
   "execution_count": 4,
   "metadata": {},
   "outputs": [],
   "source": [
    "df.rename(columns = {\"0\": \"Jornada\"}, inplace = True)\n",
    "df.drop(columns = [\"Unnamed: 0\"], inplace = True)"
   ]
  },
  {
   "cell_type": "code",
   "execution_count": 5,
   "metadata": {},
   "outputs": [],
   "source": [
    "names = cl.shots_per_player(df)"
   ]
  },
  {
   "cell_type": "code",
   "execution_count": 6,
   "metadata": {},
   "outputs": [],
   "source": [
    "for elem in names:\n",
    "    if elem == \" \":\n",
    "        names.remove(elem)"
   ]
  },
  {
   "cell_type": "code",
   "execution_count": 7,
   "metadata": {},
   "outputs": [
    {
     "data": {
      "text/plain": [
       "37285"
      ]
     },
     "execution_count": 7,
     "metadata": {},
     "output_type": "execute_result"
    }
   ],
   "source": [
    "len(names)"
   ]
  },
  {
   "cell_type": "code",
   "execution_count": 8,
   "metadata": {},
   "outputs": [],
   "source": [
    "jornadas, prueba = cl.cumulat_shots(df)\n"
   ]
  },
  {
   "cell_type": "code",
   "execution_count": 9,
   "metadata": {},
   "outputs": [
    {
     "data": {
      "text/plain": [
       "33"
      ]
     },
     "execution_count": 9,
     "metadata": {},
     "output_type": "execute_result"
    }
   ],
   "source": [
    "len(jornadas)"
   ]
  },
  {
   "cell_type": "code",
   "execution_count": 10,
   "metadata": {},
   "outputs": [],
   "source": [
    "# As we had problems trying to append the first gameday number of shots, we append it before looping. \n",
    "shots_per_jornada = [1157]\n",
    "for i in range(len(jornadas)-1):\n",
    "    shots_per_jornada.append(jornadas[i+1]-jornadas[i])"
   ]
  },
  {
   "cell_type": "code",
   "execution_count": 11,
   "metadata": {},
   "outputs": [
    {
     "data": {
      "text/plain": [
       "[1157,\n",
       " 1133,\n",
       " 1141,\n",
       " 1133,\n",
       " 1133,\n",
       " 1125,\n",
       " 1135,\n",
       " 1109,\n",
       " 1112,\n",
       " 1101,\n",
       " 1146,\n",
       " 1110,\n",
       " 1107,\n",
       " 1163,\n",
       " 1173,\n",
       " 1138,\n",
       " 1051,\n",
       " 1116,\n",
       " 1140,\n",
       " 1145,\n",
       " 1158,\n",
       " 985,\n",
       " 1149,\n",
       " 1157,\n",
       " 1132,\n",
       " 1159,\n",
       " 1128,\n",
       " 1141,\n",
       " 1138,\n",
       " 1147,\n",
       " 1136,\n",
       " 1166,\n",
       " 1121]"
      ]
     },
     "execution_count": 11,
     "metadata": {},
     "output_type": "execute_result"
    }
   ],
   "source": [
    "shots_per_jornada"
   ]
  },
  {
   "cell_type": "code",
   "execution_count": 12,
   "metadata": {},
   "outputs": [],
   "source": [
    "num_jornada = list(range(1, 35))\n",
    "num_jornada = [str(x) for x in num_jornada]"
   ]
  },
  {
   "cell_type": "code",
   "execution_count": 13,
   "metadata": {},
   "outputs": [],
   "source": [
    "final_jornada = sum([[s] * n for s, n in zip(num_jornada, shots_per_jornada)], [])"
   ]
  },
  {
   "cell_type": "code",
   "execution_count": 14,
   "metadata": {},
   "outputs": [
    {
     "data": {
      "text/plain": [
       "37285"
      ]
     },
     "execution_count": 14,
     "metadata": {},
     "output_type": "execute_result"
    }
   ],
   "source": [
    "#Finally we get a list with values from 1 to 34 (gamedays played) according to when every shot was made. \n",
    "len(final_jornada)"
   ]
  },
  {
   "cell_type": "markdown",
   "metadata": {},
   "source": [
    "### Now we are gonna divide the list \"prueba\" in order to get data for each three elements. "
   ]
  },
  {
   "cell_type": "markdown",
   "metadata": {},
   "source": [
    "### Here we divide the information contained in \"prueba\" in three lists. One to know if the shot was made or not, as a local or as a visitor. Another for its coordinate x and the last one for its coordinate y."
   ]
  },
  {
   "cell_type": "code",
   "execution_count": 16,
   "metadata": {},
   "outputs": [],
   "source": [
    "made = []\n",
    "for i in range(0, len(prueba), 3):\n",
    "    made.append(prueba[i])\n",
    "    \n",
    "coord_x = []\n",
    "for i in range(1, len(prueba), 3):\n",
    "    coord_x.append(prueba[i])\n",
    "    \n",
    "coord_y = []\n",
    "for i in range(2, len(prueba), 3):\n",
    "    coord_y.append(prueba[i])\n",
    "    \n",
    "cositas = list(zip(names, final_jornada, made, coord_x, coord_y))\n",
    "df = pd.DataFrame(cositas)\n",
    "df.rename(columns = {0: \"name\", 1: \"jornada\", 2: \"shot\", 3: \"coord_x\", 4: \"coord_y\"}, inplace = True)"
   ]
  },
  {
   "cell_type": "code",
   "execution_count": 17,
   "metadata": {},
   "outputs": [
    {
     "data": {
      "text/html": [
       "<div>\n",
       "<style scoped>\n",
       "    .dataframe tbody tr th:only-of-type {\n",
       "        vertical-align: middle;\n",
       "    }\n",
       "\n",
       "    .dataframe tbody tr th {\n",
       "        vertical-align: top;\n",
       "    }\n",
       "\n",
       "    .dataframe thead th {\n",
       "        text-align: right;\n",
       "    }\n",
       "</style>\n",
       "<table border=\"1\" class=\"dataframe\">\n",
       "  <thead>\n",
       "    <tr style=\"text-align: right;\">\n",
       "      <th></th>\n",
       "      <th>name</th>\n",
       "      <th>jornada</th>\n",
       "      <th>shot</th>\n",
       "      <th>coord_x</th>\n",
       "      <th>coord_y</th>\n",
       "    </tr>\n",
       "  </thead>\n",
       "  <tbody>\n",
       "    <tr>\n",
       "      <th>0</th>\n",
       "      <td>J. Zyskowski</td>\n",
       "      <td>1</td>\n",
       "      <td>#local-in</td>\n",
       "      <td>24.75</td>\n",
       "      <td>126.41666666666667</td>\n",
       "    </tr>\n",
       "    <tr>\n",
       "      <th>1</th>\n",
       "      <td>J. Zyskowski</td>\n",
       "      <td>1</td>\n",
       "      <td>#local-in</td>\n",
       "      <td>24.75</td>\n",
       "      <td>23.883333333333333</td>\n",
       "    </tr>\n",
       "    <tr>\n",
       "      <th>2</th>\n",
       "      <td>J. Zyskowski</td>\n",
       "      <td>1</td>\n",
       "      <td>#local-out</td>\n",
       "      <td>25.705345316934725</td>\n",
       "      <td>23.883333333333333</td>\n",
       "    </tr>\n",
       "    <tr>\n",
       "      <th>3</th>\n",
       "      <td>J. Zyskowski</td>\n",
       "      <td>1</td>\n",
       "      <td>#local-in</td>\n",
       "      <td>27.616035950804164</td>\n",
       "      <td>137.86666666666667</td>\n",
       "    </tr>\n",
       "    <tr>\n",
       "      <th>4</th>\n",
       "      <td>J. Zyskowski</td>\n",
       "      <td>1</td>\n",
       "      <td>#local-in</td>\n",
       "      <td>27.12899716177862</td>\n",
       "      <td>129.81666666666666</td>\n",
       "    </tr>\n",
       "  </tbody>\n",
       "</table>\n",
       "</div>"
      ],
      "text/plain": [
       "            name jornada        shot             coord_x             coord_y\n",
       "0   J. Zyskowski       1   #local-in               24.75  126.41666666666667\n",
       "1   J. Zyskowski       1   #local-in               24.75  23.883333333333333\n",
       "2   J. Zyskowski       1  #local-out  25.705345316934725  23.883333333333333\n",
       "3   J. Zyskowski       1   #local-in  27.616035950804164  137.86666666666667\n",
       "4   J. Zyskowski       1   #local-in   27.12899716177862  129.81666666666666"
      ]
     },
     "execution_count": 17,
     "metadata": {},
     "output_type": "execute_result"
    }
   ],
   "source": [
    "df.head()"
   ]
  },
  {
   "cell_type": "code",
   "execution_count": 18,
   "metadata": {},
   "outputs": [],
   "source": [
    "df[\"coord_x\"] = pd.to_numeric(df[\"coord_x\"], downcast=\"float\")\n",
    "df[\"coord_y\"] = pd.to_numeric(df[\"coord_y\"], downcast=\"float\")\n",
    "df[\"jornada\"] = pd.to_numeric(df[\"jornada\"], downcast=\"integer\")"
   ]
  },
  {
   "cell_type": "code",
   "execution_count": 19,
   "metadata": {},
   "outputs": [
    {
     "name": "stderr",
     "output_type": "stream",
     "text": [
      "<ipython-input-19-6cad6d911b17>:3: SettingWithCopyWarning: \n",
      "A value is trying to be set on a copy of a slice from a DataFrame.\n",
      "Try using .loc[row_indexer,col_indexer] = value instead\n",
      "\n",
      "See the caveats in the documentation: https://pandas.pydata.org/pandas-docs/stable/user_guide/indexing.html#returning-a-view-versus-a-copy\n",
      "  df_visitor[\"coord_x\"] = abs(df_visitor[\"coord_x\"] - 513)\n"
     ]
    }
   ],
   "source": [
    "df_visitor = df.loc[(df[\"shot\"] == \"#visitor-in\") | (df[\"shot\"] == \"#visitor-out\") | (df[\"shot\"] == \"#visitor-dunk\")]\n",
    "df_local = df.loc[(df[\"shot\"] == \"#local-in\") | (df[\"shot\"] == \"#local-out\") | (df[\"shot\"] == \"#local-dunk\")]\n",
    "df_visitor[\"coord_x\"] = abs(df_visitor[\"coord_x\"] - 513)\n",
    "df = pd.concat([df_local, df_visitor])\n",
    "df[\"name\"] = df[\"name\"].str.strip()"
   ]
  },
  {
   "cell_type": "code",
   "execution_count": 20,
   "metadata": {},
   "outputs": [],
   "source": [
    "df.to_csv(\"./data/database_shots.csv\")"
   ]
  }
 ],
 "metadata": {
  "kernelspec": {
   "display_name": "ironhac",
   "language": "python",
   "name": "ironhac"
  },
  "language_info": {
   "codemirror_mode": {
    "name": "ipython",
    "version": 3
   },
   "file_extension": ".py",
   "mimetype": "text/x-python",
   "name": "python",
   "nbconvert_exporter": "python",
   "pygments_lexer": "ipython3",
   "version": "3.8.2"
  }
 },
 "nbformat": 4,
 "nbformat_minor": 2
}
