{
 "cells": [
  {
   "cell_type": "code",
   "execution_count": 1,
   "metadata": {},
   "outputs": [],
   "source": [
    "import pandas as pd\n",
    "import json\n",
    "import re\n",
    "import src.cleaning as cl"
   ]
  },
  {
   "cell_type": "code",
   "execution_count": 212,
   "metadata": {},
   "outputs": [],
   "source": [
    "df = pd.read_csv(\"./data/shots_v1.csv\")"
   ]
  },
  {
   "cell_type": "code",
   "execution_count": 246,
   "metadata": {},
   "outputs": [
    {
     "data": {
      "text/html": [
       "<div>\n",
       "<style scoped>\n",
       "    .dataframe tbody tr th:only-of-type {\n",
       "        vertical-align: middle;\n",
       "    }\n",
       "\n",
       "    .dataframe tbody tr th {\n",
       "        vertical-align: top;\n",
       "    }\n",
       "\n",
       "    .dataframe thead th {\n",
       "        text-align: right;\n",
       "    }\n",
       "</style>\n",
       "<table border=\"1\" class=\"dataframe\">\n",
       "  <thead>\n",
       "    <tr style=\"text-align: right;\">\n",
       "      <th></th>\n",
       "      <th>name</th>\n",
       "      <th>jornada</th>\n",
       "      <th>shot</th>\n",
       "      <th>coord_x</th>\n",
       "      <th>coord_y</th>\n",
       "    </tr>\n",
       "  </thead>\n",
       "  <tbody>\n",
       "    <tr>\n",
       "      <th>0</th>\n",
       "      <td>J. Zyskowski</td>\n",
       "      <td>1</td>\n",
       "      <td>#local-in</td>\n",
       "      <td>24.750000</td>\n",
       "      <td>126.416664</td>\n",
       "    </tr>\n",
       "    <tr>\n",
       "      <th>1</th>\n",
       "      <td>J. Zyskowski</td>\n",
       "      <td>1</td>\n",
       "      <td>#local-in</td>\n",
       "      <td>24.750000</td>\n",
       "      <td>23.883333</td>\n",
       "    </tr>\n",
       "    <tr>\n",
       "      <th>2</th>\n",
       "      <td>J. Zyskowski</td>\n",
       "      <td>1</td>\n",
       "      <td>#local-out</td>\n",
       "      <td>25.705345</td>\n",
       "      <td>23.883333</td>\n",
       "    </tr>\n",
       "    <tr>\n",
       "      <th>3</th>\n",
       "      <td>J. Zyskowski</td>\n",
       "      <td>1</td>\n",
       "      <td>#local-in</td>\n",
       "      <td>27.616035</td>\n",
       "      <td>137.866669</td>\n",
       "    </tr>\n",
       "    <tr>\n",
       "      <th>4</th>\n",
       "      <td>J. Zyskowski</td>\n",
       "      <td>1</td>\n",
       "      <td>#local-in</td>\n",
       "      <td>27.128998</td>\n",
       "      <td>129.816666</td>\n",
       "    </tr>\n",
       "  </tbody>\n",
       "</table>\n",
       "</div>"
      ],
      "text/plain": [
       "           name  jornada        shot    coord_x     coord_y\n",
       "0  J. Zyskowski        1   #local-in  24.750000  126.416664\n",
       "1  J. Zyskowski        1   #local-in  24.750000   23.883333\n",
       "2  J. Zyskowski        1  #local-out  25.705345   23.883333\n",
       "3  J. Zyskowski        1   #local-in  27.616035  137.866669\n",
       "4  J. Zyskowski        1   #local-in  27.128998  129.816666"
      ]
     },
     "execution_count": 246,
     "metadata": {},
     "output_type": "execute_result"
    }
   ],
   "source": [
    "df.head()"
   ]
  },
  {
   "cell_type": "code",
   "execution_count": 214,
   "metadata": {},
   "outputs": [],
   "source": [
    "df.rename(columns = {\"0\": \"Jornada\"}, inplace = True)\n",
    "df.drop(columns = [\"Unnamed: 0\"], inplace = True)"
   ]
  },
  {
   "cell_type": "code",
   "execution_count": 215,
   "metadata": {},
   "outputs": [],
   "source": [
    "names = cl.shots_per_player(df)"
   ]
  },
  {
   "cell_type": "code",
   "execution_count": 217,
   "metadata": {},
   "outputs": [],
   "source": [
    "for elem in names:\n",
    "    if elem == \" \":\n",
    "        names.remove(elem)"
   ]
  },
  {
   "cell_type": "code",
   "execution_count": 218,
   "metadata": {},
   "outputs": [
    {
     "data": {
      "text/plain": [
       "37285"
      ]
     },
     "execution_count": 218,
     "metadata": {},
     "output_type": "execute_result"
    }
   ],
   "source": [
    "len(names)"
   ]
  },
  {
   "cell_type": "code",
   "execution_count": 219,
   "metadata": {},
   "outputs": [],
   "source": [
    "jornadas = cl.cumulat_shots(df)"
   ]
  },
  {
   "cell_type": "code",
   "execution_count": 221,
   "metadata": {},
   "outputs": [
    {
     "data": {
      "text/plain": [
       "33"
      ]
     },
     "execution_count": 221,
     "metadata": {},
     "output_type": "execute_result"
    }
   ],
   "source": [
    "len(jornadas)"
   ]
  },
  {
   "cell_type": "code",
   "execution_count": 222,
   "metadata": {},
   "outputs": [],
   "source": [
    "# As we had problems trying to append the first gameday number of shots, we append it before looping. \n",
    "shots_per_jornada = [1157]\n",
    "for i in range(len(jornadas)-1):\n",
    "    shots_per_jornada.append(jornadas[i+1]-jornadas[i])"
   ]
  },
  {
   "cell_type": "code",
   "execution_count": 223,
   "metadata": {},
   "outputs": [
    {
     "data": {
      "text/plain": [
       "[1157,\n",
       " 1133,\n",
       " 1141,\n",
       " 1133,\n",
       " 1133,\n",
       " 1125,\n",
       " 1135,\n",
       " 1109,\n",
       " 1112,\n",
       " 1101,\n",
       " 1146,\n",
       " 1110,\n",
       " 1107,\n",
       " 1163,\n",
       " 1173,\n",
       " 1138,\n",
       " 1051,\n",
       " 1116,\n",
       " 1140,\n",
       " 1145,\n",
       " 1158,\n",
       " 985,\n",
       " 1149,\n",
       " 1157,\n",
       " 1132,\n",
       " 1159,\n",
       " 1128,\n",
       " 1141,\n",
       " 1138,\n",
       " 1147,\n",
       " 1136,\n",
       " 1166,\n",
       " 1121]"
      ]
     },
     "execution_count": 223,
     "metadata": {},
     "output_type": "execute_result"
    }
   ],
   "source": [
    "shots_per_jornada"
   ]
  },
  {
   "cell_type": "code",
   "execution_count": 224,
   "metadata": {},
   "outputs": [],
   "source": [
    "num_jornada = list(range(1, 35))\n",
    "num_jornada = [str(x) for x in num_jornada]"
   ]
  },
  {
   "cell_type": "code",
   "execution_count": 250,
   "metadata": {},
   "outputs": [],
   "source": [
    "final_jornada = sum([[s] * n for s, n in zip(num_jornada, shots_per_jornada)], [])"
   ]
  },
  {
   "cell_type": "code",
   "execution_count": 252,
   "metadata": {},
   "outputs": [
    {
     "data": {
      "text/plain": [
       "37285"
      ]
     },
     "execution_count": 252,
     "metadata": {},
     "output_type": "execute_result"
    }
   ],
   "source": [
    "#Finally we get a list with values from 1 to 34 (gamedays played) according to when every shot was made. \n",
    "len(final_jornada)"
   ]
  },
  {
   "cell_type": "markdown",
   "metadata": {},
   "source": [
    "### Now we are gonna divide the list \"prueba\" in order to get data for each three elements. "
   ]
  },
  {
   "cell_type": "code",
   "execution_count": 227,
   "metadata": {},
   "outputs": [
    {
     "data": {
      "text/plain": [
       "111855"
      ]
     },
     "execution_count": 227,
     "metadata": {},
     "output_type": "execute_result"
    }
   ],
   "source": [
    "#Our variable \"prueba\" contains all the information about shots every three values. \n",
    "len(prueba)"
   ]
  },
  {
   "cell_type": "markdown",
   "metadata": {},
   "source": [
    "### Here we divide the information contained in \"prueba\" in three lists. One to know if the shot was made or not, as a local or as a visitor. Another for its coordinate x and the last one for its coordinate y."
   ]
  },
  {
   "cell_type": "code",
   "execution_count": 228,
   "metadata": {},
   "outputs": [],
   "source": [
    "made = []\n",
    "for i in range(0, len(prueba), 3):\n",
    "    made.append(prueba[i])\n",
    "    \n",
    "coord_x = []\n",
    "for i in range(1, len(prueba), 3):\n",
    "    coord_x.append(prueba[i])\n",
    "    \n",
    "coord_y = []\n",
    "for i in range(2, len(prueba), 3):\n",
    "    coord_y.append(prueba[i])\n",
    "    \n",
    "cositas = list(zip(names, final_jornada, made, coord_x, coord_y))\n",
    "df = pd.DataFrame(cositas)\n",
    "df.rename(columns = {0: \"name\", 1: \"jornada\", 2: \"shot\", 3: \"coord_x\", 4: \"coord_y\"}, inplace = True)"
   ]
  },
  {
   "cell_type": "markdown",
   "metadata": {},
   "source": [
    "### Aquí ya tenemos el dataset mínimamente decente. Falta cambiar coordenadas x de visitors, poner nombres bien y agrupar bien"
   ]
  },
  {
   "cell_type": "code",
   "execution_count": 254,
   "metadata": {},
   "outputs": [
    {
     "data": {
      "text/html": [
       "<div>\n",
       "<style scoped>\n",
       "    .dataframe tbody tr th:only-of-type {\n",
       "        vertical-align: middle;\n",
       "    }\n",
       "\n",
       "    .dataframe tbody tr th {\n",
       "        vertical-align: top;\n",
       "    }\n",
       "\n",
       "    .dataframe thead th {\n",
       "        text-align: right;\n",
       "    }\n",
       "</style>\n",
       "<table border=\"1\" class=\"dataframe\">\n",
       "  <thead>\n",
       "    <tr style=\"text-align: right;\">\n",
       "      <th></th>\n",
       "      <th>name</th>\n",
       "      <th>jornada</th>\n",
       "      <th>shot</th>\n",
       "      <th>coord_x</th>\n",
       "      <th>coord_y</th>\n",
       "    </tr>\n",
       "  </thead>\n",
       "  <tbody>\n",
       "    <tr>\n",
       "      <th>0</th>\n",
       "      <td>J. Zyskowski</td>\n",
       "      <td>1</td>\n",
       "      <td>#local-in</td>\n",
       "      <td>24.750000</td>\n",
       "      <td>126.416664</td>\n",
       "    </tr>\n",
       "    <tr>\n",
       "      <th>1</th>\n",
       "      <td>J. Zyskowski</td>\n",
       "      <td>1</td>\n",
       "      <td>#local-in</td>\n",
       "      <td>24.750000</td>\n",
       "      <td>23.883333</td>\n",
       "    </tr>\n",
       "    <tr>\n",
       "      <th>2</th>\n",
       "      <td>J. Zyskowski</td>\n",
       "      <td>1</td>\n",
       "      <td>#local-out</td>\n",
       "      <td>25.705345</td>\n",
       "      <td>23.883333</td>\n",
       "    </tr>\n",
       "    <tr>\n",
       "      <th>3</th>\n",
       "      <td>J. Zyskowski</td>\n",
       "      <td>1</td>\n",
       "      <td>#local-in</td>\n",
       "      <td>27.616035</td>\n",
       "      <td>137.866669</td>\n",
       "    </tr>\n",
       "    <tr>\n",
       "      <th>4</th>\n",
       "      <td>J. Zyskowski</td>\n",
       "      <td>1</td>\n",
       "      <td>#local-in</td>\n",
       "      <td>27.128998</td>\n",
       "      <td>129.816666</td>\n",
       "    </tr>\n",
       "  </tbody>\n",
       "</table>\n",
       "</div>"
      ],
      "text/plain": [
       "           name  jornada        shot    coord_x     coord_y\n",
       "0  J. Zyskowski        1   #local-in  24.750000  126.416664\n",
       "1  J. Zyskowski        1   #local-in  24.750000   23.883333\n",
       "2  J. Zyskowski        1  #local-out  25.705345   23.883333\n",
       "3  J. Zyskowski        1   #local-in  27.616035  137.866669\n",
       "4  J. Zyskowski        1   #local-in  27.128998  129.816666"
      ]
     },
     "execution_count": 254,
     "metadata": {},
     "output_type": "execute_result"
    }
   ],
   "source": [
    "df.head()"
   ]
  },
  {
   "cell_type": "code",
   "execution_count": 235,
   "metadata": {},
   "outputs": [],
   "source": [
    "df[\"coord_x\"] = pd.to_numeric(df[\"coord_x\"], downcast=\"float\")\n",
    "df[\"coord_y\"] = pd.to_numeric(df[\"coord_y\"], downcast=\"float\")\n",
    "df[\"jornada\"] = pd.to_numeric(df[\"jornada\"], downcast=\"integer\")"
   ]
  },
  {
   "cell_type": "code",
   "execution_count": 236,
   "metadata": {},
   "outputs": [
    {
     "data": {
      "text/html": [
       "<div>\n",
       "<style scoped>\n",
       "    .dataframe tbody tr th:only-of-type {\n",
       "        vertical-align: middle;\n",
       "    }\n",
       "\n",
       "    .dataframe tbody tr th {\n",
       "        vertical-align: top;\n",
       "    }\n",
       "\n",
       "    .dataframe thead th {\n",
       "        text-align: right;\n",
       "    }\n",
       "</style>\n",
       "<table border=\"1\" class=\"dataframe\">\n",
       "  <thead>\n",
       "    <tr style=\"text-align: right;\">\n",
       "      <th></th>\n",
       "      <th>name</th>\n",
       "      <th>jornada</th>\n",
       "      <th>shot</th>\n",
       "      <th>coord_x</th>\n",
       "      <th>coord_y</th>\n",
       "    </tr>\n",
       "  </thead>\n",
       "  <tbody>\n",
       "    <tr>\n",
       "      <th>58</th>\n",
       "      <td>A. Doornekamp</td>\n",
       "      <td>1</td>\n",
       "      <td>#visitor-in</td>\n",
       "      <td>418.221130</td>\n",
       "      <td>35.733334</td>\n",
       "    </tr>\n",
       "    <tr>\n",
       "      <th>59</th>\n",
       "      <td>A. Doornekamp</td>\n",
       "      <td>1</td>\n",
       "      <td>#visitor-out</td>\n",
       "      <td>473.481323</td>\n",
       "      <td>134.466660</td>\n",
       "    </tr>\n",
       "    <tr>\n",
       "      <th>60</th>\n",
       "      <td>A. Doornekamp</td>\n",
       "      <td>1</td>\n",
       "      <td>#visitor-in</td>\n",
       "      <td>355.336945</td>\n",
       "      <td>203.533340</td>\n",
       "    </tr>\n",
       "    <tr>\n",
       "      <th>61</th>\n",
       "      <td>A. Doornekamp</td>\n",
       "      <td>1</td>\n",
       "      <td>#visitor-in</td>\n",
       "      <td>458.720306</td>\n",
       "      <td>259.466675</td>\n",
       "    </tr>\n",
       "    <tr>\n",
       "      <th>62</th>\n",
       "      <td>A. Doornekamp</td>\n",
       "      <td>1</td>\n",
       "      <td>#visitor-out</td>\n",
       "      <td>432.513855</td>\n",
       "      <td>249.300003</td>\n",
       "    </tr>\n",
       "    <tr>\n",
       "      <th>...</th>\n",
       "      <td>...</td>\n",
       "      <td>...</td>\n",
       "      <td>...</td>\n",
       "      <td>...</td>\n",
       "      <td>...</td>\n",
       "    </tr>\n",
       "    <tr>\n",
       "      <th>37280</th>\n",
       "      <td>T. Abromaitis</td>\n",
       "      <td>33</td>\n",
       "      <td>#visitor-out</td>\n",
       "      <td>454.243286</td>\n",
       "      <td>241.250000</td>\n",
       "    </tr>\n",
       "    <tr>\n",
       "      <th>37281</th>\n",
       "      <td>T. Abromaitis</td>\n",
       "      <td>33</td>\n",
       "      <td>#visitor-in</td>\n",
       "      <td>465.201660</td>\n",
       "      <td>165.216660</td>\n",
       "    </tr>\n",
       "    <tr>\n",
       "      <th>37282</th>\n",
       "      <td>T. Abromaitis</td>\n",
       "      <td>33</td>\n",
       "      <td>#visitor-in</td>\n",
       "      <td>471.683014</td>\n",
       "      <td>259.200012</td>\n",
       "    </tr>\n",
       "    <tr>\n",
       "      <th>37283</th>\n",
       "      <td>T. Abromaitis</td>\n",
       "      <td>33</td>\n",
       "      <td>#visitor-in</td>\n",
       "      <td>466.288116</td>\n",
       "      <td>158.116669</td>\n",
       "    </tr>\n",
       "    <tr>\n",
       "      <th>37284</th>\n",
       "      <td>T. Abromaitis</td>\n",
       "      <td>33</td>\n",
       "      <td>#visitor-out</td>\n",
       "      <td>464.583496</td>\n",
       "      <td>150.566666</td>\n",
       "    </tr>\n",
       "  </tbody>\n",
       "</table>\n",
       "<p>18602 rows × 5 columns</p>\n",
       "</div>"
      ],
      "text/plain": [
       "                 name  jornada          shot     coord_x     coord_y\n",
       "58      A. Doornekamp        1   #visitor-in  418.221130   35.733334\n",
       "59      A. Doornekamp        1  #visitor-out  473.481323  134.466660\n",
       "60      A. Doornekamp        1   #visitor-in  355.336945  203.533340\n",
       "61      A. Doornekamp        1   #visitor-in  458.720306  259.466675\n",
       "62      A. Doornekamp        1  #visitor-out  432.513855  249.300003\n",
       "...               ...      ...           ...         ...         ...\n",
       "37280   T. Abromaitis       33  #visitor-out  454.243286  241.250000\n",
       "37281   T. Abromaitis       33   #visitor-in  465.201660  165.216660\n",
       "37282   T. Abromaitis       33   #visitor-in  471.683014  259.200012\n",
       "37283   T. Abromaitis       33   #visitor-in  466.288116  158.116669\n",
       "37284   T. Abromaitis       33  #visitor-out  464.583496  150.566666\n",
       "\n",
       "[18602 rows x 5 columns]"
      ]
     },
     "execution_count": 236,
     "metadata": {},
     "output_type": "execute_result"
    }
   ],
   "source": [
    "df_visitor = df.loc[(df[\"shot\"] == \"#visitor-in\") | (df[\"shot\"] == \"#visitor-out\") | (df[\"shot\"] == \"#visitor-dunk\")]\n",
    "df_local = df.loc[(df[\"shot\"] == \"#local-in\") | (df[\"shot\"] == \"#local-out\") | (df[\"shot\"] == \"#local-dunk\")]\n",
    "df_visitor"
   ]
  },
  {
   "cell_type": "code",
   "execution_count": 237,
   "metadata": {},
   "outputs": [
    {
     "data": {
      "text/html": [
       "<div>\n",
       "<style scoped>\n",
       "    .dataframe tbody tr th:only-of-type {\n",
       "        vertical-align: middle;\n",
       "    }\n",
       "\n",
       "    .dataframe tbody tr th {\n",
       "        vertical-align: top;\n",
       "    }\n",
       "\n",
       "    .dataframe thead th {\n",
       "        text-align: right;\n",
       "    }\n",
       "</style>\n",
       "<table border=\"1\" class=\"dataframe\">\n",
       "  <thead>\n",
       "    <tr style=\"text-align: right;\">\n",
       "      <th></th>\n",
       "      <th>name</th>\n",
       "      <th>jornada</th>\n",
       "      <th>shot</th>\n",
       "      <th>coord_x</th>\n",
       "      <th>coord_y</th>\n",
       "    </tr>\n",
       "  </thead>\n",
       "  <tbody>\n",
       "    <tr>\n",
       "      <th>0</th>\n",
       "      <td>J. Zyskowski</td>\n",
       "      <td>1</td>\n",
       "      <td>#local-in</td>\n",
       "      <td>24.750000</td>\n",
       "      <td>126.416664</td>\n",
       "    </tr>\n",
       "    <tr>\n",
       "      <th>1</th>\n",
       "      <td>J. Zyskowski</td>\n",
       "      <td>1</td>\n",
       "      <td>#local-in</td>\n",
       "      <td>24.750000</td>\n",
       "      <td>23.883333</td>\n",
       "    </tr>\n",
       "    <tr>\n",
       "      <th>2</th>\n",
       "      <td>J. Zyskowski</td>\n",
       "      <td>1</td>\n",
       "      <td>#local-out</td>\n",
       "      <td>25.705345</td>\n",
       "      <td>23.883333</td>\n",
       "    </tr>\n",
       "    <tr>\n",
       "      <th>3</th>\n",
       "      <td>J. Zyskowski</td>\n",
       "      <td>1</td>\n",
       "      <td>#local-in</td>\n",
       "      <td>27.616035</td>\n",
       "      <td>137.866669</td>\n",
       "    </tr>\n",
       "    <tr>\n",
       "      <th>4</th>\n",
       "      <td>J. Zyskowski</td>\n",
       "      <td>1</td>\n",
       "      <td>#local-in</td>\n",
       "      <td>27.128998</td>\n",
       "      <td>129.816666</td>\n",
       "    </tr>\n",
       "    <tr>\n",
       "      <th>...</th>\n",
       "      <td>...</td>\n",
       "      <td>...</td>\n",
       "      <td>...</td>\n",
       "      <td>...</td>\n",
       "      <td>...</td>\n",
       "    </tr>\n",
       "    <tr>\n",
       "      <th>37218</th>\n",
       "      <td>A. Peters</td>\n",
       "      <td>33</td>\n",
       "      <td>#local-in</td>\n",
       "      <td>40.091721</td>\n",
       "      <td>150.550003</td>\n",
       "    </tr>\n",
       "    <tr>\n",
       "      <th>37219</th>\n",
       "      <td>A. Peters</td>\n",
       "      <td>33</td>\n",
       "      <td>#local-in</td>\n",
       "      <td>40.091721</td>\n",
       "      <td>129.183334</td>\n",
       "    </tr>\n",
       "    <tr>\n",
       "      <th>37220</th>\n",
       "      <td>A. Peters</td>\n",
       "      <td>33</td>\n",
       "      <td>#local-out</td>\n",
       "      <td>53.560219</td>\n",
       "      <td>167.133331</td>\n",
       "    </tr>\n",
       "    <tr>\n",
       "      <th>37221</th>\n",
       "      <td>A. Peters</td>\n",
       "      <td>33</td>\n",
       "      <td>#local-in</td>\n",
       "      <td>144.018311</td>\n",
       "      <td>211.366669</td>\n",
       "    </tr>\n",
       "    <tr>\n",
       "      <th>37222</th>\n",
       "      <td>A. Peters</td>\n",
       "      <td>33</td>\n",
       "      <td>#local-in</td>\n",
       "      <td>158.217361</td>\n",
       "      <td>66.650002</td>\n",
       "    </tr>\n",
       "  </tbody>\n",
       "</table>\n",
       "<p>18683 rows × 5 columns</p>\n",
       "</div>"
      ],
      "text/plain": [
       "                name  jornada        shot     coord_x     coord_y\n",
       "0       J. Zyskowski        1   #local-in   24.750000  126.416664\n",
       "1       J. Zyskowski        1   #local-in   24.750000   23.883333\n",
       "2       J. Zyskowski        1  #local-out   25.705345   23.883333\n",
       "3       J. Zyskowski        1   #local-in   27.616035  137.866669\n",
       "4       J. Zyskowski        1   #local-in   27.128998  129.816666\n",
       "...              ...      ...         ...         ...         ...\n",
       "37218      A. Peters       33   #local-in   40.091721  150.550003\n",
       "37219      A. Peters       33   #local-in   40.091721  129.183334\n",
       "37220      A. Peters       33  #local-out   53.560219  167.133331\n",
       "37221      A. Peters       33   #local-in  144.018311  211.366669\n",
       "37222      A. Peters       33   #local-in  158.217361   66.650002\n",
       "\n",
       "[18683 rows x 5 columns]"
      ]
     },
     "execution_count": 237,
     "metadata": {},
     "output_type": "execute_result"
    }
   ],
   "source": [
    "df_local"
   ]
  },
  {
   "cell_type": "code",
   "execution_count": 238,
   "metadata": {},
   "outputs": [
    {
     "name": "stderr",
     "output_type": "stream",
     "text": [
      "<ipython-input-238-7949a2647ac1>:1: SettingWithCopyWarning: \n",
      "A value is trying to be set on a copy of a slice from a DataFrame.\n",
      "Try using .loc[row_indexer,col_indexer] = value instead\n",
      "\n",
      "See the caveats in the documentation: https://pandas.pydata.org/pandas-docs/stable/user_guide/indexing.html#returning-a-view-versus-a-copy\n",
      "  df_visitor[\"coord_x\"] = abs(df_visitor[\"coord_x\"] - 513)\n"
     ]
    }
   ],
   "source": [
    "df_visitor[\"coord_x\"] = abs(df_visitor[\"coord_x\"] - 513)"
   ]
  },
  {
   "cell_type": "code",
   "execution_count": 239,
   "metadata": {},
   "outputs": [
    {
     "data": {
      "text/plain": [
       "name        object\n",
       "jornada       int8\n",
       "shot        object\n",
       "coord_x    float32\n",
       "coord_y    float32\n",
       "dtype: object"
      ]
     },
     "execution_count": 239,
     "metadata": {},
     "output_type": "execute_result"
    }
   ],
   "source": [
    "df_visitor.dtypes"
   ]
  },
  {
   "cell_type": "code",
   "execution_count": 240,
   "metadata": {},
   "outputs": [],
   "source": [
    "df = pd.concat([df_local, df_visitor])"
   ]
  },
  {
   "cell_type": "code",
   "execution_count": 241,
   "metadata": {},
   "outputs": [],
   "source": [
    "df[\"name\"] = df[\"name\"].str.strip()"
   ]
  },
  {
   "cell_type": "code",
   "execution_count": 242,
   "metadata": {},
   "outputs": [
    {
     "data": {
      "text/html": [
       "<div>\n",
       "<style scoped>\n",
       "    .dataframe tbody tr th:only-of-type {\n",
       "        vertical-align: middle;\n",
       "    }\n",
       "\n",
       "    .dataframe tbody tr th {\n",
       "        vertical-align: top;\n",
       "    }\n",
       "\n",
       "    .dataframe thead th {\n",
       "        text-align: right;\n",
       "    }\n",
       "</style>\n",
       "<table border=\"1\" class=\"dataframe\">\n",
       "  <thead>\n",
       "    <tr style=\"text-align: right;\">\n",
       "      <th></th>\n",
       "      <th>name</th>\n",
       "      <th>jornada</th>\n",
       "      <th>shot</th>\n",
       "      <th>coord_x</th>\n",
       "      <th>coord_y</th>\n",
       "    </tr>\n",
       "  </thead>\n",
       "  <tbody>\n",
       "    <tr>\n",
       "      <th>0</th>\n",
       "      <td>J. Zyskowski</td>\n",
       "      <td>1</td>\n",
       "      <td>#local-in</td>\n",
       "      <td>24.750000</td>\n",
       "      <td>126.416664</td>\n",
       "    </tr>\n",
       "    <tr>\n",
       "      <th>1</th>\n",
       "      <td>J. Zyskowski</td>\n",
       "      <td>1</td>\n",
       "      <td>#local-in</td>\n",
       "      <td>24.750000</td>\n",
       "      <td>23.883333</td>\n",
       "    </tr>\n",
       "    <tr>\n",
       "      <th>2</th>\n",
       "      <td>J. Zyskowski</td>\n",
       "      <td>1</td>\n",
       "      <td>#local-out</td>\n",
       "      <td>25.705345</td>\n",
       "      <td>23.883333</td>\n",
       "    </tr>\n",
       "    <tr>\n",
       "      <th>3</th>\n",
       "      <td>J. Zyskowski</td>\n",
       "      <td>1</td>\n",
       "      <td>#local-in</td>\n",
       "      <td>27.616035</td>\n",
       "      <td>137.866669</td>\n",
       "    </tr>\n",
       "    <tr>\n",
       "      <th>4</th>\n",
       "      <td>J. Zyskowski</td>\n",
       "      <td>1</td>\n",
       "      <td>#local-in</td>\n",
       "      <td>27.128998</td>\n",
       "      <td>129.816666</td>\n",
       "    </tr>\n",
       "    <tr>\n",
       "      <th>...</th>\n",
       "      <td>...</td>\n",
       "      <td>...</td>\n",
       "      <td>...</td>\n",
       "      <td>...</td>\n",
       "      <td>...</td>\n",
       "    </tr>\n",
       "    <tr>\n",
       "      <th>37280</th>\n",
       "      <td>T. Abromaitis</td>\n",
       "      <td>33</td>\n",
       "      <td>#visitor-out</td>\n",
       "      <td>58.756714</td>\n",
       "      <td>241.250000</td>\n",
       "    </tr>\n",
       "    <tr>\n",
       "      <th>37281</th>\n",
       "      <td>T. Abromaitis</td>\n",
       "      <td>33</td>\n",
       "      <td>#visitor-in</td>\n",
       "      <td>47.798340</td>\n",
       "      <td>165.216660</td>\n",
       "    </tr>\n",
       "    <tr>\n",
       "      <th>37282</th>\n",
       "      <td>T. Abromaitis</td>\n",
       "      <td>33</td>\n",
       "      <td>#visitor-in</td>\n",
       "      <td>41.316986</td>\n",
       "      <td>259.200012</td>\n",
       "    </tr>\n",
       "    <tr>\n",
       "      <th>37283</th>\n",
       "      <td>T. Abromaitis</td>\n",
       "      <td>33</td>\n",
       "      <td>#visitor-in</td>\n",
       "      <td>46.711884</td>\n",
       "      <td>158.116669</td>\n",
       "    </tr>\n",
       "    <tr>\n",
       "      <th>37284</th>\n",
       "      <td>T. Abromaitis</td>\n",
       "      <td>33</td>\n",
       "      <td>#visitor-out</td>\n",
       "      <td>48.416504</td>\n",
       "      <td>150.566666</td>\n",
       "    </tr>\n",
       "  </tbody>\n",
       "</table>\n",
       "<p>37285 rows × 5 columns</p>\n",
       "</div>"
      ],
      "text/plain": [
       "                name  jornada          shot    coord_x     coord_y\n",
       "0       J. Zyskowski        1     #local-in  24.750000  126.416664\n",
       "1       J. Zyskowski        1     #local-in  24.750000   23.883333\n",
       "2       J. Zyskowski        1    #local-out  25.705345   23.883333\n",
       "3       J. Zyskowski        1     #local-in  27.616035  137.866669\n",
       "4       J. Zyskowski        1     #local-in  27.128998  129.816666\n",
       "...              ...      ...           ...        ...         ...\n",
       "37280  T. Abromaitis       33  #visitor-out  58.756714  241.250000\n",
       "37281  T. Abromaitis       33   #visitor-in  47.798340  165.216660\n",
       "37282  T. Abromaitis       33   #visitor-in  41.316986  259.200012\n",
       "37283  T. Abromaitis       33   #visitor-in  46.711884  158.116669\n",
       "37284  T. Abromaitis       33  #visitor-out  48.416504  150.566666\n",
       "\n",
       "[37285 rows x 5 columns]"
      ]
     },
     "execution_count": 242,
     "metadata": {},
     "output_type": "execute_result"
    }
   ],
   "source": [
    "df"
   ]
  },
  {
   "cell_type": "code",
   "execution_count": 243,
   "metadata": {},
   "outputs": [
    {
     "data": {
      "text/plain": [
       "False    37032\n",
       "True       253\n",
       "Name: name, dtype: int64"
      ]
     },
     "execution_count": 243,
     "metadata": {},
     "output_type": "execute_result"
    }
   ],
   "source": [
    "df[\"name\"].str.contains(\"J. Dee\").value_counts()"
   ]
  },
  {
   "cell_type": "code",
   "execution_count": 245,
   "metadata": {},
   "outputs": [],
   "source": [
    "df.to_csv(\"./data/database_shots.csv\")"
   ]
  }
 ],
 "metadata": {
  "kernelspec": {
   "display_name": "ironhac",
   "language": "python",
   "name": "ironhac"
  },
  "language_info": {
   "codemirror_mode": {
    "name": "ipython",
    "version": 3
   },
   "file_extension": ".py",
   "mimetype": "text/x-python",
   "name": "python",
   "nbconvert_exporter": "python",
   "pygments_lexer": "ipython3",
   "version": "3.8.2"
  }
 },
 "nbformat": 4,
 "nbformat_minor": 2
}
