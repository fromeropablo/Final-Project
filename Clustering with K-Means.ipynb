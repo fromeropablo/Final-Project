{
 "cells": [
  {
   "cell_type": "code",
   "execution_count": 71,
   "metadata": {},
   "outputs": [],
   "source": [
    "#!pip install yellowbrick"
   ]
  },
  {
   "cell_type": "code",
   "execution_count": 39,
   "metadata": {},
   "outputs": [],
   "source": [
    "import pandas as pd\n",
    "from sklearn.cluster import KMeans\n",
    "import seaborn as sns\n",
    "import matplotlib.pyplot as plt\n",
    "import numpy as np\n",
    "from yellowbrick.cluster import KElbowVisualizer"
   ]
  },
  {
   "cell_type": "code",
   "execution_count": 148,
   "metadata": {},
   "outputs": [],
   "source": [
    "df = pd.read_csv(\"./data/final_data_per_minute.csv\")\n",
    "df.drop(columns = [\"Unnamed: 0\", \"#\"], inplace = True)"
   ]
  },
  {
   "cell_type": "code",
   "execution_count": 149,
   "metadata": {},
   "outputs": [],
   "source": [
    "df['HEIGHT'] = df['HEIGHT'].str.replace('-','.')\n",
    "df[\"HEIGHT\"] = pd.to_numeric(df[\"HEIGHT\"], downcast=\"float\")"
   ]
  },
  {
   "cell_type": "code",
   "execution_count": 150,
   "metadata": {},
   "outputs": [
    {
     "data": {
      "text/html": [
       "<div>\n",
       "<style scoped>\n",
       "    .dataframe tbody tr th:only-of-type {\n",
       "        vertical-align: middle;\n",
       "    }\n",
       "\n",
       "    .dataframe tbody tr th {\n",
       "        vertical-align: top;\n",
       "    }\n",
       "\n",
       "    .dataframe thead th {\n",
       "        text-align: right;\n",
       "    }\n",
       "</style>\n",
       "<table border=\"1\" class=\"dataframe\">\n",
       "  <thead>\n",
       "    <tr style=\"text-align: right;\">\n",
       "      <th></th>\n",
       "      <th>PLAYER_NAME</th>\n",
       "      <th>Team</th>\n",
       "      <th>GP</th>\n",
       "      <th>MIN</th>\n",
       "      <th>FGM</th>\n",
       "      <th>FGA</th>\n",
       "      <th>FG%</th>\n",
       "      <th>3PM</th>\n",
       "      <th>3PA</th>\n",
       "      <th>3P%</th>\n",
       "      <th>...</th>\n",
       "      <th>zona8_attempted</th>\n",
       "      <th>zona8_made</th>\n",
       "      <th>zona9_attempted</th>\n",
       "      <th>zona9_made</th>\n",
       "      <th>zona10_attempted</th>\n",
       "      <th>zona10_made</th>\n",
       "      <th>zona11_attempted</th>\n",
       "      <th>zona11_made</th>\n",
       "      <th>zona12_attempted</th>\n",
       "      <th>zona12_made</th>\n",
       "    </tr>\n",
       "  </thead>\n",
       "  <tbody>\n",
       "    <tr>\n",
       "      <th>0</th>\n",
       "      <td>A.J. Slaughter</td>\n",
       "      <td>GCN</td>\n",
       "      <td>22</td>\n",
       "      <td>24.3</td>\n",
       "      <td>0.2</td>\n",
       "      <td>0.4</td>\n",
       "      <td>484.0</td>\n",
       "      <td>0.1</td>\n",
       "      <td>0.2</td>\n",
       "      <td>402.0</td>\n",
       "      <td>...</td>\n",
       "      <td>32.0</td>\n",
       "      <td>13.0</td>\n",
       "      <td>16.0</td>\n",
       "      <td>7.0</td>\n",
       "      <td>8.0</td>\n",
       "      <td>5.0</td>\n",
       "      <td>5.0</td>\n",
       "      <td>4.0</td>\n",
       "      <td>3.0</td>\n",
       "      <td>1.0</td>\n",
       "    </tr>\n",
       "    <tr>\n",
       "      <th>1</th>\n",
       "      <td>Aaron Doornekamp</td>\n",
       "      <td>CAN</td>\n",
       "      <td>31</td>\n",
       "      <td>25.6</td>\n",
       "      <td>0.1</td>\n",
       "      <td>0.2</td>\n",
       "      <td>431.0</td>\n",
       "      <td>0.1</td>\n",
       "      <td>0.2</td>\n",
       "      <td>441.0</td>\n",
       "      <td>...</td>\n",
       "      <td>31.0</td>\n",
       "      <td>13.0</td>\n",
       "      <td>4.0</td>\n",
       "      <td>1.0</td>\n",
       "      <td>25.0</td>\n",
       "      <td>16.0</td>\n",
       "      <td>8.0</td>\n",
       "      <td>2.0</td>\n",
       "      <td>6.0</td>\n",
       "      <td>4.0</td>\n",
       "    </tr>\n",
       "    <tr>\n",
       "      <th>2</th>\n",
       "      <td>Aaron Jones</td>\n",
       "      <td>BBB</td>\n",
       "      <td>8</td>\n",
       "      <td>19.7</td>\n",
       "      <td>0.1</td>\n",
       "      <td>0.2</td>\n",
       "      <td>419.0</td>\n",
       "      <td>0.0</td>\n",
       "      <td>0.1</td>\n",
       "      <td>375.0</td>\n",
       "      <td>...</td>\n",
       "      <td>4.0</td>\n",
       "      <td>1.0</td>\n",
       "      <td>2.0</td>\n",
       "      <td>0.0</td>\n",
       "      <td>1.0</td>\n",
       "      <td>1.0</td>\n",
       "      <td>1.0</td>\n",
       "      <td>0.0</td>\n",
       "      <td>0.0</td>\n",
       "      <td>0.0</td>\n",
       "    </tr>\n",
       "    <tr>\n",
       "      <th>3</th>\n",
       "      <td>Achille Polonara</td>\n",
       "      <td>CAJ</td>\n",
       "      <td>31</td>\n",
       "      <td>26.7</td>\n",
       "      <td>0.2</td>\n",
       "      <td>0.3</td>\n",
       "      <td>478.0</td>\n",
       "      <td>0.1</td>\n",
       "      <td>0.2</td>\n",
       "      <td>352.0</td>\n",
       "      <td>...</td>\n",
       "      <td>39.0</td>\n",
       "      <td>12.0</td>\n",
       "      <td>7.0</td>\n",
       "      <td>3.0</td>\n",
       "      <td>14.0</td>\n",
       "      <td>3.0</td>\n",
       "      <td>5.0</td>\n",
       "      <td>3.0</td>\n",
       "      <td>2.0</td>\n",
       "      <td>1.0</td>\n",
       "    </tr>\n",
       "    <tr>\n",
       "      <th>4</th>\n",
       "      <td>Adam Hanga</td>\n",
       "      <td>FCB</td>\n",
       "      <td>31</td>\n",
       "      <td>16.1</td>\n",
       "      <td>0.1</td>\n",
       "      <td>0.2</td>\n",
       "      <td>578.0</td>\n",
       "      <td>0.1</td>\n",
       "      <td>0.1</td>\n",
       "      <td>541.0</td>\n",
       "      <td>...</td>\n",
       "      <td>19.0</td>\n",
       "      <td>9.0</td>\n",
       "      <td>2.0</td>\n",
       "      <td>2.0</td>\n",
       "      <td>6.0</td>\n",
       "      <td>3.0</td>\n",
       "      <td>2.0</td>\n",
       "      <td>1.0</td>\n",
       "      <td>5.0</td>\n",
       "      <td>1.0</td>\n",
       "    </tr>\n",
       "  </tbody>\n",
       "</table>\n",
       "<p>5 rows × 50 columns</p>\n",
       "</div>"
      ],
      "text/plain": [
       "        PLAYER_NAME Team  GP   MIN  FGM  FGA    FG%  3PM  3PA    3P%  ...  \\\n",
       "0    A.J. Slaughter  GCN  22  24.3  0.2  0.4  484.0  0.1  0.2  402.0  ...   \n",
       "1  Aaron Doornekamp  CAN  31  25.6  0.1  0.2  431.0  0.1  0.2  441.0  ...   \n",
       "2       Aaron Jones  BBB   8  19.7  0.1  0.2  419.0  0.0  0.1  375.0  ...   \n",
       "3  Achille Polonara  CAJ  31  26.7  0.2  0.3  478.0  0.1  0.2  352.0  ...   \n",
       "4        Adam Hanga  FCB  31  16.1  0.1  0.2  578.0  0.1  0.1  541.0  ...   \n",
       "\n",
       "   zona8_attempted  zona8_made  zona9_attempted  zona9_made  zona10_attempted  \\\n",
       "0             32.0        13.0             16.0         7.0               8.0   \n",
       "1             31.0        13.0              4.0         1.0              25.0   \n",
       "2              4.0         1.0              2.0         0.0               1.0   \n",
       "3             39.0        12.0              7.0         3.0              14.0   \n",
       "4             19.0         9.0              2.0         2.0               6.0   \n",
       "\n",
       "   zona10_made  zona11_attempted  zona11_made  zona12_attempted  zona12_made  \n",
       "0          5.0               5.0          4.0               3.0          1.0  \n",
       "1         16.0               8.0          2.0               6.0          4.0  \n",
       "2          1.0               1.0          0.0               0.0          0.0  \n",
       "3          3.0               5.0          3.0               2.0          1.0  \n",
       "4          3.0               2.0          1.0               5.0          1.0  \n",
       "\n",
       "[5 rows x 50 columns]"
      ]
     },
     "execution_count": 150,
     "metadata": {},
     "output_type": "execute_result"
    }
   ],
   "source": [
    "df.head()"
   ]
  },
  {
   "cell_type": "code",
   "execution_count": 151,
   "metadata": {},
   "outputs": [],
   "source": [
    "df.drop(columns = [\"FGM\", \"FGA\", \"FG%\", \"3PM\", \"3PA\", \"3P%\", \"FTM\", \"FTA\", \"FT%\"], inplace = True)"
   ]
  },
  {
   "cell_type": "code",
   "execution_count": 154,
   "metadata": {},
   "outputs": [
    {
     "data": {
      "text/plain": [
       "Index(['PLAYER_NAME', 'Team', 'GP', 'MIN', 'TOV', 'PF', 'ORB', 'DRB', 'REB',\n",
       "       'AST', 'STL', 'BLK', 'PTS', 'POS', 'HEIGHT', 'WEIGHT', 'AGE',\n",
       "       'zona1_attempted', 'zona1_made', 'zona2_attempted', 'zona2_made',\n",
       "       'zona3_attempted', 'zona3_made', 'zona4_attempted', 'zona4_made',\n",
       "       'zona5_attempted', 'zona5_made', 'zona6_attempted', 'zona6_made',\n",
       "       'zona7_attempted', 'zona7_made', 'zona8_attempted', 'zona8_made',\n",
       "       'zona9_attempted', 'zona9_made', 'zona10_attempted', 'zona10_made',\n",
       "       'zona11_attempted', 'zona11_made', 'zona12_attempted', 'zona12_made',\n",
       "       '% ZONA1', '% ZONA2', '% ZONA3', '% ZONA4', '% ZONA5', '% ZONA6',\n",
       "       '% ZONA7', '% ZONA8', '% ZONA9', '% ZONA10', '% ZONA11', '% ZONA12'],\n",
       "      dtype='object')"
      ]
     },
     "execution_count": 154,
     "metadata": {},
     "output_type": "execute_result"
    }
   ],
   "source": [
    "df.columns"
   ]
  },
  {
   "cell_type": "code",
   "execution_count": 153,
   "metadata": {},
   "outputs": [],
   "source": [
    "for i in range(1, 13):\n",
    "    df[f\"% ZONA{i}\"] = df[f\"zona{i}_made\"] / df[f\"zona{i}_attempted\"]"
   ]
  },
  {
   "cell_type": "code",
   "execution_count": 155,
   "metadata": {},
   "outputs": [],
   "source": [
    "delete_list = []\n",
    "for i in df.columns:\n",
    "    if \"zona\" in i:\n",
    "        delete_list.append(i)"
   ]
  },
  {
   "cell_type": "code",
   "execution_count": 156,
   "metadata": {},
   "outputs": [],
   "source": [
    "df.drop(columns = delete_list, inplace = True)"
   ]
  },
  {
   "cell_type": "code",
   "execution_count": null,
   "metadata": {},
   "outputs": [],
   "source": []
  },
  {
   "cell_type": "code",
   "execution_count": null,
   "metadata": {},
   "outputs": [],
   "source": []
  },
  {
   "cell_type": "code",
   "execution_count": null,
   "metadata": {},
   "outputs": [],
   "source": []
  },
  {
   "cell_type": "code",
   "execution_count": null,
   "metadata": {},
   "outputs": [],
   "source": []
  },
  {
   "cell_type": "code",
   "execution_count": null,
   "metadata": {},
   "outputs": [],
   "source": []
  },
  {
   "cell_type": "code",
   "execution_count": null,
   "metadata": {},
   "outputs": [],
   "source": []
  },
  {
   "cell_type": "code",
   "execution_count": null,
   "metadata": {},
   "outputs": [],
   "source": []
  },
  {
   "cell_type": "code",
   "execution_count": null,
   "metadata": {},
   "outputs": [],
   "source": []
  },
  {
   "cell_type": "code",
   "execution_count": 130,
   "metadata": {},
   "outputs": [],
   "source": [
    "shooters_list = []\n",
    "for i in df.columns:\n",
    "    if \"zona\" not in i:\n",
    "        delete_list.append(i)\n",
    "    elif \"ZONA\"  not in i:\n",
    "        shooters_list.append(i)"
   ]
  },
  {
   "cell_type": "code",
   "execution_count": 132,
   "metadata": {},
   "outputs": [
    {
     "ename": "KeyError",
     "evalue": "\"['zona1_attempted' 'zona1_made' 'zona2_attempted' 'zona2_made'\\n 'zona3_attempted' 'zona3_made' 'zona4_attempted' 'zona4_made'\\n 'zona5_attempted' 'zona5_made' 'zona6_attempted' 'zona6_made'\\n 'zona7_attempted' 'zona7_made' 'zona8_attempted' 'zona8_made'\\n 'zona9_attempted' 'zona9_made' 'zona10_attempted' 'zona10_made'\\n 'zona11_attempted' 'zona11_made' 'zona12_attempted' 'zona12_made'] not found in axis\"",
     "output_type": "error",
     "traceback": [
      "\u001b[0;31m---------------------------------------------------------------------------\u001b[0m",
      "\u001b[0;31mKeyError\u001b[0m                                  Traceback (most recent call last)",
      "\u001b[0;32m<ipython-input-132-07cbd86b8c7c>\u001b[0m in \u001b[0;36m<module>\u001b[0;34m\u001b[0m\n\u001b[0;32m----> 1\u001b[0;31m \u001b[0mshooters\u001b[0m \u001b[0;34m=\u001b[0m \u001b[0mdf\u001b[0m\u001b[0;34m.\u001b[0m\u001b[0mdrop\u001b[0m\u001b[0;34m(\u001b[0m\u001b[0mcolumns\u001b[0m \u001b[0;34m=\u001b[0m \u001b[0mshooters_list\u001b[0m\u001b[0;34m)\u001b[0m\u001b[0;34m\u001b[0m\u001b[0;34m\u001b[0m\u001b[0m\n\u001b[0m",
      "\u001b[0;32m~/miniconda3/envs/ironhack/lib/python3.8/site-packages/pandas/core/frame.py\u001b[0m in \u001b[0;36mdrop\u001b[0;34m(self, labels, axis, index, columns, level, inplace, errors)\u001b[0m\n\u001b[1;32m   4306\u001b[0m                 \u001b[0mweight\u001b[0m  \u001b[0;36m1.0\u001b[0m     \u001b[0;36m0.8\u001b[0m\u001b[0;34m\u001b[0m\u001b[0;34m\u001b[0m\u001b[0m\n\u001b[1;32m   4307\u001b[0m         \"\"\"\n\u001b[0;32m-> 4308\u001b[0;31m         return super().drop(\n\u001b[0m\u001b[1;32m   4309\u001b[0m             \u001b[0mlabels\u001b[0m\u001b[0;34m=\u001b[0m\u001b[0mlabels\u001b[0m\u001b[0;34m,\u001b[0m\u001b[0;34m\u001b[0m\u001b[0;34m\u001b[0m\u001b[0m\n\u001b[1;32m   4310\u001b[0m             \u001b[0maxis\u001b[0m\u001b[0;34m=\u001b[0m\u001b[0maxis\u001b[0m\u001b[0;34m,\u001b[0m\u001b[0;34m\u001b[0m\u001b[0;34m\u001b[0m\u001b[0m\n",
      "\u001b[0;32m~/miniconda3/envs/ironhack/lib/python3.8/site-packages/pandas/core/generic.py\u001b[0m in \u001b[0;36mdrop\u001b[0;34m(self, labels, axis, index, columns, level, inplace, errors)\u001b[0m\n\u001b[1;32m   4151\u001b[0m         \u001b[0;32mfor\u001b[0m \u001b[0maxis\u001b[0m\u001b[0;34m,\u001b[0m \u001b[0mlabels\u001b[0m \u001b[0;32min\u001b[0m \u001b[0maxes\u001b[0m\u001b[0;34m.\u001b[0m\u001b[0mitems\u001b[0m\u001b[0;34m(\u001b[0m\u001b[0;34m)\u001b[0m\u001b[0;34m:\u001b[0m\u001b[0;34m\u001b[0m\u001b[0;34m\u001b[0m\u001b[0m\n\u001b[1;32m   4152\u001b[0m             \u001b[0;32mif\u001b[0m \u001b[0mlabels\u001b[0m \u001b[0;32mis\u001b[0m \u001b[0;32mnot\u001b[0m \u001b[0;32mNone\u001b[0m\u001b[0;34m:\u001b[0m\u001b[0;34m\u001b[0m\u001b[0;34m\u001b[0m\u001b[0m\n\u001b[0;32m-> 4153\u001b[0;31m                 \u001b[0mobj\u001b[0m \u001b[0;34m=\u001b[0m \u001b[0mobj\u001b[0m\u001b[0;34m.\u001b[0m\u001b[0m_drop_axis\u001b[0m\u001b[0;34m(\u001b[0m\u001b[0mlabels\u001b[0m\u001b[0;34m,\u001b[0m \u001b[0maxis\u001b[0m\u001b[0;34m,\u001b[0m \u001b[0mlevel\u001b[0m\u001b[0;34m=\u001b[0m\u001b[0mlevel\u001b[0m\u001b[0;34m,\u001b[0m \u001b[0merrors\u001b[0m\u001b[0;34m=\u001b[0m\u001b[0merrors\u001b[0m\u001b[0;34m)\u001b[0m\u001b[0;34m\u001b[0m\u001b[0;34m\u001b[0m\u001b[0m\n\u001b[0m\u001b[1;32m   4154\u001b[0m \u001b[0;34m\u001b[0m\u001b[0m\n\u001b[1;32m   4155\u001b[0m         \u001b[0;32mif\u001b[0m \u001b[0minplace\u001b[0m\u001b[0;34m:\u001b[0m\u001b[0;34m\u001b[0m\u001b[0;34m\u001b[0m\u001b[0m\n",
      "\u001b[0;32m~/miniconda3/envs/ironhack/lib/python3.8/site-packages/pandas/core/generic.py\u001b[0m in \u001b[0;36m_drop_axis\u001b[0;34m(self, labels, axis, level, errors)\u001b[0m\n\u001b[1;32m   4186\u001b[0m                 \u001b[0mnew_axis\u001b[0m \u001b[0;34m=\u001b[0m \u001b[0maxis\u001b[0m\u001b[0;34m.\u001b[0m\u001b[0mdrop\u001b[0m\u001b[0;34m(\u001b[0m\u001b[0mlabels\u001b[0m\u001b[0;34m,\u001b[0m \u001b[0mlevel\u001b[0m\u001b[0;34m=\u001b[0m\u001b[0mlevel\u001b[0m\u001b[0;34m,\u001b[0m \u001b[0merrors\u001b[0m\u001b[0;34m=\u001b[0m\u001b[0merrors\u001b[0m\u001b[0;34m)\u001b[0m\u001b[0;34m\u001b[0m\u001b[0;34m\u001b[0m\u001b[0m\n\u001b[1;32m   4187\u001b[0m             \u001b[0;32melse\u001b[0m\u001b[0;34m:\u001b[0m\u001b[0;34m\u001b[0m\u001b[0;34m\u001b[0m\u001b[0m\n\u001b[0;32m-> 4188\u001b[0;31m                 \u001b[0mnew_axis\u001b[0m \u001b[0;34m=\u001b[0m \u001b[0maxis\u001b[0m\u001b[0;34m.\u001b[0m\u001b[0mdrop\u001b[0m\u001b[0;34m(\u001b[0m\u001b[0mlabels\u001b[0m\u001b[0;34m,\u001b[0m \u001b[0merrors\u001b[0m\u001b[0;34m=\u001b[0m\u001b[0merrors\u001b[0m\u001b[0;34m)\u001b[0m\u001b[0;34m\u001b[0m\u001b[0;34m\u001b[0m\u001b[0m\n\u001b[0m\u001b[1;32m   4189\u001b[0m             \u001b[0mresult\u001b[0m \u001b[0;34m=\u001b[0m \u001b[0mself\u001b[0m\u001b[0;34m.\u001b[0m\u001b[0mreindex\u001b[0m\u001b[0;34m(\u001b[0m\u001b[0;34m**\u001b[0m\u001b[0;34m{\u001b[0m\u001b[0maxis_name\u001b[0m\u001b[0;34m:\u001b[0m \u001b[0mnew_axis\u001b[0m\u001b[0;34m}\u001b[0m\u001b[0;34m)\u001b[0m\u001b[0;34m\u001b[0m\u001b[0;34m\u001b[0m\u001b[0m\n\u001b[1;32m   4190\u001b[0m \u001b[0;34m\u001b[0m\u001b[0m\n",
      "\u001b[0;32m~/miniconda3/envs/ironhack/lib/python3.8/site-packages/pandas/core/indexes/base.py\u001b[0m in \u001b[0;36mdrop\u001b[0;34m(self, labels, errors)\u001b[0m\n\u001b[1;32m   5589\u001b[0m         \u001b[0;32mif\u001b[0m \u001b[0mmask\u001b[0m\u001b[0;34m.\u001b[0m\u001b[0many\u001b[0m\u001b[0;34m(\u001b[0m\u001b[0;34m)\u001b[0m\u001b[0;34m:\u001b[0m\u001b[0;34m\u001b[0m\u001b[0;34m\u001b[0m\u001b[0m\n\u001b[1;32m   5590\u001b[0m             \u001b[0;32mif\u001b[0m \u001b[0merrors\u001b[0m \u001b[0;34m!=\u001b[0m \u001b[0;34m\"ignore\"\u001b[0m\u001b[0;34m:\u001b[0m\u001b[0;34m\u001b[0m\u001b[0;34m\u001b[0m\u001b[0m\n\u001b[0;32m-> 5591\u001b[0;31m                 \u001b[0;32mraise\u001b[0m \u001b[0mKeyError\u001b[0m\u001b[0;34m(\u001b[0m\u001b[0;34mf\"{labels[mask]} not found in axis\"\u001b[0m\u001b[0;34m)\u001b[0m\u001b[0;34m\u001b[0m\u001b[0;34m\u001b[0m\u001b[0m\n\u001b[0m\u001b[1;32m   5592\u001b[0m             \u001b[0mindexer\u001b[0m \u001b[0;34m=\u001b[0m \u001b[0mindexer\u001b[0m\u001b[0;34m[\u001b[0m\u001b[0;34m~\u001b[0m\u001b[0mmask\u001b[0m\u001b[0;34m]\u001b[0m\u001b[0;34m\u001b[0m\u001b[0;34m\u001b[0m\u001b[0m\n\u001b[1;32m   5593\u001b[0m         \u001b[0;32mreturn\u001b[0m \u001b[0mself\u001b[0m\u001b[0;34m.\u001b[0m\u001b[0mdelete\u001b[0m\u001b[0;34m(\u001b[0m\u001b[0mindexer\u001b[0m\u001b[0;34m)\u001b[0m\u001b[0;34m\u001b[0m\u001b[0;34m\u001b[0m\u001b[0m\n",
      "\u001b[0;31mKeyError\u001b[0m: \"['zona1_attempted' 'zona1_made' 'zona2_attempted' 'zona2_made'\\n 'zona3_attempted' 'zona3_made' 'zona4_attempted' 'zona4_made'\\n 'zona5_attempted' 'zona5_made' 'zona6_attempted' 'zona6_made'\\n 'zona7_attempted' 'zona7_made' 'zona8_attempted' 'zona8_made'\\n 'zona9_attempted' 'zona9_made' 'zona10_attempted' 'zona10_made'\\n 'zona11_attempted' 'zona11_made' 'zona12_attempted' 'zona12_made'] not found in axis\""
     ]
    }
   ],
   "source": [
    "shooters = df.drop(columns = shooters_list)"
   ]
  },
  {
   "cell_type": "code",
   "execution_count": null,
   "metadata": {},
   "outputs": [],
   "source": [
    "shooters = shooters[shooters[\"GP\"] > 7]"
   ]
  },
  {
   "cell_type": "code",
   "execution_count": 102,
   "metadata": {},
   "outputs": [],
   "source": [
    "shooters.fillna(0, inplace = True)"
   ]
  },
  {
   "cell_type": "code",
   "execution_count": 103,
   "metadata": {},
   "outputs": [],
   "source": [
    "s = shooters.drop(columns = [\"PLAYER_NAME\", \"Team\", \"GP\", \"POS\", \"WEIGHT\"])"
   ]
  },
  {
   "cell_type": "code",
   "execution_count": 104,
   "metadata": {},
   "outputs": [
    {
     "data": {
      "image/png": "[encoded data removed]",
      "text/plain": [
       "<Figure size 576x396 with 2 Axes>"
      ]
     },
     "metadata": {},
     "output_type": "display_data"
    },
    {
     "data": {
      "text/plain": [
       "<AxesSubplot:title={'center':'Distortion Score Elbow for KMeans Clustering'}, xlabel='k', ylabel='distortion score'>"
      ]
     },
     "execution_count": 104,
     "metadata": {},
     "output_type": "execute_result"
    }
   ],
   "source": [
    "model = KMeans()\n",
    "visualizer = KElbowVisualizer(model, k=(1,15))\n",
    "\n",
    "visualizer.fit(s)        # Fit the data to the visualizer\n",
    "visualizer.show()        # Finalize and render the figure"
   ]
  },
  {
   "cell_type": "code",
   "execution_count": 105,
   "metadata": {},
   "outputs": [],
   "source": [
    "nClust = 4\n",
    "km = KMeans(n_clusters=nClust, init='random', n_init=10, max_iter=500, tol=1e-04, random_state=0)\n",
    "y_km = km.fit_predict(s)\n",
    "\n"
   ]
  },
  {
   "cell_type": "code",
   "execution_count": 106,
   "metadata": {},
   "outputs": [],
   "source": [
    "shooters['Cluster'] = y_km"
   ]
  },
  {
   "cell_type": "code",
   "execution_count": 107,
   "metadata": {},
   "outputs": [],
   "source": [
    "shoot = shooters[[\"PLAYER_NAME\", \"Cluster\"]]"
   ]
  },
  {
   "cell_type": "code",
   "execution_count": 113,
   "metadata": {},
   "outputs": [
    {
     "name": "stdout",
     "output_type": "stream",
     "text": [
      "          PLAYER_NAME  Cluster\n",
      "6          Adams Sola        3\n",
      "8       Albert Oliver        3\n",
      "27          Alex Tyus        3\n",
      "30       Alvaro Munoz        3\n",
      "32      Andrew Albicy        3\n",
      "..                ...      ...\n",
      "348        Viny Okouo        3\n",
      "352   Volodymyr Herun        3\n",
      "360      Yankuba Sima        3\n",
      "363   Youssoupha Fall        3\n",
      "364  Youssoupha Ndoye        3\n",
      "\n",
      "[66 rows x 2 columns]\n"
     ]
    }
   ],
   "source": [
    "cluster1 = shoot.loc[prueba[\"Cluster\"] == 0]\n",
    "cluster2 = shoot.loc[prueba[\"Cluster\"] == 1]\n",
    "cluster3 = shoot.loc[prueba[\"Cluster\"] == 2]\n",
    "cluster4 = shoot.loc[prueba[\"Cluster\"] == 3]\n",
    "\n",
    "print(cluster4)\n",
    "\n"
   ]
  },
  {
   "cell_type": "code",
   "execution_count": null,
   "metadata": {},
   "outputs": [],
   "source": []
  },
  {
   "cell_type": "code",
   "execution_count": null,
   "metadata": {},
   "outputs": [],
   "source": []
  },
  {
   "cell_type": "code",
   "execution_count": null,
   "metadata": {},
   "outputs": [],
   "source": []
  },
  {
   "cell_type": "code",
   "execution_count": null,
   "metadata": {},
   "outputs": [],
   "source": []
  },
  {
   "cell_type": "code",
   "execution_count": null,
   "metadata": {},
   "outputs": [],
   "source": []
  },
  {
   "cell_type": "code",
   "execution_count": null,
   "metadata": {},
   "outputs": [],
   "source": []
  },
  {
   "cell_type": "code",
   "execution_count": 157,
   "metadata": {},
   "outputs": [],
   "source": [
    "df = df.loc[df[\"GP\"] > 7]"
   ]
  },
  {
   "cell_type": "code",
   "execution_count": 158,
   "metadata": {},
   "outputs": [],
   "source": [
    "df.fillna(0, inplace = True)"
   ]
  },
  {
   "cell_type": "code",
   "execution_count": 159,
   "metadata": {},
   "outputs": [
    {
     "data": {
      "text/html": [
       "<div>\n",
       "<style scoped>\n",
       "    .dataframe tbody tr th:only-of-type {\n",
       "        vertical-align: middle;\n",
       "    }\n",
       "\n",
       "    .dataframe tbody tr th {\n",
       "        vertical-align: top;\n",
       "    }\n",
       "\n",
       "    .dataframe thead th {\n",
       "        text-align: right;\n",
       "    }\n",
       "</style>\n",
       "<table border=\"1\" class=\"dataframe\">\n",
       "  <thead>\n",
       "    <tr style=\"text-align: right;\">\n",
       "      <th></th>\n",
       "      <th>PLAYER_NAME</th>\n",
       "      <th>Team</th>\n",
       "      <th>GP</th>\n",
       "      <th>MIN</th>\n",
       "      <th>TOV</th>\n",
       "      <th>PF</th>\n",
       "      <th>ORB</th>\n",
       "      <th>DRB</th>\n",
       "      <th>REB</th>\n",
       "      <th>AST</th>\n",
       "      <th>...</th>\n",
       "      <th>% ZONA3</th>\n",
       "      <th>% ZONA4</th>\n",
       "      <th>% ZONA5</th>\n",
       "      <th>% ZONA6</th>\n",
       "      <th>% ZONA7</th>\n",
       "      <th>% ZONA8</th>\n",
       "      <th>% ZONA9</th>\n",
       "      <th>% ZONA10</th>\n",
       "      <th>% ZONA11</th>\n",
       "      <th>% ZONA12</th>\n",
       "    </tr>\n",
       "  </thead>\n",
       "  <tbody>\n",
       "    <tr>\n",
       "      <th>0</th>\n",
       "      <td>A.J. Slaughter</td>\n",
       "      <td>GCN</td>\n",
       "      <td>22</td>\n",
       "      <td>24.3</td>\n",
       "      <td>0.1</td>\n",
       "      <td>0.1</td>\n",
       "      <td>0.0</td>\n",
       "      <td>0.1</td>\n",
       "      <td>0.1</td>\n",
       "      <td>0.2</td>\n",
       "      <td>...</td>\n",
       "      <td>0.285714</td>\n",
       "      <td>0.333333</td>\n",
       "      <td>0.375000</td>\n",
       "      <td>0.583333</td>\n",
       "      <td>0.473684</td>\n",
       "      <td>0.406250</td>\n",
       "      <td>0.437500</td>\n",
       "      <td>0.625000</td>\n",
       "      <td>0.80</td>\n",
       "      <td>0.333333</td>\n",
       "    </tr>\n",
       "    <tr>\n",
       "      <th>1</th>\n",
       "      <td>Aaron Doornekamp</td>\n",
       "      <td>CAN</td>\n",
       "      <td>31</td>\n",
       "      <td>25.6</td>\n",
       "      <td>0.0</td>\n",
       "      <td>0.1</td>\n",
       "      <td>0.0</td>\n",
       "      <td>0.1</td>\n",
       "      <td>0.1</td>\n",
       "      <td>0.0</td>\n",
       "      <td>...</td>\n",
       "      <td>0.375000</td>\n",
       "      <td>0.250000</td>\n",
       "      <td>0.448276</td>\n",
       "      <td>0.555556</td>\n",
       "      <td>0.363636</td>\n",
       "      <td>0.419355</td>\n",
       "      <td>0.250000</td>\n",
       "      <td>0.640000</td>\n",
       "      <td>0.25</td>\n",
       "      <td>0.666667</td>\n",
       "    </tr>\n",
       "    <tr>\n",
       "      <th>2</th>\n",
       "      <td>Aaron Jones</td>\n",
       "      <td>BBB</td>\n",
       "      <td>8</td>\n",
       "      <td>19.7</td>\n",
       "      <td>0.1</td>\n",
       "      <td>0.1</td>\n",
       "      <td>0.1</td>\n",
       "      <td>0.1</td>\n",
       "      <td>0.2</td>\n",
       "      <td>0.1</td>\n",
       "      <td>...</td>\n",
       "      <td>0.000000</td>\n",
       "      <td>0.000000</td>\n",
       "      <td>0.000000</td>\n",
       "      <td>0.333333</td>\n",
       "      <td>0.555556</td>\n",
       "      <td>0.250000</td>\n",
       "      <td>0.000000</td>\n",
       "      <td>1.000000</td>\n",
       "      <td>0.00</td>\n",
       "      <td>0.000000</td>\n",
       "    </tr>\n",
       "    <tr>\n",
       "      <th>3</th>\n",
       "      <td>Achille Polonara</td>\n",
       "      <td>CAJ</td>\n",
       "      <td>31</td>\n",
       "      <td>26.7</td>\n",
       "      <td>0.0</td>\n",
       "      <td>0.1</td>\n",
       "      <td>0.1</td>\n",
       "      <td>0.1</td>\n",
       "      <td>0.2</td>\n",
       "      <td>0.1</td>\n",
       "      <td>...</td>\n",
       "      <td>0.500000</td>\n",
       "      <td>0.333333</td>\n",
       "      <td>0.400000</td>\n",
       "      <td>0.477273</td>\n",
       "      <td>0.600000</td>\n",
       "      <td>0.307692</td>\n",
       "      <td>0.428571</td>\n",
       "      <td>0.214286</td>\n",
       "      <td>0.60</td>\n",
       "      <td>0.500000</td>\n",
       "    </tr>\n",
       "    <tr>\n",
       "      <th>4</th>\n",
       "      <td>Adam Hanga</td>\n",
       "      <td>FCB</td>\n",
       "      <td>31</td>\n",
       "      <td>16.1</td>\n",
       "      <td>0.1</td>\n",
       "      <td>0.1</td>\n",
       "      <td>0.0</td>\n",
       "      <td>0.2</td>\n",
       "      <td>0.2</td>\n",
       "      <td>0.1</td>\n",
       "      <td>...</td>\n",
       "      <td>0.500000</td>\n",
       "      <td>0.666667</td>\n",
       "      <td>0.650000</td>\n",
       "      <td>0.571429</td>\n",
       "      <td>0.642857</td>\n",
       "      <td>0.473684</td>\n",
       "      <td>1.000000</td>\n",
       "      <td>0.500000</td>\n",
       "      <td>0.50</td>\n",
       "      <td>0.200000</td>\n",
       "    </tr>\n",
       "    <tr>\n",
       "      <th>...</th>\n",
       "      <td>...</td>\n",
       "      <td>...</td>\n",
       "      <td>...</td>\n",
       "      <td>...</td>\n",
       "      <td>...</td>\n",
       "      <td>...</td>\n",
       "      <td>...</td>\n",
       "      <td>...</td>\n",
       "      <td>...</td>\n",
       "      <td>...</td>\n",
       "      <td>...</td>\n",
       "      <td>...</td>\n",
       "      <td>...</td>\n",
       "      <td>...</td>\n",
       "      <td>...</td>\n",
       "      <td>...</td>\n",
       "      <td>...</td>\n",
       "      <td>...</td>\n",
       "      <td>...</td>\n",
       "      <td>...</td>\n",
       "      <td>...</td>\n",
       "    </tr>\n",
       "    <tr>\n",
       "      <th>362</th>\n",
       "      <td>Yannick Nzosa</td>\n",
       "      <td>UNI</td>\n",
       "      <td>23</td>\n",
       "      <td>12.5</td>\n",
       "      <td>0.0</td>\n",
       "      <td>0.2</td>\n",
       "      <td>0.1</td>\n",
       "      <td>0.2</td>\n",
       "      <td>0.2</td>\n",
       "      <td>0.0</td>\n",
       "      <td>...</td>\n",
       "      <td>0.000000</td>\n",
       "      <td>0.000000</td>\n",
       "      <td>0.000000</td>\n",
       "      <td>0.708333</td>\n",
       "      <td>0.533333</td>\n",
       "      <td>0.000000</td>\n",
       "      <td>0.000000</td>\n",
       "      <td>0.000000</td>\n",
       "      <td>0.00</td>\n",
       "      <td>0.000000</td>\n",
       "    </tr>\n",
       "    <tr>\n",
       "      <th>363</th>\n",
       "      <td>Youssoupha Fall</td>\n",
       "      <td>CAJ</td>\n",
       "      <td>27</td>\n",
       "      <td>12.2</td>\n",
       "      <td>0.1</td>\n",
       "      <td>0.1</td>\n",
       "      <td>0.1</td>\n",
       "      <td>0.2</td>\n",
       "      <td>0.3</td>\n",
       "      <td>0.0</td>\n",
       "      <td>...</td>\n",
       "      <td>0.000000</td>\n",
       "      <td>0.000000</td>\n",
       "      <td>0.000000</td>\n",
       "      <td>0.586957</td>\n",
       "      <td>0.553191</td>\n",
       "      <td>0.000000</td>\n",
       "      <td>0.000000</td>\n",
       "      <td>0.000000</td>\n",
       "      <td>0.00</td>\n",
       "      <td>0.000000</td>\n",
       "    </tr>\n",
       "    <tr>\n",
       "      <th>364</th>\n",
       "      <td>Youssoupha Ndoye</td>\n",
       "      <td>BETIS</td>\n",
       "      <td>34</td>\n",
       "      <td>21.0</td>\n",
       "      <td>0.1</td>\n",
       "      <td>0.1</td>\n",
       "      <td>0.1</td>\n",
       "      <td>0.1</td>\n",
       "      <td>0.2</td>\n",
       "      <td>0.0</td>\n",
       "      <td>...</td>\n",
       "      <td>0.000000</td>\n",
       "      <td>0.615385</td>\n",
       "      <td>0.000000</td>\n",
       "      <td>0.569444</td>\n",
       "      <td>0.500000</td>\n",
       "      <td>0.500000</td>\n",
       "      <td>0.285714</td>\n",
       "      <td>0.000000</td>\n",
       "      <td>0.00</td>\n",
       "      <td>0.000000</td>\n",
       "    </tr>\n",
       "    <tr>\n",
       "      <th>366</th>\n",
       "      <td>Ziga Samar</td>\n",
       "      <td>MON</td>\n",
       "      <td>31</td>\n",
       "      <td>9.8</td>\n",
       "      <td>0.1</td>\n",
       "      <td>0.2</td>\n",
       "      <td>0.0</td>\n",
       "      <td>0.1</td>\n",
       "      <td>0.1</td>\n",
       "      <td>0.2</td>\n",
       "      <td>...</td>\n",
       "      <td>0.000000</td>\n",
       "      <td>0.250000</td>\n",
       "      <td>0.250000</td>\n",
       "      <td>0.470588</td>\n",
       "      <td>0.640000</td>\n",
       "      <td>0.428571</td>\n",
       "      <td>0.571429</td>\n",
       "      <td>0.000000</td>\n",
       "      <td>0.00</td>\n",
       "      <td>0.000000</td>\n",
       "    </tr>\n",
       "    <tr>\n",
       "      <th>367</th>\n",
       "      <td>Zoran Dragic</td>\n",
       "      <td>CAJ</td>\n",
       "      <td>29</td>\n",
       "      <td>17.9</td>\n",
       "      <td>0.1</td>\n",
       "      <td>0.1</td>\n",
       "      <td>0.0</td>\n",
       "      <td>0.1</td>\n",
       "      <td>0.1</td>\n",
       "      <td>0.0</td>\n",
       "      <td>...</td>\n",
       "      <td>0.200000</td>\n",
       "      <td>0.000000</td>\n",
       "      <td>0.391304</td>\n",
       "      <td>0.673913</td>\n",
       "      <td>0.648148</td>\n",
       "      <td>0.238095</td>\n",
       "      <td>0.333333</td>\n",
       "      <td>0.400000</td>\n",
       "      <td>0.00</td>\n",
       "      <td>0.500000</td>\n",
       "    </tr>\n",
       "  </tbody>\n",
       "</table>\n",
       "<p>284 rows × 29 columns</p>\n",
       "</div>"
      ],
      "text/plain": [
       "          PLAYER_NAME   Team  GP   MIN  TOV   PF  ORB  DRB  REB  AST  ...  \\\n",
       "0      A.J. Slaughter    GCN  22  24.3  0.1  0.1  0.0  0.1  0.1  0.2  ...   \n",
       "1    Aaron Doornekamp    CAN  31  25.6  0.0  0.1  0.0  0.1  0.1  0.0  ...   \n",
       "2         Aaron Jones    BBB   8  19.7  0.1  0.1  0.1  0.1  0.2  0.1  ...   \n",
       "3    Achille Polonara    CAJ  31  26.7  0.0  0.1  0.1  0.1  0.2  0.1  ...   \n",
       "4          Adam Hanga    FCB  31  16.1  0.1  0.1  0.0  0.2  0.2  0.1  ...   \n",
       "..                ...    ...  ..   ...  ...  ...  ...  ...  ...  ...  ...   \n",
       "362     Yannick Nzosa    UNI  23  12.5  0.0  0.2  0.1  0.2  0.2  0.0  ...   \n",
       "363   Youssoupha Fall    CAJ  27  12.2  0.1  0.1  0.1  0.2  0.3  0.0  ...   \n",
       "364  Youssoupha Ndoye  BETIS  34  21.0  0.1  0.1  0.1  0.1  0.2  0.0  ...   \n",
       "366        Ziga Samar    MON  31   9.8  0.1  0.2  0.0  0.1  0.1  0.2  ...   \n",
       "367      Zoran Dragic    CAJ  29  17.9  0.1  0.1  0.0  0.1  0.1  0.0  ...   \n",
       "\n",
       "      % ZONA3   % ZONA4   % ZONA5   % ZONA6   % ZONA7   % ZONA8   % ZONA9  \\\n",
       "0    0.285714  0.333333  0.375000  0.583333  0.473684  0.406250  0.437500   \n",
       "1    0.375000  0.250000  0.448276  0.555556  0.363636  0.419355  0.250000   \n",
       "2    0.000000  0.000000  0.000000  0.333333  0.555556  0.250000  0.000000   \n",
       "3    0.500000  0.333333  0.400000  0.477273  0.600000  0.307692  0.428571   \n",
       "4    0.500000  0.666667  0.650000  0.571429  0.642857  0.473684  1.000000   \n",
       "..        ...       ...       ...       ...       ...       ...       ...   \n",
       "362  0.000000  0.000000  0.000000  0.708333  0.533333  0.000000  0.000000   \n",
       "363  0.000000  0.000000  0.000000  0.586957  0.553191  0.000000  0.000000   \n",
       "364  0.000000  0.615385  0.000000  0.569444  0.500000  0.500000  0.285714   \n",
       "366  0.000000  0.250000  0.250000  0.470588  0.640000  0.428571  0.571429   \n",
       "367  0.200000  0.000000  0.391304  0.673913  0.648148  0.238095  0.333333   \n",
       "\n",
       "     % ZONA10  % ZONA11  % ZONA12  \n",
       "0    0.625000      0.80  0.333333  \n",
       "1    0.640000      0.25  0.666667  \n",
       "2    1.000000      0.00  0.000000  \n",
       "3    0.214286      0.60  0.500000  \n",
       "4    0.500000      0.50  0.200000  \n",
       "..        ...       ...       ...  \n",
       "362  0.000000      0.00  0.000000  \n",
       "363  0.000000      0.00  0.000000  \n",
       "364  0.000000      0.00  0.000000  \n",
       "366  0.000000      0.00  0.000000  \n",
       "367  0.400000      0.00  0.500000  \n",
       "\n",
       "[284 rows x 29 columns]"
      ]
     },
     "execution_count": 159,
     "metadata": {},
     "output_type": "execute_result"
    }
   ],
   "source": [
    "df"
   ]
  },
  {
   "cell_type": "code",
   "execution_count": 160,
   "metadata": {},
   "outputs": [],
   "source": [
    "triples = [1,3,5,8,10,12]\n",
    "mid_range = [2,4,9,11]\n",
    "paint = [6,7]\n",
    "for i in triples:\n",
    "    df[f\"% ZONA{i}\"] = df[f\"% ZONA{i}\"] * 1.5\n",
    "    \n",
    "for m in mid_range:\n",
    "    df[f\"% ZONA{m}\"] = df[f\"% ZONA{m}\"] * 1\n",
    "    \n",
    "for p in paint:\n",
    "    df[f\"% ZONA{p}\"] = df[f\"% ZONA{p}\"] * 0.5\n"
   ]
  },
  {
   "cell_type": "code",
   "execution_count": 161,
   "metadata": {},
   "outputs": [],
   "source": [
    "X = df.drop(columns = [\"PLAYER_NAME\", \"Team\", \"GP\", \"POS\", \"WEIGHT\", ])"
   ]
  },
  {
   "cell_type": "code",
   "execution_count": 203,
   "metadata": {},
   "outputs": [],
   "source": [
    "X = X.drop(columns = [\"AGE\"])"
   ]
  },
  {
   "cell_type": "code",
   "execution_count": 8,
   "metadata": {},
   "outputs": [],
   "source": [
    "correlation = df.corr()"
   ]
  },
  {
   "cell_type": "code",
   "execution_count": 204,
   "metadata": {},
   "outputs": [
    {
     "data": {
      "image/png": "[encoded data removed]",
      "text/plain": [
       "<Figure size 576x396 with 2 Axes>"
      ]
     },
     "metadata": {},
     "output_type": "display_data"
    },
    {
     "data": {
      "text/plain": [
       "<AxesSubplot:title={'center':'Distortion Score Elbow for KMeans Clustering'}, xlabel='k', ylabel='distortion score'>"
      ]
     },
     "execution_count": 204,
     "metadata": {},
     "output_type": "execute_result"
    }
   ],
   "source": [
    "model = KMeans()\n",
    "visualizer = KElbowVisualizer(model, k=(1,15))\n",
    "\n",
    "visualizer.fit(X)        # Fit the data to the visualizer\n",
    "visualizer.show()        # Finalize and render the figure"
   ]
  },
  {
   "cell_type": "code",
   "execution_count": null,
   "metadata": {},
   "outputs": [],
   "source": []
  },
  {
   "cell_type": "code",
   "execution_count": 205,
   "metadata": {},
   "outputs": [],
   "source": [
    "nClust = 12\n",
    "km = KMeans(n_clusters=nClust, init='random', n_init=10, random_state=0)\n",
    "y_km = km.fit_predict(X)\n",
    "\n"
   ]
  },
  {
   "cell_type": "code",
   "execution_count": 206,
   "metadata": {},
   "outputs": [
    {
     "data": {
      "text/plain": [
       "array([ 3,  7, 10,  7,  2, 10,  6,  2,  3, 10,  3,  3,  5,  4, 11,  2,  3,\n",
       "        1,  6,  6,  5,  9,  2,  0,  6,  9,  3,  1,  5,  4,  5,  0,  2,  6,\n",
       "        4,  5,  1, 10,  8,  1,  6,  6,  8,  2,  3,  0,  9,  6,  6,  9,  1,\n",
       "        3,  3,  7, 10,  1,  7,  8,  3,  9,  0,  3, 10,  5,  2,  1, 10,  8,\n",
       "       11, 10, 11,  8,  8,  5,  3,  3,  8,  4,  0,  8,  1,  4,  5,  9,  6,\n",
       "        2,  3,  0,  8,  1, 10,  1, 10, 10,  1,  1, 10,  3,  8,  3,  0,  0,\n",
       "        4,  1, 10,  1,  6,  9,  7,  3,  5,  5,  5,  6,  5,  5, 10, 10,  5,\n",
       "        7,  3, 10,  1,  3,  8,  6,  3,  6,  2,  7,  2,  3,  2,  8,  0, 11,\n",
       "        5,  3,  1,  5,  3,  2,  5,  9,  6,  9,  4,  4,  5,  5,  6, 10,  7,\n",
       "        5,  6,  1,  8,  5,  8, 10,  1,  2,  2,  7,  3,  3,  3,  5,  5,  6,\n",
       "       10,  0,  0, 10,  7,  6,  8,  9,  3,  3, 11,  2,  1, 10,  6,  4,  2,\n",
       "        9,  2,  8,  1,  1,  1,  7, 10,  9,  7,  1,  3,  1,  3,  9,  9,  0,\n",
       "        0,  5,  7,  5, 10,  3,  3,  7,  2,  2,  3,  8,  6,  2,  4,  1, 10,\n",
       "        4,  1,  5, 11,  2,  0,  0,  5,  5,  6,  9,  3,  5,  1,  8,  2,  8,\n",
       "        0,  3,  9,  0,  1,  0,  0,  1,  2,  3,  3,  8,  5,  8,  1,  8,  5,\n",
       "        5,  5,  8,  8,  1,  9,  8, 10,  5,  1, 10,  8,  8,  0, 10,  3,  1,\n",
       "        0,  2, 10,  7, 10,  5,  6,  0,  9,  1,  9,  8], dtype=int32)"
      ]
     },
     "execution_count": 206,
     "metadata": {},
     "output_type": "execute_result"
    }
   ],
   "source": [
    "y_km"
   ]
  },
  {
   "cell_type": "code",
   "execution_count": 195,
   "metadata": {},
   "outputs": [],
   "source": [
    "df['Cluster'] = y_km"
   ]
  },
  {
   "cell_type": "code",
   "execution_count": 196,
   "metadata": {},
   "outputs": [],
   "source": [
    "prueba = df[[\"PLAYER_NAME\", \"Cluster\"]]"
   ]
  },
  {
   "cell_type": "code",
   "execution_count": 201,
   "metadata": {},
   "outputs": [
    {
     "data": {
      "text/plain": [
       "['Alec Brown',\n",
       " 'Alex Abrines',\n",
       " 'Andrew Albicy',\n",
       " 'Augusto Lima',\n",
       " 'Bandja Sy',\n",
       " 'Bojan Dubljevic',\n",
       " 'Bruno Fitipaldo',\n",
       " 'Chris Czerapowicz',\n",
       " 'Cory Higgins',\n",
       " 'David Jelinek',\n",
       " 'Dejan Kravic',\n",
       " 'Edwin Jackson',\n",
       " 'Facundo Campazzo',\n",
       " 'Haukur Palsson',\n",
       " 'Jake Cohen',\n",
       " 'Jan Span',\n",
       " 'Jaroslaw Zyskowski',\n",
       " 'John Shurna',\n",
       " 'Johnny Dee',\n",
       " 'Ken Horton',\n",
       " 'Klemen Prepelic',\n",
       " 'Louis Labeyrie',\n",
       " 'Nemanja Radovic',\n",
       " 'Nicolas Laprovittola',\n",
       " 'Nikola Kalinic',\n",
       " 'Nikola Mirotic',\n",
       " 'Robin Benzing',\n",
       " 'Sadiel Rojas',\n",
       " 'Sasu Salin',\n",
       " 'Scott Eatherton',\n",
       " 'Sean Kilpatrick',\n",
       " 'Siim-Sander Vene',\n",
       " 'Stan Okoye',\n",
       " 'Tim Abromaitis',\n",
       " 'Tomas Dimsa',\n",
       " 'Trey Thompkins',\n",
       " 'B. Olumuyiwa',\n",
       " 'Yakuba Ouattara',\n",
       " 'Youssoupha Ndoye']"
      ]
     },
     "execution_count": 201,
     "metadata": {},
     "output_type": "execute_result"
    }
   ],
   "source": [
    "cluster1 = prueba.loc[prueba[\"Cluster\"] == 1]\n",
    "list(cluster1.PLAYER_NAME)"
   ]
  },
  {
   "cell_type": "code",
   "execution_count": 198,
   "metadata": {},
   "outputs": [
    {
     "data": {
      "text/plain": [
       "['Alec Peters',\n",
       " 'Angel Delgado',\n",
       " 'Arnoldas Kulboka',\n",
       " 'Frankie Ferrari',\n",
       " 'Frankie Ferrari',\n",
       " 'Frankie Ferrari',\n",
       " 'Frankie Ferrari',\n",
       " 'Gabriel Deck',\n",
       " 'Jaime Echenique',\n",
       " 'Jaime Fernandez',\n",
       " 'Jaime Fernandez',\n",
       " 'Jake Wiley',\n",
       " 'Jake Wiley',\n",
       " 'Jeremy Senglin',\n",
       " 'Jonathan Barreiro',\n",
       " 'Jordan Davis',\n",
       " 'Jovan Novak',\n",
       " 'Juan Vaulet',\n",
       " 'Kyle Alexander',\n",
       " 'Laurynas Birutis',\n",
       " 'Luca Vildoza',\n",
       " 'Ludde Hakanson',\n",
       " 'Makai Mason',\n",
       " 'Mike Daum',\n",
       " 'Nenad Dimitrijevic',\n",
       " 'Nenad Dimitrijevic',\n",
       " 'Oriol Pauli',\n",
       " 'Tyler Cavanaugh',\n",
       " 'Xabier Lopez-Arostegui']"
      ]
     },
     "execution_count": 198,
     "metadata": {},
     "output_type": "execute_result"
    }
   ],
   "source": [
    "cluster0 = prueba.loc[prueba[\"Cluster\"] == 0]\n",
    "list(cluster0.PLAYER_NAME)"
   ]
  },
  {
   "cell_type": "code",
   "execution_count": 199,
   "metadata": {},
   "outputs": [
    {
     "data": {
      "text/plain": [
       "['Adams Sola',\n",
       " 'Aleix Font',\n",
       " 'Arnau Parrado',\n",
       " 'Arturs Kurucs',\n",
       " 'Arturs Zagars',\n",
       " 'Boris Tisma',\n",
       " 'Boris Tisma',\n",
       " 'Emil Stoilov',\n",
       " 'Ibrahim Magassa',\n",
       " 'Jaime Pradilla',\n",
       " 'Javi Garcia',\n",
       " 'Josep Puerto',\n",
       " 'Jovan Kljajic',\n",
       " 'Jovan Kljajic',\n",
       " 'Khalifa Diop',\n",
       " 'Rafael Garcia',\n",
       " 'Sander Raieste',\n",
       " 'Tristan Vukcevic',\n",
       " 'Ziga Samar']"
      ]
     },
     "execution_count": 199,
     "metadata": {},
     "output_type": "execute_result"
    }
   ],
   "source": [
    "cluster2 = prueba.loc[prueba[\"Cluster\"] == 2]\n",
    "list(cluster2.PLAYER_NAME)"
   ]
  },
  {
   "cell_type": "code",
   "execution_count": 200,
   "metadata": {},
   "outputs": [
    {
     "data": {
      "text/plain": [
       "['Alex Reyes',\n",
       " 'Daniel Diez',\n",
       " 'Emir Sulejmanovic',\n",
       " 'Felipe Dos Anjos',\n",
       " 'Ilimane Diop',\n",
       " 'Jordan Sakho',\n",
       " 'Josh Sharma',\n",
       " 'Maksim Salash',\n",
       " 'Marques Townes',\n",
       " 'Martynas Sajus',\n",
       " 'Moses Kingsley',\n",
       " 'Nick Spires',\n",
       " 'Obi Enechionyia',\n",
       " 'Santiago Yusta',\n",
       " 'Shawn Dawson',\n",
       " 'Shevon Thompson',\n",
       " 'Volodymyr Herun',\n",
       " 'Yankuba Sima',\n",
       " 'Youssoupha Fall']"
      ]
     },
     "execution_count": 200,
     "metadata": {},
     "output_type": "execute_result"
    }
   ],
   "source": [
    "cluster3 = prueba.loc[prueba[\"Cluster\"] == 3]\n",
    "list(cluster3.PLAYER_NAME)"
   ]
  },
  {
   "cell_type": "code",
   "execution_count": null,
   "metadata": {},
   "outputs": [],
   "source": []
  },
  {
   "cell_type": "code",
   "execution_count": 193,
   "metadata": {},
   "outputs": [
    {
     "data": {
      "image/png": "[encoded data removed]",
      "text/plain": [
       "<Figure size 576x396 with 1 Axes>"
      ]
     },
     "metadata": {},
     "output_type": "display_data"
    }
   ],
   "source": [
    "\n",
    "# Visualization\n",
    "# Apply PCA for dimensionality reduction\n",
    "from sklearn.decomposition import PCA\n",
    "import matplotlib.pyplot as plt\n",
    "pca = PCA(n_components=2)\n",
    "principalComponents = pca.fit_transform(X)\n",
    "\n",
    "colormaps = [\"red\", \"orange\", \"yellow\", \"green\", \"blue\", \"black\", 'lightgreen','dodgerblue','navy','mediumpurple','pink','hotpink','oldlace','aqua','slategrey','palegreen','m','indianred','orchid']\n",
    "\n",
    "for iCluster in range(0, nClust):\n",
    "    plt.scatter(principalComponents[y_km == iCluster, 0], principalComponents[y_km == iCluster, 1], s=50, c=colormaps[iCluster],  label='cluster '+ str(iCluster))\n",
    "plt.legend(scatterpoints=1,loc='best')\n",
    "plt.grid()\n",
    "plt.show()"
   ]
  },
  {
   "cell_type": "code",
   "execution_count": 49,
   "metadata": {},
   "outputs": [
    {
     "data": {
      "text/plain": [
       "342"
      ]
     },
     "execution_count": 49,
     "metadata": {},
     "output_type": "execute_result"
    }
   ],
   "source": [
    "len(y_km)"
   ]
  },
  {
   "cell_type": "code",
   "execution_count": null,
   "metadata": {},
   "outputs": [],
   "source": []
  },
  {
   "cell_type": "code",
   "execution_count": null,
   "metadata": {},
   "outputs": [],
   "source": []
  },
  {
   "cell_type": "code",
   "execution_count": null,
   "metadata": {},
   "outputs": [],
   "source": []
  }
 ],
 "metadata": {
  "kernelspec": {
   "display_name": "ironhac",
   "language": "python",
   "name": "ironhac"
  },
  "language_info": {
   "codemirror_mode": {
    "name": "ipython",
    "version": 3
   },
   "file_extension": ".py",
   "mimetype": "text/x-python",
   "name": "python",
   "nbconvert_exporter": "python",
   "pygments_lexer": "ipython3",
   "version": "3.8.2"
  }
 },
 "nbformat": 4,
 "nbformat_minor": 2
}
