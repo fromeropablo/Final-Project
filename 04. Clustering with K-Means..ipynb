{
 "cells": [
  {
   "cell_type": "code",
   "execution_count": 2098,
   "metadata": {},
   "outputs": [],
   "source": [
    "import pandas as pd\n",
    "from sklearn.cluster import KMeans\n",
    "import seaborn as sns\n",
    "import matplotlib.pyplot as plt\n",
    "import numpy as np\n",
    "from yellowbrick.cluster import KElbowVisualizer"
   ]
  },
  {
   "cell_type": "code",
   "execution_count": 2099,
   "metadata": {},
   "outputs": [],
   "source": [
    "df = pd.read_csv(\"./data/final_average_stats.csv\")\n",
    "df.drop(columns = [\"Unnamed: 0\", \"#\"], inplace = True)"
   ]
  },
  {
   "cell_type": "code",
   "execution_count": 2100,
   "metadata": {},
   "outputs": [],
   "source": [
    "df.rename(columns = {\"Pos\": \"POS\", \"Height\": \"HEIGHT\", \"Weight\": \"WEIGHT\", \"Age\": \"AGE\", \"zona5attempted\": \"zona5_attempted\"}, inplace = True)"
   ]
  },
  {
   "cell_type": "code",
   "execution_count": 2101,
   "metadata": {},
   "outputs": [],
   "source": [
    "df['HEIGHT'] = df['HEIGHT'].str.replace('-','.')\n",
    "df[\"HEIGHT\"] = pd.to_numeric(df[\"HEIGHT\"], downcast=\"float\")\n",
    "df[\"HEIGHT\"] = df[\"HEIGHT\"] * 0.3048"
   ]
  },
  {
   "cell_type": "code",
   "execution_count": 2102,
   "metadata": {},
   "outputs": [
    {
     "data": {
      "text/html": [
       "<div>\n",
       "<style scoped>\n",
       "    .dataframe tbody tr th:only-of-type {\n",
       "        vertical-align: middle;\n",
       "    }\n",
       "\n",
       "    .dataframe tbody tr th {\n",
       "        vertical-align: top;\n",
       "    }\n",
       "\n",
       "    .dataframe thead th {\n",
       "        text-align: right;\n",
       "    }\n",
       "</style>\n",
       "<table border=\"1\" class=\"dataframe\">\n",
       "  <thead>\n",
       "    <tr style=\"text-align: right;\">\n",
       "      <th></th>\n",
       "      <th>PLAYER_NAME</th>\n",
       "      <th>Team</th>\n",
       "      <th>GP</th>\n",
       "      <th>MIN</th>\n",
       "      <th>FGM</th>\n",
       "      <th>FGA</th>\n",
       "      <th>FG%</th>\n",
       "      <th>3PM</th>\n",
       "      <th>3PA</th>\n",
       "      <th>3P%</th>\n",
       "      <th>...</th>\n",
       "      <th>zona8_attempted</th>\n",
       "      <th>zona8_made</th>\n",
       "      <th>zona9_attempted</th>\n",
       "      <th>zona9_made</th>\n",
       "      <th>zona10_attempted</th>\n",
       "      <th>zona10_made</th>\n",
       "      <th>zona11_attempted</th>\n",
       "      <th>zona11_made</th>\n",
       "      <th>zona12_attempted</th>\n",
       "      <th>zona12_made</th>\n",
       "    </tr>\n",
       "  </thead>\n",
       "  <tbody>\n",
       "    <tr>\n",
       "      <th>0</th>\n",
       "      <td>A.J. Slaughter</td>\n",
       "      <td>GCN</td>\n",
       "      <td>22</td>\n",
       "      <td>24.3</td>\n",
       "      <td>5.0</td>\n",
       "      <td>10.2</td>\n",
       "      <td>0.484</td>\n",
       "      <td>1.7</td>\n",
       "      <td>4.2</td>\n",
       "      <td>0.402</td>\n",
       "      <td>...</td>\n",
       "      <td>32.0</td>\n",
       "      <td>13.0</td>\n",
       "      <td>16.0</td>\n",
       "      <td>7.0</td>\n",
       "      <td>8.0</td>\n",
       "      <td>5.0</td>\n",
       "      <td>5.0</td>\n",
       "      <td>4.0</td>\n",
       "      <td>3.0</td>\n",
       "      <td>1.0</td>\n",
       "    </tr>\n",
       "    <tr>\n",
       "      <th>1</th>\n",
       "      <td>Aaron Doornekamp</td>\n",
       "      <td>CAN</td>\n",
       "      <td>31</td>\n",
       "      <td>25.6</td>\n",
       "      <td>2.6</td>\n",
       "      <td>6.1</td>\n",
       "      <td>0.431</td>\n",
       "      <td>2.0</td>\n",
       "      <td>4.6</td>\n",
       "      <td>0.441</td>\n",
       "      <td>...</td>\n",
       "      <td>31.0</td>\n",
       "      <td>13.0</td>\n",
       "      <td>4.0</td>\n",
       "      <td>1.0</td>\n",
       "      <td>25.0</td>\n",
       "      <td>16.0</td>\n",
       "      <td>8.0</td>\n",
       "      <td>2.0</td>\n",
       "      <td>6.0</td>\n",
       "      <td>4.0</td>\n",
       "    </tr>\n",
       "    <tr>\n",
       "      <th>2</th>\n",
       "      <td>Aaron Jones</td>\n",
       "      <td>BBB</td>\n",
       "      <td>8</td>\n",
       "      <td>19.7</td>\n",
       "      <td>1.6</td>\n",
       "      <td>3.9</td>\n",
       "      <td>0.419</td>\n",
       "      <td>0.4</td>\n",
       "      <td>1.0</td>\n",
       "      <td>0.375</td>\n",
       "      <td>...</td>\n",
       "      <td>4.0</td>\n",
       "      <td>1.0</td>\n",
       "      <td>2.0</td>\n",
       "      <td>0.0</td>\n",
       "      <td>1.0</td>\n",
       "      <td>1.0</td>\n",
       "      <td>1.0</td>\n",
       "      <td>0.0</td>\n",
       "      <td>0.0</td>\n",
       "      <td>0.0</td>\n",
       "    </tr>\n",
       "    <tr>\n",
       "      <th>3</th>\n",
       "      <td>Achille Polonara</td>\n",
       "      <td>CAJ</td>\n",
       "      <td>33</td>\n",
       "      <td>26.5</td>\n",
       "      <td>4.2</td>\n",
       "      <td>8.8</td>\n",
       "      <td>0.479</td>\n",
       "      <td>1.4</td>\n",
       "      <td>4.1</td>\n",
       "      <td>0.341</td>\n",
       "      <td>...</td>\n",
       "      <td>39.0</td>\n",
       "      <td>12.0</td>\n",
       "      <td>7.0</td>\n",
       "      <td>3.0</td>\n",
       "      <td>14.0</td>\n",
       "      <td>3.0</td>\n",
       "      <td>5.0</td>\n",
       "      <td>3.0</td>\n",
       "      <td>2.0</td>\n",
       "      <td>1.0</td>\n",
       "    </tr>\n",
       "    <tr>\n",
       "      <th>4</th>\n",
       "      <td>Adam Hanga</td>\n",
       "      <td>FCB</td>\n",
       "      <td>31</td>\n",
       "      <td>16.1</td>\n",
       "      <td>2.2</td>\n",
       "      <td>3.7</td>\n",
       "      <td>0.578</td>\n",
       "      <td>1.1</td>\n",
       "      <td>2.0</td>\n",
       "      <td>0.541</td>\n",
       "      <td>...</td>\n",
       "      <td>19.0</td>\n",
       "      <td>9.0</td>\n",
       "      <td>2.0</td>\n",
       "      <td>2.0</td>\n",
       "      <td>6.0</td>\n",
       "      <td>3.0</td>\n",
       "      <td>2.0</td>\n",
       "      <td>1.0</td>\n",
       "      <td>5.0</td>\n",
       "      <td>1.0</td>\n",
       "    </tr>\n",
       "  </tbody>\n",
       "</table>\n",
       "<p>5 rows × 50 columns</p>\n",
       "</div>"
      ],
      "text/plain": [
       "        PLAYER_NAME Team  GP   MIN  FGM   FGA    FG%  3PM  3PA    3P%  ...  \\\n",
       "0    A.J. Slaughter  GCN  22  24.3  5.0  10.2  0.484  1.7  4.2  0.402  ...   \n",
       "1  Aaron Doornekamp  CAN  31  25.6  2.6   6.1  0.431  2.0  4.6  0.441  ...   \n",
       "2       Aaron Jones  BBB   8  19.7  1.6   3.9  0.419  0.4  1.0  0.375  ...   \n",
       "3  Achille Polonara  CAJ  33  26.5  4.2   8.8  0.479  1.4  4.1  0.341  ...   \n",
       "4        Adam Hanga  FCB  31  16.1  2.2   3.7  0.578  1.1  2.0  0.541  ...   \n",
       "\n",
       "   zona8_attempted  zona8_made  zona9_attempted  zona9_made  zona10_attempted  \\\n",
       "0             32.0        13.0             16.0         7.0               8.0   \n",
       "1             31.0        13.0              4.0         1.0              25.0   \n",
       "2              4.0         1.0              2.0         0.0               1.0   \n",
       "3             39.0        12.0              7.0         3.0              14.0   \n",
       "4             19.0         9.0              2.0         2.0               6.0   \n",
       "\n",
       "   zona10_made  zona11_attempted  zona11_made  zona12_attempted  zona12_made  \n",
       "0          5.0               5.0          4.0               3.0          1.0  \n",
       "1         16.0               8.0          2.0               6.0          4.0  \n",
       "2          1.0               1.0          0.0               0.0          0.0  \n",
       "3          3.0               5.0          3.0               2.0          1.0  \n",
       "4          3.0               2.0          1.0               5.0          1.0  \n",
       "\n",
       "[5 rows x 50 columns]"
      ]
     },
     "execution_count": 2102,
     "metadata": {},
     "output_type": "execute_result"
    }
   ],
   "source": [
    "df.head()"
   ]
  },
  {
   "cell_type": "code",
   "execution_count": 2103,
   "metadata": {},
   "outputs": [
    {
     "data": {
      "text/plain": [
       "Index(['PLAYER_NAME', 'Team', 'GP', 'MIN', 'FGM', 'FGA', 'FG%', '3PM', '3PA',\n",
       "       '3P%', 'FTM', 'FTA', 'FT%', 'TOV', 'PF', 'ORB', 'DRB', 'REB', 'AST',\n",
       "       'STL', 'BLK', 'PTS', 'POS', 'HEIGHT', 'WEIGHT', 'AGE',\n",
       "       'zona1_attempted', 'zona1_made', 'zona2_attempted', 'zona2_made',\n",
       "       'zona3_attempted', 'zona3_made', 'zona4_attempted', 'zona4_made',\n",
       "       'zona5_attempted', 'zona5_made', 'zona6_attempted', 'zona6_made',\n",
       "       'zona7_attempted', 'zona7_made', 'zona8_attempted', 'zona8_made',\n",
       "       'zona9_attempted', 'zona9_made', 'zona10_attempted', 'zona10_made',\n",
       "       'zona11_attempted', 'zona11_made', 'zona12_attempted', 'zona12_made'],\n",
       "      dtype='object')"
      ]
     },
     "execution_count": 2103,
     "metadata": {},
     "output_type": "execute_result"
    }
   ],
   "source": [
    "df.columns"
   ]
  },
  {
   "cell_type": "code",
   "execution_count": 2087,
   "metadata": {},
   "outputs": [],
   "source": [
    "for i in range(1, 13):\n",
    "    df[f\"% ZONA{i}\"] = df[f\"zona{i}_made\"] / df[f\"zona{i}_attempted\"]"
   ]
  },
  {
   "cell_type": "code",
   "execution_count": 2104,
   "metadata": {},
   "outputs": [],
   "source": [
    "df = df.loc[df[\"GP\"] > 8]\n",
    "df = df.loc[df[\"MIN\"] > 10]"
   ]
  },
  {
   "cell_type": "code",
   "execution_count": 2105,
   "metadata": {},
   "outputs": [],
   "source": [
    "df.fillna(0, inplace = True)"
   ]
  },
  {
   "cell_type": "code",
   "execution_count": 2106,
   "metadata": {},
   "outputs": [],
   "source": [
    "df.drop_duplicates(subset = [\"PLAYER_NAME\"], inplace = True)"
   ]
  },
  {
   "cell_type": "code",
   "execution_count": 2107,
   "metadata": {},
   "outputs": [],
   "source": [
    "X = df.drop(columns = [\"PLAYER_NAME\", \"Team\", \"GP\", \"POS\", \"WEIGHT\", \"AGE\", \"MIN\",\"ORB\",\"DRB\",\"FGM\", \"FGA\",\"3PM\", \"3PA\",\"FTM\", \"FTA\"])"
   ]
  },
  {
   "cell_type": "markdown",
   "metadata": {},
   "source": [
    "### Hasta aquí todo bien"
   ]
  },
  {
   "cell_type": "code",
   "execution_count": 2108,
   "metadata": {},
   "outputs": [
    {
     "data": {
      "image/png": "[encoded data removed]",
      "text/plain": [
       "<Figure size 576x396 with 2 Axes>"
      ]
     },
     "metadata": {},
     "output_type": "display_data"
    },
    {
     "data": {
      "text/plain": [
       "<AxesSubplot:title={'center':'Distortion Score Elbow for KMeans Clustering'}, xlabel='k', ylabel='distortion score'>"
      ]
     },
     "execution_count": 2108,
     "metadata": {},
     "output_type": "execute_result"
    }
   ],
   "source": [
    "model = KMeans()\n",
    "visualizer = KElbowVisualizer(model, k=(1,15))\n",
    "\n",
    "visualizer.fit(X)        # Fit the data to the visualizer\n",
    "visualizer.show()        # Finalize and render the figure"
   ]
  },
  {
   "cell_type": "code",
   "execution_count": null,
   "metadata": {},
   "outputs": [],
   "source": []
  },
  {
   "cell_type": "code",
   "execution_count": 2109,
   "metadata": {},
   "outputs": [],
   "source": [
    "nClust = 4\n",
    "km = KMeans(n_clusters=nClust, init='random', n_init=10, random_state=0)\n",
    "y_km = km.fit_predict(X)\n",
    "\n"
   ]
  },
  {
   "cell_type": "code",
   "execution_count": 2110,
   "metadata": {},
   "outputs": [
    {
     "data": {
      "text/plain": [
       "array([1, 2, 1, 2, 2, 2, 2, 1, 2, 1, 1, 0, 2, 3, 1, 3, 2, 2, 2, 2, 1, 0,\n",
       "       0, 1, 3, 2, 3, 1, 2, 2, 0, 3, 2, 1, 2, 2, 1, 0, 1, 1, 2, 3, 2, 1,\n",
       "       1, 2, 2, 0, 2, 1, 2, 0, 3, 2, 0, 2, 0, 2, 2, 2, 3, 3, 3, 2, 2, 2,\n",
       "       2, 2, 1, 3, 1, 1, 3, 2, 0, 3, 2, 2, 2, 2, 2, 1, 3, 3, 3, 3, 0, 2,\n",
       "       1, 3, 0, 2, 2, 1, 1, 2, 1, 2, 2, 2, 1, 1, 2, 1, 3, 1, 1, 0, 2, 3,\n",
       "       2, 1, 1, 1, 2, 3, 1, 1, 3, 2, 2, 0, 2, 1, 1, 1, 1, 2, 2, 2, 3, 0,\n",
       "       3, 3, 3, 2, 0, 2, 3, 3, 2, 2, 3, 0, 0, 3, 3, 2, 1, 1, 3, 3, 3, 2,\n",
       "       2, 3, 1, 3, 3, 2, 1, 2, 1, 2, 3, 3, 2, 2, 2, 3, 1, 2, 3, 3, 2, 2,\n",
       "       2, 1, 2, 1, 0, 2, 2, 2, 1, 2, 3, 2, 2, 2, 3, 2, 1, 3, 2, 1, 2, 1,\n",
       "       2, 3, 2, 2, 1, 2, 3, 2, 3, 3, 3, 2, 2, 2, 3, 2, 0, 1, 3, 2, 2, 2,\n",
       "       2, 2, 3, 2, 3, 3, 3], dtype=int32)"
      ]
     },
     "execution_count": 2110,
     "metadata": {},
     "output_type": "execute_result"
    }
   ],
   "source": [
    "y_km"
   ]
  },
  {
   "cell_type": "code",
   "execution_count": 2111,
   "metadata": {},
   "outputs": [],
   "source": [
    "df['Cluster'] = y_km"
   ]
  },
  {
   "cell_type": "code",
   "execution_count": 2113,
   "metadata": {},
   "outputs": [],
   "source": [
    "df[\"Cluster\"] = df[\"Cluster\"].astype(str)"
   ]
  },
  {
   "cell_type": "code",
   "execution_count": 2119,
   "metadata": {},
   "outputs": [],
   "source": [
    "df[\"Cluster\"] = df[\"Cluster\"].str.replace(\"0\", \"Elite-Scorers\").str.replace(\"1\", \"Playmakers\").str.replace(\"2\", \"Role-Players\").str.replace(\"3\", \"Big-Guys\")\n"
   ]
  },
  {
   "cell_type": "code",
   "execution_count": 2120,
   "metadata": {},
   "outputs": [],
   "source": [
    "df.to_csv(\"./data/clusters.csv\")"
   ]
  },
  {
   "cell_type": "code",
   "execution_count": 2011,
   "metadata": {},
   "outputs": [
    {
     "data": {
      "image/png": "[encoded data removed]",
      "text/plain": [
       "<Figure size 576x396 with 1 Axes>"
      ]
     },
     "metadata": {},
     "output_type": "display_data"
    }
   ],
   "source": [
    "# Visualization\n",
    "# Apply PCA for dimensionality reduction\n",
    "from sklearn.decomposition import PCA\n",
    "import matplotlib.pyplot as plt\n",
    "pca = PCA(n_components=2)\n",
    "principalComponents = pca.fit_transform(X)\n",
    "\n",
    "colormaps = [\"red\", \"orange\", \"yellow\", \"green\", \"blue\", \"black\", 'lightgreen','dodgerblue','navy','mediumpurple','pink','hotpink','oldlace','aqua','slategrey','palegreen','m','indianred','orchid']\n",
    "\n",
    "for iCluster in range(0, nClust):\n",
    "    plt.scatter(principalComponents[y_km == iCluster, 0], principalComponents[y_km == iCluster, 1], s=50, c=colormaps[iCluster],  label='cluster '+ str(iCluster))\n",
    "plt.legend(scatterpoints=1,loc='best')\n",
    "plt.grid()\n",
    "plt.show()"
   ]
  }
 ],
 "metadata": {
  "kernelspec": {
   "display_name": "ironhac",
   "language": "python",
   "name": "ironhac"
  },
  "language_info": {
   "codemirror_mode": {
    "name": "ipython",
    "version": 3
   },
   "file_extension": ".py",
   "mimetype": "text/x-python",
   "name": "python",
   "nbconvert_exporter": "python",
   "pygments_lexer": "ipython3",
   "version": "3.8.2"
  }
 },
 "nbformat": 4,
 "nbformat_minor": 2
}
