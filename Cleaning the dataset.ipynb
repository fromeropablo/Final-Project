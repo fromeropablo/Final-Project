{
 "cells": [
  {
   "cell_type": "code",
   "execution_count": 198,
   "metadata": {},
   "outputs": [],
   "source": [
    "import pandas as pd\n",
    "import json\n",
    "import re"
   ]
  },
  {
   "cell_type": "code",
   "execution_count": 142,
   "metadata": {},
   "outputs": [],
   "source": [
    "df = pd.read_csv(\"shots_v1.csv\")"
   ]
  },
  {
   "cell_type": "code",
   "execution_count": 143,
   "metadata": {},
   "outputs": [],
   "source": [
    "df.rename(columns = {\"0\": \"Jornada\"}, inplace = True)\n",
    "df.drop(columns = [\"Unnamed: 0.1\", \"Unnamed: 0\"], inplace = True)"
   ]
  },
  {
   "cell_type": "code",
   "execution_count": 147,
   "metadata": {},
   "outputs": [
    {
     "data": {
      "text/plain": [
       "Jornada     int64\n",
       "1          object\n",
       "dtype: object"
      ]
     },
     "execution_count": 147,
     "metadata": {},
     "output_type": "execute_result"
    }
   ],
   "source": [
    "df.dtypes"
   ]
  },
  {
   "cell_type": "code",
   "execution_count": 149,
   "metadata": {},
   "outputs": [
    {
     "data": {
      "text/plain": [
       "29"
      ]
     },
     "execution_count": 149,
     "metadata": {},
     "output_type": "execute_result"
    }
   ],
   "source": [
    "len(df)"
   ]
  },
  {
   "cell_type": "code",
   "execution_count": 262,
   "metadata": {},
   "outputs": [],
   "source": [
    "length = []\n",
    "first = []\n",
    "for i in range(1, len(df)):\n",
    "    names = []\n",
    "    cosa = df.iloc[i]\n",
    "    hola = cosa[1]\n",
    "    p = re.compile('(?<!\\\\\\\\)\\'')\n",
    "    hola = p.sub('\\\"', hola)\n",
    "    otra = json.loads(hola)\n",
    "    shots = otra[0]\n",
    "    #getting the names\n",
    "    for k,v in shots.items():\n",
    "        length.append(len(v)//3)\n",
    "        first.append(k)\n",
    "    res_list = [length[i] * str(first[i] + \", \") for i in range(len(length))]\n",
    "    for i in range(len(res_list)):\n",
    "        primero = res_list[i].split(\",\")\n",
    "        for n in primero:\n",
    "            names.append(n)"
   ]
  },
  {
   "cell_type": "code",
   "execution_count": 263,
   "metadata": {},
   "outputs": [],
   "source": [
    "for elem in names:\n",
    "    if elem == \" \":\n",
    "        names.remove(elem)"
   ]
  },
  {
   "cell_type": "code",
   "execution_count": 264,
   "metadata": {},
   "outputs": [
    {
     "data": {
      "text/plain": [
       "31577"
      ]
     },
     "execution_count": 264,
     "metadata": {},
     "output_type": "execute_result"
    }
   ],
   "source": [
    "len(names)"
   ]
  },
  {
   "cell_type": "code",
   "execution_count": 249,
   "metadata": {},
   "outputs": [],
   "source": [
    "prueba = []\n",
    "for i in range(1, len(df)):\n",
    "    cosa = df.iloc[i]\n",
    "    hola = cosa[1]\n",
    "    p = re.compile('(?<!\\\\\\\\)\\'')\n",
    "    hola = p.sub('\\\"', hola)\n",
    "    otra = json.loads(hola)\n",
    "    shots = otra[0]\n",
    "    valores = list(shots.values())\n",
    "    for i in valores:\n",
    "        for n in i:\n",
    "            prueba.append(n)"
   ]
  },
  {
   "cell_type": "code",
   "execution_count": 251,
   "metadata": {},
   "outputs": [
    {
     "data": {
      "text/plain": [
       "94731"
      ]
     },
     "execution_count": 251,
     "metadata": {},
     "output_type": "execute_result"
    }
   ],
   "source": [
    "len(prueba)"
   ]
  },
  {
   "cell_type": "code",
   "execution_count": 77,
   "metadata": {},
   "outputs": [],
   "source": [
    "made = []\n",
    "for i in range(0, len(prueba), 3):\n",
    "    made.append(prueba[i])"
   ]
  },
  {
   "cell_type": "code",
   "execution_count": 74,
   "metadata": {},
   "outputs": [],
   "source": [
    "coord_x = []\n",
    "for i in range(1, len(prueba), 3):\n",
    "    coord_x.append(prueba[i])"
   ]
  },
  {
   "cell_type": "code",
   "execution_count": 76,
   "metadata": {},
   "outputs": [],
   "source": [
    "coord_y = []\n",
    "for i in range(2, len(prueba), 3):\n",
    "    coord_y.append(prueba[i])"
   ]
  },
  {
   "cell_type": "code",
   "execution_count": 115,
   "metadata": {},
   "outputs": [],
   "source": [
    "cositas = list(zip(names, made, coord_x, coord_y))"
   ]
  },
  {
   "cell_type": "code",
   "execution_count": 116,
   "metadata": {},
   "outputs": [],
   "source": [
    "df = pd.DataFrame(cositas)"
   ]
  },
  {
   "cell_type": "code",
   "execution_count": 117,
   "metadata": {},
   "outputs": [],
   "source": [
    "df.rename(columns = {0: \"name\", 1: \"shot\", 2: \"coord_x\", 3: \"coord_y\"}, inplace = True)"
   ]
  },
  {
   "cell_type": "code",
   "execution_count": 118,
   "metadata": {},
   "outputs": [],
   "source": [
    "for i in df.coord_x:\n",
    "    df.coord_x[i] = round(float(i), 2)"
   ]
  },
  {
   "cell_type": "code",
   "execution_count": 119,
   "metadata": {},
   "outputs": [
    {
     "data": {
      "text/html": [
       "<div>\n",
       "<style scoped>\n",
       "    .dataframe tbody tr th:only-of-type {\n",
       "        vertical-align: middle;\n",
       "    }\n",
       "\n",
       "    .dataframe tbody tr th {\n",
       "        vertical-align: top;\n",
       "    }\n",
       "\n",
       "    .dataframe thead th {\n",
       "        text-align: right;\n",
       "    }\n",
       "</style>\n",
       "<table border=\"1\" class=\"dataframe\">\n",
       "  <thead>\n",
       "    <tr style=\"text-align: right;\">\n",
       "      <th></th>\n",
       "      <th>name</th>\n",
       "      <th>shot</th>\n",
       "      <th>coord_x</th>\n",
       "      <th>coord_y</th>\n",
       "    </tr>\n",
       "  </thead>\n",
       "  <tbody>\n",
       "    <tr>\n",
       "      <th>0</th>\n",
       "      <td>J. Zyskowski</td>\n",
       "      <td>#local-in</td>\n",
       "      <td>24.75</td>\n",
       "      <td>126.41666666666667</td>\n",
       "    </tr>\n",
       "    <tr>\n",
       "      <th>1</th>\n",
       "      <td>J. Zyskowski</td>\n",
       "      <td>#local-in</td>\n",
       "      <td>24.75</td>\n",
       "      <td>23.883333333333333</td>\n",
       "    </tr>\n",
       "    <tr>\n",
       "      <th>2</th>\n",
       "      <td>J. Zyskowski</td>\n",
       "      <td>#local-out</td>\n",
       "      <td>25.705345316934725</td>\n",
       "      <td>23.883333333333333</td>\n",
       "    </tr>\n",
       "    <tr>\n",
       "      <th>3</th>\n",
       "      <td>J. Zyskowski</td>\n",
       "      <td>#local-in</td>\n",
       "      <td>27.616035950804164</td>\n",
       "      <td>137.86666666666667</td>\n",
       "    </tr>\n",
       "    <tr>\n",
       "      <th>4</th>\n",
       "      <td>J. Zyskowski</td>\n",
       "      <td>#local-in</td>\n",
       "      <td>27.12899716177862</td>\n",
       "      <td>129.81666666666666</td>\n",
       "    </tr>\n",
       "    <tr>\n",
       "      <th>...</th>\n",
       "      <td>...</td>\n",
       "      <td>...</td>\n",
       "      <td>...</td>\n",
       "      <td>...</td>\n",
       "    </tr>\n",
       "    <tr>\n",
       "      <th>1152</th>\n",
       "      <td>T. Hlinason</td>\n",
       "      <td>#visitor-in</td>\n",
       "      <td>443.35983916745505</td>\n",
       "      <td>113.03333333333333</td>\n",
       "    </tr>\n",
       "    <tr>\n",
       "      <th>1153</th>\n",
       "      <td>T. Hlinason</td>\n",
       "      <td>#visitor-in</td>\n",
       "      <td>465.7448912015137</td>\n",
       "      <td>128.63333333333333</td>\n",
       "    </tr>\n",
       "    <tr>\n",
       "      <th>1154</th>\n",
       "      <td>T. Hlinason</td>\n",
       "      <td>#visitor-in</td>\n",
       "      <td>454.3369441816462</td>\n",
       "      <td>130.41666666666669</td>\n",
       "    </tr>\n",
       "    <tr>\n",
       "      <th>1155</th>\n",
       "      <td>J. García</td>\n",
       "      <td>#visitor-in</td>\n",
       "      <td>349.30515610217594</td>\n",
       "      <td>87.93333333333334</td>\n",
       "    </tr>\n",
       "    <tr>\n",
       "      <th>1156</th>\n",
       "      <td>J. García</td>\n",
       "      <td>#visitor-out</td>\n",
       "      <td>427.9806527909177</td>\n",
       "      <td>252.23333333333332</td>\n",
       "    </tr>\n",
       "  </tbody>\n",
       "</table>\n",
       "<p>1157 rows × 4 columns</p>\n",
       "</div>"
      ],
      "text/plain": [
       "               name          shot             coord_x             coord_y\n",
       "0      J. Zyskowski     #local-in               24.75  126.41666666666667\n",
       "1      J. Zyskowski     #local-in               24.75  23.883333333333333\n",
       "2      J. Zyskowski    #local-out  25.705345316934725  23.883333333333333\n",
       "3      J. Zyskowski     #local-in  27.616035950804164  137.86666666666667\n",
       "4      J. Zyskowski     #local-in   27.12899716177862  129.81666666666666\n",
       "...             ...           ...                 ...                 ...\n",
       "1152    T. Hlinason   #visitor-in  443.35983916745505  113.03333333333333\n",
       "1153    T. Hlinason   #visitor-in   465.7448912015137  128.63333333333333\n",
       "1154    T. Hlinason   #visitor-in   454.3369441816462  130.41666666666669\n",
       "1155      J. García   #visitor-in  349.30515610217594   87.93333333333334\n",
       "1156      J. García  #visitor-out   427.9806527909177  252.23333333333332\n",
       "\n",
       "[1157 rows x 4 columns]"
      ]
     },
     "execution_count": 119,
     "metadata": {},
     "output_type": "execute_result"
    }
   ],
   "source": []
  },
  {
   "cell_type": "code",
   "execution_count": null,
   "metadata": {},
   "outputs": [],
   "source": []
  }
 ],
 "metadata": {
  "kernelspec": {
   "display_name": "ironhac",
   "language": "python",
   "name": "ironhac"
  },
  "language_info": {
   "codemirror_mode": {
    "name": "ipython",
    "version": 3
   },
   "file_extension": ".py",
   "mimetype": "text/x-python",
   "name": "python",
   "nbconvert_exporter": "python",
   "pygments_lexer": "ipython3",
   "version": "3.8.2"
  }
 },
 "nbformat": 4,
 "nbformat_minor": 2
}
