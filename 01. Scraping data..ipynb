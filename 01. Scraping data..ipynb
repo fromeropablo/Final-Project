{
 "cells": [
  {
   "cell_type": "code",
   "execution_count": 2,
   "metadata": {},
   "outputs": [],
   "source": [
    "from selenium import webdriver\n",
    "from selenium.webdriver.support.ui import Select\n",
    "import time\n",
    "import pandas as pd\n",
    "import json\n",
    "import src.scraping as sr\n",
    "import numpy as np"
   ]
  },
  {
   "cell_type": "markdown",
   "metadata": {},
   "source": [
    "### Getting the data from \"Jornada Virtual ACB\""
   ]
  },
  {
   "cell_type": "code",
   "execution_count": 2,
   "metadata": {},
   "outputs": [],
   "source": [
    "driver = webdriver.Chrome('./chromedriver')\n",
    "driver.maximize_window()\n",
    "driver.get('http://jv.acb.com/es/101266/cartadetiro')\n",
    "driver.implicitly_wait(10)"
   ]
  },
  {
   "cell_type": "code",
   "execution_count": 5,
   "metadata": {},
   "outputs": [],
   "source": [
    "final = sr.season(1, 34, driver)\n",
    "data_items = final.items()\n",
    "data_list = list(data_items)\n",
    "\n",
    "df = pd.DataFrame(data_list)"
   ]
  },
  {
   "cell_type": "code",
   "execution_count": 6,
   "metadata": {},
   "outputs": [
    {
     "data": {
      "text/html": [
       "<div>\n",
       "<style scoped>\n",
       "    .dataframe tbody tr th:only-of-type {\n",
       "        vertical-align: middle;\n",
       "    }\n",
       "\n",
       "    .dataframe tbody tr th {\n",
       "        vertical-align: top;\n",
       "    }\n",
       "\n",
       "    .dataframe thead th {\n",
       "        text-align: right;\n",
       "    }\n",
       "</style>\n",
       "<table border=\"1\" class=\"dataframe\">\n",
       "  <thead>\n",
       "    <tr style=\"text-align: right;\">\n",
       "      <th></th>\n",
       "      <th>0</th>\n",
       "      <th>1</th>\n",
       "    </tr>\n",
       "  </thead>\n",
       "  <tbody>\n",
       "    <tr>\n",
       "      <th>0</th>\n",
       "      <td>1</td>\n",
       "      <td>[{'A. Della Valle': ['#local-out', '104.418306...</td>\n",
       "    </tr>\n",
       "    <tr>\n",
       "      <th>1</th>\n",
       "      <td>2</td>\n",
       "      <td>[{'J. Zyskowski': ['#local-in', '24.75', '126....</td>\n",
       "    </tr>\n",
       "  </tbody>\n",
       "</table>\n",
       "</div>"
      ],
      "text/plain": [
       "   0                                                  1\n",
       "0  1  [{'A. Della Valle': ['#local-out', '104.418306...\n",
       "1  2  [{'J. Zyskowski': ['#local-in', '24.75', '126...."
      ]
     },
     "execution_count": 6,
     "metadata": {},
     "output_type": "execute_result"
    }
   ],
   "source": [
    "df.head()"
   ]
  },
  {
   "cell_type": "code",
   "execution_count": 227,
   "metadata": {},
   "outputs": [],
   "source": [
    "df.to_csv(\"./data/shots_v1.csv\")"
   ]
  },
  {
   "cell_type": "markdown",
   "metadata": {},
   "source": [
    "### Getting general data about every player."
   ]
  },
  {
   "cell_type": "code",
   "execution_count": 3,
   "metadata": {},
   "outputs": [],
   "source": [
    "# Choosing url[0], html[0], we will get general info. To get stats info, you have to use:\n",
    "# url[1], html[1] for averages stats\n",
    "# url[2], html[1] for per_minute stats\n",
    "# url[3], html[1] for per 40 stats\n",
    "\n",
    "url = ['https://basketball.realgm.com/international/league/4/Spanish-ACB/team/649/Acunsa-GBC/rosters/2021',\n",
    "       'https://basketball.realgm.com/international/league/4/Spanish-ACB/team/649/Acunsa-GBC/stats/2021/Averages/All/All',\n",
    "       'https://basketball.realgm.com/international/league/4/Spanish-ACB/team/649/Acunsa-GBC/stats/2021/Per_Minute/All/All/points/All/desc/1/Regular_Season',\n",
    "       'https://basketball.realgm.com/international/league/4/Spanish-ACB/team/649/Acunsa-GBC/stats/2021/Per_40/All/All/points/All/desc/1/Regular_Season'\n",
    "      ]\n",
    "\n",
    "html = [\"tablesaw.tablesaw-swipe.tablesaw-sortable\", \"tablesaw.compact.tablesaw-swipe\"]"
   ]
  },
  {
   "cell_type": "code",
   "execution_count": 4,
   "metadata": {},
   "outputs": [],
   "source": [
    "columns_name = sr.players_name(url[0], html[0])"
   ]
  },
  {
   "cell_type": "code",
   "execution_count": 6,
   "metadata": {},
   "outputs": [
    {
     "name": "stdout",
     "output_type": "stream",
     "text": [
      "starting loop on option /international/league/4/Spanish-ACB/team/23/Barca/rosters/2021\n",
      "starting loop on option /international/league/4/Spanish-ACB/team/473/BAXI-Manresa/rosters/2021\n",
      "starting loop on option /international/league/4/Spanish-ACB/team/129/Casademont-Zaragoza/rosters/2021\n",
      "starting loop on option /international/league/4/Spanish-ACB/team/16/Club-Joventut-Badalona/rosters/2021\n",
      "starting loop on option /international/league/4/Spanish-ACB/team/212/Coosur-Real-Betis/rosters/2021\n",
      "starting loop on option /international/league/4/Spanish-ACB/team/33/Herbalife-Gran-Canaria/rosters/2021\n",
      "starting loop on option /international/league/4/Spanish-ACB/team/1040/Hereda-San-Pablo-Burgos/rosters/2021\n",
      "starting loop on option /international/league/4/Spanish-ACB/team/1039/Iberostar-Tenerife/rosters/2021\n",
      "starting loop on option /international/league/4/Spanish-ACB/team/651/Monbus-Obradoiro/rosters/2021\n",
      "starting loop on option /international/league/4/Spanish-ACB/team/1028/MoraBanc-Andorra/rosters/2021\n",
      "starting loop on option /international/league/4/Spanish-ACB/team/32/Movistar-Estudiantes/rosters/2021\n",
      "starting loop on option /international/league/4/Spanish-ACB/team/52/Real-Madrid/rosters/2021\n",
      "starting loop on option /international/league/4/Spanish-ACB/team/342/RETAbet-Bilbao-Basket/rosters/2021\n",
      "starting loop on option /international/league/4/Spanish-ACB/team/18/TD-Systems-Baskonia/rosters/2021\n",
      "starting loop on option /international/league/4/Spanish-ACB/team/182/UCAM-Murcia-CB/rosters/2021\n",
      "starting loop on option /international/league/4/Spanish-ACB/team/43/Unicaja-Malaga/rosters/2021\n",
      "starting loop on option /international/league/4/Spanish-ACB/team/184/Urbas-Fuenlabrada/rosters/2021\n",
      "starting loop on option /international/league/4/Spanish-ACB/team/56/Valencia-Basket/rosters/2021\n"
     ]
    }
   ],
   "source": [
    "stats_list = sr.table_stats(url[0], html[0])"
   ]
  },
  {
   "cell_type": "code",
   "execution_count": 7,
   "metadata": {},
   "outputs": [],
   "source": [
    "general_final = np.array_split(stats_list,364)\n",
    "general_stats = pd.DataFrame(general_final, columns = columns_name)\n",
    "general_stats.drop(columns = [\"#\", \"Birth City\", \"NBA Draft Status\", \"Nationality\"], inplace = True)"
   ]
  },
  {
   "cell_type": "markdown",
   "metadata": {},
   "source": [
    "### Getting all the stats per minute of every player in this season (2020-21)."
   ]
  },
  {
   "cell_type": "code",
   "execution_count": 8,
   "metadata": {},
   "outputs": [],
   "source": [
    "#Getting the headers from stats in-game of every player. \n",
    "\n",
    "headers_player_stats = sr.players_name(url[2], html[1])"
   ]
  },
  {
   "cell_type": "code",
   "execution_count": null,
   "metadata": {},
   "outputs": [],
   "source": [
    "per_minute_stats = sr.table_stats(url[2], html[1])"
   ]
  },
  {
   "cell_type": "code",
   "execution_count": null,
   "metadata": {},
   "outputs": [],
   "source": [
    "#The result of \"no_players\" will be the number of players whose we have info about. \n",
    "\n",
    "no_players = len(per_minute_stats) / 23\n",
    "final = np.array_split(per_minute_stats, no_players)\n",
    "acb_dataset_per_minute = pd.DataFrame(final, columns = headers_player_stats)"
   ]
  },
  {
   "cell_type": "markdown",
   "metadata": {},
   "source": [
    "### Getting all the stats averaged of every player in this season (2020-21)."
   ]
  },
  {
   "cell_type": "code",
   "execution_count": null,
   "metadata": {},
   "outputs": [],
   "source": [
    "average_stats = sr.table_stats(url[1], html[1])"
   ]
  },
  {
   "cell_type": "code",
   "execution_count": null,
   "metadata": {},
   "outputs": [],
   "source": [
    "#The result of \"no_players\" will be the number of players whose we have info about. \n",
    "\n",
    "no_players = len(average_stats) / 23\n",
    "average_final = np.array_split(average_stats, no_players)\n",
    "average_stats = pd.DataFrame(average_final, columns = headers_player_stats)"
   ]
  },
  {
   "cell_type": "markdown",
   "metadata": {},
   "source": [
    "### Getting all the stats per 40 minute of every player in this season (2020-21)."
   ]
  },
  {
   "cell_type": "code",
   "execution_count": 28,
   "metadata": {},
   "outputs": [
    {
     "name": "stdout",
     "output_type": "stream",
     "text": [
      "starting loop on option /international/league/4/Spanish-ACB/team/649/Acunsa-GBC/stats/2021/Per_40/All/All/points/All/desc/1/Regular_Season\n",
      "starting loop on option /international/league/4/Spanish-ACB/team/23/Barca/stats/2021/Per_40/All/All/points/All/desc/1/Regular_Season\n",
      "starting loop on option /international/league/4/Spanish-ACB/team/473/BAXI-Manresa/stats/2021/Per_40/All/All/points/All/desc/1/Regular_Season\n",
      "starting loop on option /international/league/4/Spanish-ACB/team/129/Casademont-Zaragoza/stats/2021/Per_40/All/All/points/All/desc/1/Regular_Season\n",
      "starting loop on option /international/league/4/Spanish-ACB/team/16/Club-Joventut-Badalona/stats/2021/Per_40/All/All/points/All/desc/1/Regular_Season\n",
      "starting loop on option /international/league/4/Spanish-ACB/team/212/Coosur-Real-Betis/stats/2021/Per_40/All/All/points/All/desc/1/Regular_Season\n",
      "starting loop on option /international/league/4/Spanish-ACB/team/33/Herbalife-Gran-Canaria/stats/2021/Per_40/All/All/points/All/desc/1/Regular_Season\n",
      "starting loop on option /international/league/4/Spanish-ACB/team/1040/Hereda-San-Pablo-Burgos/stats/2021/Per_40/All/All/points/All/desc/1/Regular_Season\n",
      "starting loop on option /international/league/4/Spanish-ACB/team/1039/Iberostar-Tenerife/stats/2021/Per_40/All/All/points/All/desc/1/Regular_Season\n",
      "starting loop on option /international/league/4/Spanish-ACB/team/651/Monbus-Obradoiro/stats/2021/Per_40/All/All/points/All/desc/1/Regular_Season\n",
      "starting loop on option /international/league/4/Spanish-ACB/team/1028/MoraBanc-Andorra/stats/2021/Per_40/All/All/points/All/desc/1/Regular_Season\n",
      "starting loop on option /international/league/4/Spanish-ACB/team/32/Movistar-Estudiantes/stats/2021/Per_40/All/All/points/All/desc/1/Regular_Season\n",
      "starting loop on option /international/league/4/Spanish-ACB/team/52/Real-Madrid/stats/2021/Per_40/All/All/points/All/desc/1/Regular_Season\n",
      "starting loop on option /international/league/4/Spanish-ACB/team/342/RETAbet-Bilbao-Basket/stats/2021/Per_40/All/All/points/All/desc/1/Regular_Season\n",
      "starting loop on option /international/league/4/Spanish-ACB/team/18/TD-Systems-Baskonia/stats/2021/Per_40/All/All/points/All/desc/1/Regular_Season\n",
      "starting loop on option /international/league/4/Spanish-ACB/team/182/UCAM-Murcia-CB/stats/2021/Per_40/All/All/points/All/desc/1/Regular_Season\n",
      "starting loop on option /international/league/4/Spanish-ACB/team/43/Unicaja-Malaga/stats/2021/Per_40/All/All/points/All/desc/1/Regular_Season\n",
      "starting loop on option /international/league/4/Spanish-ACB/team/184/Urbas-Fuenlabrada/stats/2021/Per_40/All/All/points/All/desc/1/Regular_Season\n",
      "starting loop on option /international/league/4/Spanish-ACB/team/56/Valencia-Basket/stats/2021/Per_40/All/All/points/All/desc/1/Regular_Season\n"
     ]
    }
   ],
   "source": [
    "per40_stats = sr.table_stats(url[3], html[1])"
   ]
  },
  {
   "cell_type": "code",
   "execution_count": 29,
   "metadata": {},
   "outputs": [],
   "source": [
    "#The result of \"no_players\" will be the number of players whose we have info about. \n",
    "\n",
    "no_players = len(per40_stats) / 23\n",
    "per40_final = np.array_split(per40_stats, no_players)\n",
    "per40_stats = pd.DataFrame(per40_final, columns = headers_player_stats)"
   ]
  },
  {
   "cell_type": "markdown",
   "metadata": {},
   "source": [
    "### Merging general stats with stats tables"
   ]
  },
  {
   "cell_type": "code",
   "execution_count": null,
   "metadata": {},
   "outputs": [],
   "source": [
    "final_per_minute = acb_dataset_per_minute.merge(general_stats, how  = \"inner\", left_on = \"Player\", right_on = \"Player\")"
   ]
  },
  {
   "cell_type": "code",
   "execution_count": null,
   "metadata": {},
   "outputs": [],
   "source": [
    "final_per_minute.to_csv(\"./data/stats_per_minute.csv\")"
   ]
  },
  {
   "cell_type": "code",
   "execution_count": null,
   "metadata": {},
   "outputs": [],
   "source": [
    "final_average = average_stats.merge(general_stats, how  = \"inner\", left_on = \"Player\", right_on = \"Player\")"
   ]
  },
  {
   "cell_type": "code",
   "execution_count": null,
   "metadata": {},
   "outputs": [],
   "source": [
    "final_average.to_csv(\"./data/acb_stats.csv\")"
   ]
  },
  {
   "cell_type": "code",
   "execution_count": 30,
   "metadata": {},
   "outputs": [],
   "source": [
    "final_per40 = per40_stats.merge(general_stats, how  = \"inner\", left_on = \"Player\", right_on = \"Player\")\n",
    "final_per40.to_csv(\"./data/per40_stats.csv\")"
   ]
  }
 ],
 "metadata": {
  "kernelspec": {
   "display_name": "ironhac",
   "language": "python",
   "name": "ironhac"
  },
  "language_info": {
   "codemirror_mode": {
    "name": "ipython",
    "version": 3
   },
   "file_extension": ".py",
   "mimetype": "text/x-python",
   "name": "python",
   "nbconvert_exporter": "python",
   "pygments_lexer": "ipython3",
   "version": "3.8.2"
  }
 },
 "nbformat": 4,
 "nbformat_minor": 2
}
